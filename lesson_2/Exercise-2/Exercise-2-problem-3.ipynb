{
 "cells": [
  {
   "cell_type": "markdown",
   "metadata": {},
   "source": [
    "## Problem 3: How long distance individuals have travelled? (8 points)\n",
    "\n",
    "In this problem the aim is to calculate the distance in meters that the individuals have travelled according the social media posts (Euclidean distances between points). In this problem, we will need the `userid` -column an the points created in the previous problem. You will need the shapefile `Kruger_posts.shp` generated in Problem 2 as input file.\n",
    "\n",
    "Our goal is to answer these questions based on the input data:\n",
    "\n",
    " - What was the shortest distance travelled in meters?\n",
    " - What was the mean distance travelled in meters?\n",
    " - What was the maximum distance travelled in meters?\n",
    "\n",
    "**In your code, you should first:**\n",
    " - Import required modules\n",
    " - Read in the shapefile as a geodataframe called `data`"
   ]
  },
  {
   "cell_type": "code",
   "execution_count": 15,
   "metadata": {
    "deletable": false,
    "nbgrader": {
     "cell_type": "code",
     "checksum": "988845921e1467790d136a8aafbdcfb1",
     "grade": false,
     "grade_id": "read_data",
     "locked": false,
     "schema_version": 3,
     "solution": true
    }
   },
   "outputs": [],
   "source": [
    "# YOUR CODE HERE\n",
    "# raise NotImplementedError()\n",
    "import geopandas as gpd\n",
    "from shapely.geometry import LineString\n",
    "from pyproj import CRS\n",
    "import os, sys \n",
    "\n",
    "# Read shapefile data\n",
    "fp = 'data/Kruger_posts.shp'\n",
    "data = gpd.read_file(fp)"
   ]
  },
  {
   "cell_type": "markdown",
   "metadata": {},
   "source": [
    " - Check the crs of the input data. If this information is missing, set it as epsg:4326 (WGS84).\n",
    " - Reproject the data from WGS84 to `EPSG:32735` -projection which stands for UTM Zone 35S (UTM zone for South Africa) to transform the data into metric system. (don't create a new variable, update the existing variable `data`!)"
   ]
  },
  {
   "cell_type": "code",
   "execution_count": 6,
   "metadata": {
    "deletable": false,
    "nbgrader": {
     "cell_type": "code",
     "checksum": "2f08d863ddefcbdd535aaae138bde86c",
     "grade": false,
     "grade_id": "reproject",
     "locked": false,
     "schema_version": 3,
     "solution": true,
     "task": false
    }
   },
   "outputs": [
    {
     "name": "stdout",
     "output_type": "stream",
     "text": [
      "Original CRS the shapefile:epsg:32735\n"
     ]
    }
   ],
   "source": [
    "# YOUR CODE HERE\n",
    "# raise NotImplementedError()\n",
    "\n",
    "# Check CRS of dataframe\n",
    "print(f'Original CRS the shapefile: {data.crs}')\n",
    "\n",
    "# RE-project the geoDataFrame data\n",
    "sAfrica = CRS.from_epsg(32735) # define projection \n",
    "data = data.to_crs(sAfrica)"
   ]
  },
  {
   "cell_type": "code",
   "execution_count": 4,
   "metadata": {
    "deletable": false,
    "editable": false,
    "nbgrader": {
     "cell_type": "code",
     "checksum": "af7945d4a1fac737bc0d7da2d248bddb",
     "grade": true,
     "grade_id": "problem_3_gdp_test",
     "locked": true,
     "points": 0.5,
     "schema_version": 3,
     "solution": false
    }
   },
   "outputs": [
    {
     "name": "stdout",
     "output_type": "stream",
     "text": [
      "     userid        lat        lon         timestamp  \\\n",
      "0  66487960 -24.980792  31.484633  2015-07-07 03:02   \n",
      "1  65281761 -25.499225  31.508906  2015-07-07 03:18   \n",
      "2  90916112 -24.342578  30.930866  2015-03-07 03:38   \n",
      "3  37959089 -24.854614  31.519718  2015-10-07 05:04   \n",
      "4  27793716 -24.921069  31.520836  2015-10-07 05:19   \n",
      "\n",
      "                            geometry  \n",
      "0  POINT (-4695752.719 14973674.275)  \n",
      "1  POINT (-4748939.258 15014098.837)  \n",
      "2  POINT (-4672729.591 14859391.193)  \n",
      "3  POINT (-4679391.656 14969037.444)  \n",
      "4  POINT (-4686373.982 14973910.589)  \n"
     ]
    }
   ],
   "source": [
    "# NON-EDITABLE CODE CELL FOR TESTING YOUR SOLUTION\n",
    "print(data.head())"
   ]
  },
  {
   "cell_type": "code",
   "execution_count": 5,
   "metadata": {
    "deletable": false,
    "editable": false,
    "nbgrader": {
     "cell_type": "code",
     "checksum": "498786348a23b92458293547750fbad9",
     "grade": true,
     "grade_id": "problem_3_CRS_test",
     "locked": true,
     "points": 1.5,
     "schema_version": 3,
     "solution": false,
     "task": false
    }
   },
   "outputs": [
    {
     "name": "stdout",
     "output_type": "stream",
     "text": [
      "epsg:32735\n"
     ]
    }
   ],
   "source": [
    "# NON-EDITABLE CODE CELL FOR TESTING YOUR SOLUTION\n",
    "# Check that the crs is correct after re-projecting (should be epsg:32735)\n",
    "print(data.crs)"
   ]
  },
  {
   "cell_type": "markdown",
   "metadata": {},
   "source": [
    " - Group the data by userid column"
   ]
  },
  {
   "cell_type": "code",
   "execution_count": 29,
   "metadata": {
    "deletable": false,
    "nbgrader": {
     "cell_type": "code",
     "checksum": "6192e1b2610e7991dc92ac6665886bb3",
     "grade": false,
     "grade_id": "group_data",
     "locked": false,
     "schema_version": 3,
     "solution": true,
     "task": false
    }
   },
   "outputs": [
    {
     "name": "stdout",
     "output_type": "stream",
     "text": [
      "Group sorted \n",
      "       userid        lat        lon         timestamp  \\\n",
      "30535   16301 -24.759508  31.371200  2015-02-08 06:18   \n",
      "30770   16301 -24.749845  31.338317  2015-02-09 08:09   \n",
      "38235   16301 -24.995803  31.592000  2015-03-13 10:59   \n",
      "38232   16301 -24.791483  31.865172  2015-05-13 10:51   \n",
      "30512   16301 -24.760170  31.339430  2015-06-08 04:34   \n",
      "38909   16301 -25.102336  31.894695  2015-08-16 14:27   \n",
      "30545   16301 -24.774158  31.380342  2015-09-08 06:58   \n",
      "38911   16301 -24.985142  31.625662  2015-09-16 14:30   \n",
      "38913   16301 -25.122811  31.911867  2015-11-16 14:31   \n",
      "\n",
      "                                geometry  \n",
      "30535  POINT (-4681550.088 14943799.279)  \n",
      "30770  POINT (-4683233.102 14939015.568)  \n",
      "38235  POINT (-4688386.821 14988087.394)  \n",
      "38232  POINT (-4643987.777 15007357.316)  \n",
      "30512  POINT (-4684246.015 14939886.378)  \n",
      "38909  POINT (-4674277.458 15033193.770)  \n",
      "30545  POINT (-4682360.424 14945977.388)  \n",
      "38911  POINT (-4684442.069 14991502.196)  \n",
      "38913  POINT (-4674988.223 15036783.842)  \n",
      "\n",
      "Line Bounds: (-4688386.821327455, 14939015.567523926, -4643987.777498914, 15036783.841664288)\n"
     ]
    }
   ],
   "source": [
    "# YOUR CODE HERE\n",
    "# raise NotImplementedError()\n",
    "\n",
    "try:\n",
    "    # group data by 'userid'\n",
    "    grouped = data.groupby(by='userid')\n",
    "    # Specify the userid as key\n",
    "    u_id = 16301\n",
    "    group1 = grouped.get_group(u_id)\n",
    "    group1_sorted = group1.sort_values(by=['timestamp'])\n",
    "    # let's see what we have\n",
    "    print(f'Group sorted: \\n{group1_sorted}')\n",
    "    # Create line object from group1_sorted\n",
    "    line = LineString(list(group1_sorted['geometry']))\n",
    "    # print line bounds\n",
    "    print(f'\\nLine Bounds: {line.bounds}')\n",
    "except:\n",
    "    raise NotImplementedError()"
   ]
  },
  {
   "cell_type": "markdown",
   "metadata": {},
   "source": [
    "**Let's check what do we have in the grouped variable**"
   ]
  },
  {
   "cell_type": "code",
   "execution_count": 30,
   "metadata": {
    "deletable": false,
    "editable": false,
    "nbgrader": {
     "cell_type": "code",
     "checksum": "ec8a3931cb867faa117f893813b4b205",
     "grade": true,
     "grade_id": "problem_3_grouped_test",
     "locked": true,
     "points": 0.5,
     "schema_version": 3,
     "solution": false,
     "task": false
    }
   },
   "outputs": [],
   "source": [
    "# NON-EDITABLE CODE CELL FOR TESTING YOUR SOLUTION\n",
    "assert len(grouped.groups) == data[\"userid\"].nunique(), \"Number of groups should match number of unique users!\""
   ]
  },
  {
   "cell_type": "markdown",
   "metadata": {},
   "source": [
    "**Then:**\n",
    "- Create an empty GeoDataFrame called `movements`\n",
    "- Create a for-loop where you iterate over the grouped object. For each user's data: \n",
    "    - [sort](http://pandas.pydata.org/pandas-docs/stable/generated/pandas.DataFrame.sort_values.html) the rows by timestamp \n",
    "    - create a LineString object based on the user's points\n",
    "    - add the geometry and the userid into the `movements` dataframe (one userid per row). You can achieve this either by using the `.at` indexer, or the `append` method. See hints for more help.\n",
    "- Set the CRS of the ``movements`` GeoDataFrame as ``EPSG:32735`` "
   ]
  },
  {
   "cell_type": "code",
   "execution_count": 34,
   "metadata": {
    "deletable": false,
    "nbgrader": {
     "cell_type": "code",
     "checksum": "474c18c655461eeae34816f4a8c79b95",
     "grade": false,
     "grade_id": "create_lines",
     "locked": false,
     "schema_version": 3,
     "solution": true
    }
   },
   "outputs": [
    {
     "name": "stdout",
     "output_type": "stream",
     "text": [
      "Wall time: 42.6 s\n"
     ]
    }
   ],
   "source": [
    "%%time\n",
    "# YOUR CODE HERE\n",
    "# raise NotImplementedError()\n",
    "\n",
    "# define columns for the empty GeoDataFrame: Create dictionary \n",
    "d = {'geometry': [], 'userid': []}\n",
    "# Create an empty geoDataFrame\n",
    "movements = gpd.GeoDataFrame(data= d)\n",
    "try:\n",
    "    for key, group in grouped:\n",
    "        if len(group) >=2: # select only groups that contain at least 2 points to create line\n",
    "            # sorted group by 'timestamp'\n",
    "            group.sort_values(by=['timestamp'])\n",
    "            line = LineString(list(group['geometry']))\n",
    "            movements.at[key, 'userid'] = int(key)\n",
    "            movements.at[key, 'geometry'] = line        \n",
    "except:\n",
    "    raise NotImplementedError()"
   ]
  },
  {
   "cell_type": "code",
   "execution_count": 35,
   "metadata": {
    "deletable": false,
    "editable": false,
    "nbgrader": {
     "cell_type": "code",
     "checksum": "93faad3176849406a2f5eee31d3a8e91",
     "grade": true,
     "grade_id": "problem_3_movements_tests",
     "locked": true,
     "points": 3,
     "schema_version": 3,
     "solution": false,
     "task": false
    }
   },
   "outputs": [
    {
     "data": {
      "text/html": [
       "<div>\n",
       "<style scoped>\n",
       "    .dataframe tbody tr th:only-of-type {\n",
       "        vertical-align: middle;\n",
       "    }\n",
       "\n",
       "    .dataframe tbody tr th {\n",
       "        vertical-align: top;\n",
       "    }\n",
       "\n",
       "    .dataframe thead th {\n",
       "        text-align: right;\n",
       "    }\n",
       "</style>\n",
       "<table border=\"1\" class=\"dataframe\">\n",
       "  <thead>\n",
       "    <tr style=\"text-align: right;\">\n",
       "      <th></th>\n",
       "      <th>geometry</th>\n",
       "      <th>userid</th>\n",
       "    </tr>\n",
       "  </thead>\n",
       "  <tbody>\n",
       "    <tr>\n",
       "      <th>16301</th>\n",
       "      <td>LINESTRING (-4684246.015 14939886.378, -468155...</td>\n",
       "      <td>16301.0</td>\n",
       "    </tr>\n",
       "    <tr>\n",
       "      <th>45136</th>\n",
       "      <td>LINESTRING (-4770692.230 14940874.449, -477069...</td>\n",
       "      <td>45136.0</td>\n",
       "    </tr>\n",
       "    <tr>\n",
       "      <th>50136</th>\n",
       "      <td>LINESTRING (-4687987.866 14987928.782, -468073...</td>\n",
       "      <td>50136.0</td>\n",
       "    </tr>\n",
       "    <tr>\n",
       "      <th>88775</th>\n",
       "      <td>LINESTRING (-4773713.345 14938272.132, -477371...</td>\n",
       "      <td>88775.0</td>\n",
       "    </tr>\n",
       "    <tr>\n",
       "      <th>88918</th>\n",
       "      <td>LINESTRING (-4699374.159 14988142.858, -468798...</td>\n",
       "      <td>88918.0</td>\n",
       "    </tr>\n",
       "  </tbody>\n",
       "</table>\n",
       "</div>"
      ],
      "text/plain": [
       "                                                geometry   userid\n",
       "16301  LINESTRING (-4684246.015 14939886.378, -468155...  16301.0\n",
       "45136  LINESTRING (-4770692.230 14940874.449, -477069...  45136.0\n",
       "50136  LINESTRING (-4687987.866 14987928.782, -468073...  50136.0\n",
       "88775  LINESTRING (-4773713.345 14938272.132, -477371...  88775.0\n",
       "88918  LINESTRING (-4699374.159 14988142.858, -468798...  88918.0"
      ]
     },
     "execution_count": 35,
     "metadata": {},
     "output_type": "execute_result"
    }
   ],
   "source": [
    "# NON-EDITABLE CODE CELL FOR TESTING YOUR SOLUTION\n",
    "movements.head()"
   ]
  },
  {
   "cell_type": "markdown",
   "metadata": {},
   "source": [
    "**Finally:**\n",
    "- Check once the crs definition of your dataframe (should be epsg:32735, define the correct crs if this information is missing)\n",
    "- Calculate the lenghts of the lines into a new column called ``distance`` in ``movements`` GeoDataFrame."
   ]
  },
  {
   "cell_type": "code",
   "execution_count": 37,
   "metadata": {
    "deletable": false,
    "nbgrader": {
     "cell_type": "code",
     "checksum": "62a930ec9c24c5520f9a28db361e8090",
     "grade": false,
     "grade_id": "calculate_distance",
     "locked": false,
     "schema_version": 3,
     "solution": true
    }
   },
   "outputs": [
    {
     "name": "stdout",
     "output_type": "stream",
     "text": [
      "epsg:32735\n"
     ]
    }
   ],
   "source": [
    "# YOUR CODE HERE\n",
    "# raise NotImplementedError()\n",
    "\n",
    "# Re-projecting CRS of movement GeoDataFrame\n",
    "try:\n",
    "    movements.set_crs(epsg= 32735, inplace=True)\n",
    "    print(movements.crs)\n",
    "except:\n",
    "    raise NotImplementedError()\n",
    "\n"
   ]
  },
  {
   "cell_type": "code",
   "execution_count": 38,
   "metadata": {
    "deletable": false,
    "editable": false,
    "nbgrader": {
     "cell_type": "code",
     "checksum": "4cc148908d9a6ab5b7e83b51dcc3bf6a",
     "grade": true,
     "grade_id": "problem_3_distances_test",
     "locked": true,
     "points": 2,
     "schema_version": 3,
     "solution": false,
     "task": false
    }
   },
   "outputs": [
    {
     "data": {
      "text/html": [
       "<div>\n",
       "<style scoped>\n",
       "    .dataframe tbody tr th:only-of-type {\n",
       "        vertical-align: middle;\n",
       "    }\n",
       "\n",
       "    .dataframe tbody tr th {\n",
       "        vertical-align: top;\n",
       "    }\n",
       "\n",
       "    .dataframe thead th {\n",
       "        text-align: right;\n",
       "    }\n",
       "</style>\n",
       "<table border=\"1\" class=\"dataframe\">\n",
       "  <thead>\n",
       "    <tr style=\"text-align: right;\">\n",
       "      <th></th>\n",
       "      <th>geometry</th>\n",
       "      <th>userid</th>\n",
       "    </tr>\n",
       "  </thead>\n",
       "  <tbody>\n",
       "    <tr>\n",
       "      <th>16301</th>\n",
       "      <td>LINESTRING (-4684246.015 14939886.378, -468155...</td>\n",
       "      <td>16301.0</td>\n",
       "    </tr>\n",
       "    <tr>\n",
       "      <th>45136</th>\n",
       "      <td>LINESTRING (-4770692.230 14940874.449, -477069...</td>\n",
       "      <td>45136.0</td>\n",
       "    </tr>\n",
       "    <tr>\n",
       "      <th>50136</th>\n",
       "      <td>LINESTRING (-4687987.866 14987928.782, -468073...</td>\n",
       "      <td>50136.0</td>\n",
       "    </tr>\n",
       "    <tr>\n",
       "      <th>88775</th>\n",
       "      <td>LINESTRING (-4773713.345 14938272.132, -477371...</td>\n",
       "      <td>88775.0</td>\n",
       "    </tr>\n",
       "    <tr>\n",
       "      <th>88918</th>\n",
       "      <td>LINESTRING (-4699374.159 14988142.858, -468798...</td>\n",
       "      <td>88918.0</td>\n",
       "    </tr>\n",
       "  </tbody>\n",
       "</table>\n",
       "</div>"
      ],
      "text/plain": [
       "                                                geometry   userid\n",
       "16301  LINESTRING (-4684246.015 14939886.378, -468155...  16301.0\n",
       "45136  LINESTRING (-4770692.230 14940874.449, -477069...  45136.0\n",
       "50136  LINESTRING (-4687987.866 14987928.782, -468073...  50136.0\n",
       "88775  LINESTRING (-4773713.345 14938272.132, -477371...  88775.0\n",
       "88918  LINESTRING (-4699374.159 14988142.858, -468798...  88918.0"
      ]
     },
     "execution_count": 38,
     "metadata": {},
     "output_type": "execute_result"
    }
   ],
   "source": [
    "# NON-EDITABLE CODE CELL FOR TESTING YOUR SOLUTION\n",
    "movements.head()"
   ]
  },
  {
   "cell_type": "markdown",
   "metadata": {
    "deletable": false,
    "editable": false,
    "nbgrader": {
     "cell_type": "markdown",
     "checksum": "318c1e1c021eda696ae482bbd26ef9da",
     "grade": false,
     "grade_id": "questions",
     "locked": true,
     "schema_version": 3,
     "solution": false
    }
   },
   "source": [
    "You should now be able to print answers to the following questions: \n",
    "\n",
    " - What was the shortest distance travelled in meters?\n",
    " - What was the mean distance travelled in meters?\n",
    " - What was the maximum distance travelled in meters?"
   ]
  },
  {
   "cell_type": "code",
   "execution_count": 41,
   "metadata": {},
   "outputs": [
    {
     "name": "stdout",
     "output_type": "stream",
     "text": [
      "Max distance travelled was: 5486426.02 meters\n",
      "Min distance travelled was: 0.0 meters\n",
      "Mean distance travelled was 90256.51 meters\n"
     ]
    }
   ],
   "source": [
    "# Create distance column in movements GeoDataFrame\n",
    "movements['distance'] = movements['geometry'].length\n",
    "\n",
    "# Define max, min, & mean distances\n",
    "max_length = movements['distance'].max()\n",
    "min_length = movements['distance'].min()\n",
    "mean_lenght = movements['distance'].mean()\n",
    "\n",
    "print(f'Max distance travelled was: {round(max_length, 2)} meters')\n",
    "print(f'Min distance travelled was: {round(min_length, 2)} meters' )\n",
    "print(f'Mean distance travelled was {round(mean_lenght, 2)} meters') "
   ]
  },
  {
   "cell_type": "markdown",
   "metadata": {},
   "source": [
    "- Finally, save the movements of into a Shapefile called ``some_movements.shp``"
   ]
  },
  {
   "cell_type": "code",
   "execution_count": 42,
   "metadata": {
    "deletable": false,
    "nbgrader": {
     "cell_type": "code",
     "checksum": "157bee0141aa073963a58a4362ccc50d",
     "grade": false,
     "grade_id": "save_file",
     "locked": false,
     "schema_version": 3,
     "solution": true,
     "task": false
    }
   },
   "outputs": [],
   "source": [
    "# YOUR CODE HERE\n",
    "# raise NotImplementedError()\n",
    "\n",
    "# Save GeoDataFrame as shapefile\n",
    "fp = 'data/some_movements.shp'\n",
    "movements.to_file(fp)"
   ]
  },
  {
   "cell_type": "code",
   "execution_count": 43,
   "metadata": {
    "deletable": false,
    "editable": false,
    "nbgrader": {
     "cell_type": "code",
     "checksum": "ae12a4596eb26865cecdcbfd160ae72f",
     "grade": true,
     "grade_id": "problem_3_result_tests",
     "locked": true,
     "points": 0.5,
     "schema_version": 3,
     "solution": false
    }
   },
   "outputs": [],
   "source": [
    "# NON-EDITABLE CODE CELL FOR TESTING YOUR SOLUTION\n",
    "import os\n",
    "assert os.path.isfile(fp), \"output shapefile does not exits\""
   ]
  },
  {
   "cell_type": "markdown",
   "metadata": {},
   "source": [
    "That's all for this week!"
   ]
  }
 ],
 "metadata": {
  "anaconda-cloud": {},
  "kernelspec": {
   "display_name": "anaconda3",
   "language": "python",
   "name": "anaconda3"
  },
  "language_info": {
   "codemirror_mode": {
    "name": "ipython",
    "version": 3
   },
   "file_extension": ".py",
   "mimetype": "text/x-python",
   "name": "python",
   "nbconvert_exporter": "python",
   "pygments_lexer": "ipython3",
   "version": "3.7.6"
  }
 },
 "nbformat": 4,
 "nbformat_minor": 4
}
