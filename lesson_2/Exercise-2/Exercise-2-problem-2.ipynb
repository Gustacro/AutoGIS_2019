{
 "cells": [
  {
   "cell_type": "markdown",
   "metadata": {},
   "source": [
    "## Problem 2: Points to map (7 points)\n",
    " \n",
    "The problem 2 this week continues the process that we started last week in Exercise 1, i.e. creating geometric point -objects and putting them into a map. \n",
    "\n",
    "**In this problem, our aim is to plot a map based on a set of longitude and latitude coordinates that are stored in a csv file.** \n",
    "The coordinates are in WGS84 decimal degrees, and the data is stored in `some_posts.csv` comma separated file in the folder `data`. First rows of the data look like this:\n",
    " \n",
    "```\n",
    "lat,lon,timestamp,userid\n",
    "-24.980792492,31.484633302,2015-07-07 03:02,66487960\n",
    "-25.499224667,31.508905612,2015-07-07 03:18,65281761\n",
    "-24.342578456,30.930866066,2015-03-07 03:38,90916112\n",
    "-24.85461393,31.519718439,2015-10-07 05:04,37959089\n",
    "```\n",
    "\n",
    "The data has 81379 rows and consists of locations and times of social media posts inside Kruger national park in South Africa:\n",
    "\n",
    "| Column | Description |\n",
    "|--------|-------------|\n",
    "| lat | y-coordinate of the post |\n",
    "| lon | x-coordinate of the post |\n",
    "| timestamp | Time when the post was uploaded |\n",
    "| userid | userid |\n",
    "\n",
    "*Note: although the data is based on real social media data, it is heavily anonymized. Userids and timestamps have been randomized, i.e. they do not not match with real ones, also spatial accuracy of the data have been lowered.*\n",
    "\n",
    "**First:**\n",
    "\n",
    "- Import the needed modules\n",
    "- Read the data from `data/some_posts.csv` into a Pandas dataframe called `data`\n",
    "- Create an empty column called `geometry` where you will store shapely Point objects\n",
    "- Insert Point objects into the column `geometry` based on the coordinate columns \n",
    "\n",
    "**HINTS:**\n",
    "\n",
    "You want to create a Shapely point *on each row*, based on columns `'lon'` and `'lat'`. You can achieve this by using a `for`-loop and `.iterrows()` but this approach will be extremely slow! In stead, we recommend that you try one of these approaches:\n",
    "\n",
    "- `zip` lon and lat columns and create the points using a for-loop (loop over the zipped object), OR\n",
    "- use the [apply method](https://pandas.pydata.org/pandas-docs/stable/reference/api/pandas.DataFrame.apply.html) to apply the shapely Point constructor on each row. \n",
    "- more hints in the on the [course webpages](https://automating-gis-processes.github.io/site/lessons/L2/exercise-2.html).\n",
    "\n",
    "\n",
    "\n"
   ]
  },
  {
   "cell_type": "code",
   "execution_count": 1,
   "metadata": {
    "collapsed": false,
    "deletable": false,
    "jupyter": {
     "outputs_hidden": false
    },
    "nbgrader": {
     "cell_type": "code",
     "checksum": "cfbdcbc0eb3fbecf91c3f16d70d206f5",
     "grade": false,
     "grade_id": "Create_points",
     "locked": false,
     "schema_version": 3,
     "solution": true
    }
   },
   "outputs": [],
   "source": [
    "# YOUR CODE HERE\n",
    "import pandas as pd\n",
    "from shapely.geometry import Point\n",
    "import matplotlib.pyplot as plt"
   ]
  },
  {
   "cell_type": "code",
   "execution_count": 24,
   "metadata": {},
   "outputs": [],
   "source": [
    "# import data\n",
    "fp = 'data/some_posts.csv'\n",
    "\n",
    "try:    \n",
    "    # Create DataFrame\n",
    "    data = pd.read_csv(fp, index_col='userid')\n",
    "    # Create Point objects from lat & lon Cols, then pass them to new column call 'geometry'\n",
    "    data['geometry'] = [(Point(x, y)) for x, y in zip(data['lat'], data['lon'])]\n",
    "except:\n",
    "    raise NotImplementedError()"
   ]
  },
  {
   "cell_type": "code",
   "execution_count": 25,
   "metadata": {},
   "outputs": [
    {
     "data": {
      "text/html": [
       "<div>\n",
       "<style scoped>\n",
       "    .dataframe tbody tr th:only-of-type {\n",
       "        vertical-align: middle;\n",
       "    }\n",
       "\n",
       "    .dataframe tbody tr th {\n",
       "        vertical-align: top;\n",
       "    }\n",
       "\n",
       "    .dataframe thead th {\n",
       "        text-align: right;\n",
       "    }\n",
       "</style>\n",
       "<table border=\"1\" class=\"dataframe\">\n",
       "  <thead>\n",
       "    <tr style=\"text-align: right;\">\n",
       "      <th></th>\n",
       "      <th>lat</th>\n",
       "      <th>lon</th>\n",
       "      <th>timestamp</th>\n",
       "      <th>geometry</th>\n",
       "    </tr>\n",
       "    <tr>\n",
       "      <th>userid</th>\n",
       "      <th></th>\n",
       "      <th></th>\n",
       "      <th></th>\n",
       "      <th></th>\n",
       "    </tr>\n",
       "  </thead>\n",
       "  <tbody>\n",
       "    <tr>\n",
       "      <th>66487960</th>\n",
       "      <td>-24.980792</td>\n",
       "      <td>31.484633</td>\n",
       "      <td>2015-07-07 03:02</td>\n",
       "      <td>POINT (-24.980792492 31.484633302)</td>\n",
       "    </tr>\n",
       "    <tr>\n",
       "      <th>65281761</th>\n",
       "      <td>-25.499225</td>\n",
       "      <td>31.508906</td>\n",
       "      <td>2015-07-07 03:18</td>\n",
       "      <td>POINT (-25.499224667 31.508905612)</td>\n",
       "    </tr>\n",
       "    <tr>\n",
       "      <th>90916112</th>\n",
       "      <td>-24.342578</td>\n",
       "      <td>30.930866</td>\n",
       "      <td>2015-03-07 03:38</td>\n",
       "      <td>POINT (-24.342578456 30.930866066)</td>\n",
       "    </tr>\n",
       "    <tr>\n",
       "      <th>37959089</th>\n",
       "      <td>-24.854614</td>\n",
       "      <td>31.519718</td>\n",
       "      <td>2015-10-07 05:04</td>\n",
       "      <td>POINT (-24.85461393 31.519718439)</td>\n",
       "    </tr>\n",
       "    <tr>\n",
       "      <th>27793716</th>\n",
       "      <td>-24.921069</td>\n",
       "      <td>31.520836</td>\n",
       "      <td>2015-10-07 05:19</td>\n",
       "      <td>POINT (-24.921068894 31.520835558)</td>\n",
       "    </tr>\n",
       "  </tbody>\n",
       "</table>\n",
       "</div>"
      ],
      "text/plain": [
       "                lat        lon         timestamp  \\\n",
       "userid                                             \n",
       "66487960 -24.980792  31.484633  2015-07-07 03:02   \n",
       "65281761 -25.499225  31.508906  2015-07-07 03:18   \n",
       "90916112 -24.342578  30.930866  2015-03-07 03:38   \n",
       "37959089 -24.854614  31.519718  2015-10-07 05:04   \n",
       "27793716 -24.921069  31.520836  2015-10-07 05:19   \n",
       "\n",
       "                                    geometry  \n",
       "userid                                        \n",
       "66487960  POINT (-24.980792492 31.484633302)  \n",
       "65281761  POINT (-25.499224667 31.508905612)  \n",
       "90916112  POINT (-24.342578456 30.930866066)  \n",
       "37959089   POINT (-24.85461393 31.519718439)  \n",
       "27793716  POINT (-24.921068894 31.520835558)  "
      ]
     },
     "execution_count": 25,
     "metadata": {},
     "output_type": "execute_result"
    }
   ],
   "source": [
    "data.head()"
   ]
  },
  {
   "cell_type": "code",
   "execution_count": 26,
   "metadata": {
    "collapsed": false,
    "deletable": false,
    "editable": false,
    "jupyter": {
     "outputs_hidden": false
    },
    "nbgrader": {
     "cell_type": "code",
     "checksum": "ded5e9897fdfa8e5d23664937918cb8f",
     "grade": true,
     "grade_id": "problem_2_input_test",
     "locked": true,
     "points": 1,
     "schema_version": 3,
     "solution": false
    }
   },
   "outputs": [
    {
     "name": "stdout",
     "output_type": "stream",
     "text": [
      "Number of rows: 81379\n"
     ]
    }
   ],
   "source": [
    "# NON-EDITABLE CODE CELL FOR TESTING YOUR SOLUTION\n",
    "print(\"Number of rows:\", len(data))"
   ]
  },
  {
   "cell_type": "code",
   "execution_count": 27,
   "metadata": {
    "deletable": false,
    "editable": false,
    "nbgrader": {
     "cell_type": "code",
     "checksum": "ed054b54d33345b3091ba68380bd3d81",
     "grade": true,
     "grade_id": "problem_2_create_points_test",
     "locked": true,
     "points": 3,
     "schema_version": 3,
     "solution": false,
     "task": false
    }
   },
   "outputs": [
    {
     "name": "stdout",
     "output_type": "stream",
     "text": [
      "userid\n",
      "66487960    POINT (-24.980792492 31.484633302)\n",
      "65281761    POINT (-25.499224667 31.508905612)\n",
      "90916112    POINT (-24.342578456 30.930866066)\n",
      "37959089     POINT (-24.85461393 31.519718439)\n",
      "27793716    POINT (-24.921068894 31.520835558)\n",
      "Name: geometry, dtype: object\n"
     ]
    }
   ],
   "source": [
    "# NON-EDITABLE CODE CELL FOR TESTING YOUR SOLUTION\n",
    "print(data['geometry'].head())"
   ]
  },
  {
   "cell_type": "markdown",
   "metadata": {},
   "source": [
    "**Next, save the result as a shapefile:**\n",
    "- Convert that DataFrame into a GeoDataFrame called `geo`, [See hints](https://automating-gis-processes.github.io/site/lessons/L2/exercise-2.html)\n",
    "\n",
    "- Update the CRS for coordinate system as WGS84 (i.e. epsg code: 4326) **in the WKT format**\n",
    "\n",
    "- Save output to file: `Kruger_posts.shp`\n",
    "\n"
   ]
  },
  {
   "cell_type": "code",
   "execution_count": 47,
   "metadata": {
    "collapsed": false,
    "deletable": false,
    "jupyter": {
     "outputs_hidden": false
    },
    "nbgrader": {
     "cell_type": "code",
     "checksum": "b673d7fdfc4262e68f67e61e29815c21",
     "grade": false,
     "grade_id": "Create_geodataframe",
     "locked": false,
     "schema_version": 3,
     "solution": true
    }
   },
   "outputs": [
    {
     "name": "stdout",
     "output_type": "stream",
     "text": [
      "data\\Kruger_posts.shp\n",
      "GEOGCRS[\"WGS 84\",DATUM[\"World Geodetic System 1984\",ELLIPSOID[\"WGS 84\",6378137,298.257223563,LENGTHUNIT[\"metre\",1]]],PRIMEM[\"Greenwich\",0,ANGLEUNIT[\"degree\",0.0174532925199433]],CS[ellipsoidal,2],AXIS[\"geodetic latitude (Lat)\",north,ORDER[1],ANGLEUNIT[\"degree\",0.0174532925199433]],AXIS[\"geodetic longitude (Lon)\",east,ORDER[2],ANGLEUNIT[\"degree\",0.0174532925199433]],USAGE[SCOPE[\"unknown\"],AREA[\"World\"],BBOX[-90,-180,90,180]],ID[\"EPSG\",4326]]\n"
     ]
    }
   ],
   "source": [
    "# YOUR CODE HERE\n",
    "# raise NotImplementedError()\n",
    "import geopandas as gpd\n",
    "from pyproj import CRS\n",
    "import os, sys \n",
    "\n",
    "\n",
    "try:\n",
    "    # Create GeoDataFrame from DataFrame call it geo, also define geometry column\n",
    "    geo = gpd.GeoDataFrame(data, geometry= 'geometry', crs=CRS.from_epsg(4326).to_wkt())\n",
    "    # Save the geoDataFrame as shapefile \n",
    "    output = 'data'\n",
    "    filename = 'Kruger_posts.shp'\n",
    "    fp = os.path.join(output, filename)\n",
    "    print(fp) # print file path\n",
    "    print(geo.crs) # \n",
    "    geo.to_file(fp)\n",
    "    \n",
    "except:\n",
    "    raise NotImplementedError"
   ]
  },
  {
   "cell_type": "code",
   "execution_count": 44,
   "metadata": {
    "collapsed": false,
    "deletable": false,
    "editable": false,
    "jupyter": {
     "outputs_hidden": false
    },
    "nbgrader": {
     "cell_type": "code",
     "checksum": "b6ab75900cf70f553433d0b54fcacfc4",
     "grade": true,
     "grade_id": "problem_2_create_geodataframe_test",
     "locked": true,
     "points": 1.5,
     "schema_version": 3,
     "solution": false
    }
   },
   "outputs": [
    {
     "name": "stdout",
     "output_type": "stream",
     "text": [
      "Number of rows: 81379\n",
      "                lat        lon         timestamp                    geometry\n",
      "userid                                                                      \n",
      "66487960 -24.980792  31.484633  2015-07-07 03:02  POINT (-24.98079 31.48463)\n",
      "65281761 -25.499225  31.508906  2015-07-07 03:18  POINT (-25.49922 31.50891)\n",
      "90916112 -24.342578  30.930866  2015-03-07 03:38  POINT (-24.34258 30.93087)\n",
      "37959089 -24.854614  31.519718  2015-10-07 05:04  POINT (-24.85461 31.51972)\n",
      "27793716 -24.921069  31.520836  2015-10-07 05:19  POINT (-24.92107 31.52084)\n"
     ]
    }
   ],
   "source": [
    "# NON-EDITABLE CODE CELL FOR TESTING YOUR SOLUTION\n",
    "print(\"Number of rows:\", len(geo))\n",
    "print(geo.head())"
   ]
  },
  {
   "cell_type": "code",
   "execution_count": 45,
   "metadata": {
    "deletable": false,
    "editable": false,
    "nbgrader": {
     "cell_type": "code",
     "checksum": "bcfb73950b7e0b3ee2b200b8ec6bd4a7",
     "grade": true,
     "grade_id": "problem_2_outputfile_test",
     "locked": true,
     "points": 0.5,
     "schema_version": 3,
     "solution": false,
     "task": false
    }
   },
   "outputs": [],
   "source": [
    "# NON-EDITABLE CODE CELL FOR TESTING YOUR SOLUTION\n",
    "import os\n",
    "assert os.path.isfile(fp), \"output shapefile does not exist\""
   ]
  },
  {
   "cell_type": "markdown",
   "metadata": {},
   "source": [
    "**Finally:** \n",
    "- **Create a simple map of the points** using the `geodataframe.plot()` -funtion. You might need to use the `matplotlib pyplot` `show()` method to display the image within this notebook. "
   ]
  },
  {
   "cell_type": "code",
   "execution_count": 46,
   "metadata": {
    "collapsed": false,
    "deletable": false,
    "jupyter": {
     "outputs_hidden": false
    },
    "nbgrader": {
     "cell_type": "code",
     "checksum": "57671c7a6ee0d0777f0e250596b8769c",
     "grade": false,
     "grade_id": "Plot_map",
     "locked": false,
     "schema_version": 3,
     "solution": true
    }
   },
   "outputs": [
    {
     "data": {
      "text/plain": [
       "<matplotlib.axes._subplots.AxesSubplot at 0x18b1ca59e88>"
      ]
     },
     "execution_count": 46,
     "metadata": {},
     "output_type": "execute_result"
    },
    {
     "data": {
      "image/png": "[encoded data removed]",
      "text/plain": [
       "<Figure size 432x288 with 1 Axes>"
      ]
     },
     "metadata": {
      "needs_background": "light"
     },
     "output_type": "display_data"
    }
   ],
   "source": [
    "# YOUR CODE HERE\n",
    "# raise NotImplementedError()\n",
    "%matplotlib inline\n",
    "# plot the GeoDataFrame geo \n",
    "geo.plot()"
   ]
  },
  {
   "cell_type": "markdown",
   "metadata": {},
   "source": [
    "- *Optional:* Download the output shapefile and create a map in a gis-software (for example, overlay the points with a basemap). If you do this, remember to upload the  map as a png image to this repository and add link to the image file to this notebook:"
   ]
  },
  {
   "cell_type": "markdown",
   "metadata": {
    "deletable": false,
    "jupyter": {
     "outputs_hidden": false
    },
    "nbgrader": {
     "cell_type": "markdown",
     "checksum": "949f19509d01c239d0e1b7b1eb38dff9",
     "grade": true,
     "grade_id": "problem_2_plot_map_check",
     "locked": false,
     "points": 1,
     "schema_version": 3,
     "solution": true
    }
   },
   "source": [
    "YOUR ANSWER HERE"
   ]
  },
  {
   "cell_type": "markdown",
   "metadata": {},
   "source": [
    "Well done! Now you can move on to [Exercise-2-problem-3.ipynb](Exercise-2-problem-3.ipynb)"
   ]
  }
 ],
 "metadata": {
  "anaconda-cloud": {},
  "kernelspec": {
   "display_name": "anaconda3",
   "language": "python",
   "name": "anaconda3"
  },
  "language_info": {
   "codemirror_mode": {
    "name": "ipython",
    "version": 3
   },
   "file_extension": ".py",
   "mimetype": "text/x-python",
   "name": "python",
   "nbconvert_exporter": "python",
   "pygments_lexer": "ipython3",
   "version": "3.7.6"
  }
 },
 "nbformat": 4,
 "nbformat_minor": 4
}
