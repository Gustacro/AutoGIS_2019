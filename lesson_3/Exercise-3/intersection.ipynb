{
 "cells": [
  {
   "cell_type": "markdown",
   "metadata": {},
   "source": [
    "# USING SHAPELY SPATIAL RELATIONSHIP \"INTERSECT()\" AND \"TOUCHES()\" "
   ]
  },
  {
   "cell_type": "code",
   "execution_count": 1,
   "metadata": {},
   "outputs": [],
   "source": [
    "# import modules\n",
    "from shapely.geometry import LineString, Polygon"
   ]
  },
  {
   "cell_type": "code",
   "execution_count": 3,
   "metadata": {},
   "outputs": [
    {
     "data": {
      "image/svg+xml": [
       "<svg xmlns=\"http://www.w3.org/2000/svg\" xmlns:xlink=\"http://www.w3.org/1999/xlink\" width=\"100.0\" height=\"100.0\" viewBox=\"2.92 -3.08 2.16 1.1600000000000001\" preserveAspectRatio=\"xMinYMin meet\"><g transform=\"matrix(1,0,0,-1,0,-5.0)\"><path fill-rule=\"evenodd\" fill=\"#66cc99\" stroke=\"#555555\" stroke-width=\"0.0432\" opacity=\"0.6\" d=\"M 4.0,-2.0 L 5.0,-2.0 L 4.0,-3.0 L 3.0,-3.0 L 4.0,-2.0 z\" /></g></svg>"
      ],
      "text/plain": [
       "<shapely.geometry.polygon.Polygon at 0x26944feaec8>"
      ]
     },
     "execution_count": 3,
     "metadata": {},
     "output_type": "execute_result"
    }
   ],
   "source": [
    "# Polygon coordinates\n",
    "poly_coords= [(4.0, -2.0), (5.0, -2.0), (4.0, -3.0), (3.0, -3.0), (4.0, -2.0)]\n",
    "\n",
    "# Create polygon\n",
    "poly = Polygon(poly_coords)\n",
    "\n",
    "poly"
   ]
  },
  {
   "cell_type": "code",
   "execution_count": 22,
   "metadata": {},
   "outputs": [
    {
     "data": {
      "image/svg+xml": [
       "<svg xmlns=\"http://www.w3.org/2000/svg\" xmlns:xlink=\"http://www.w3.org/1999/xlink\" width=\"100.0\" height=\"100.0\" viewBox=\"2.92 -4.08 2.16 2.16\" preserveAspectRatio=\"xMinYMin meet\"><g transform=\"matrix(1,0,0,-1,0,-6.0)\"><polyline fill=\"none\" stroke=\"#66cc99\" stroke-width=\"0.0432\" points=\"3.0,-2.0 5.0,-4.0\" opacity=\"0.8\" /></g></svg>"
      ],
      "text/plain": [
       "<shapely.geometry.linestring.LineString at 0x2694848ccc8>"
      ]
     },
     "execution_count": 22,
     "metadata": {},
     "output_type": "execute_result"
    }
   ],
   "source": [
    "# Define lines string\n",
    "line_coords1 = [(4.0, -2.0000000000000004), (2.0, -1.1102230246251565e-15)]\n",
    "line_coords2 = [(3.0, -2.0), (5.0, -4.0)]\n",
    "# Create LineString\n",
    "line1 = LineString(line_coords1)\n",
    "line2 = LineString(line_coords2)\n",
    "\n",
    "\n",
    "line1;\n",
    "line2"
   ]
  },
  {
   "cell_type": "markdown",
   "metadata": {},
   "source": [
    "## Check if line Intersects the polygon"
   ]
  },
  {
   "cell_type": "code",
   "execution_count": 13,
   "metadata": {},
   "outputs": [
    {
     "data": {
      "text/plain": [
       "True"
      ]
     },
     "execution_count": 13,
     "metadata": {},
     "output_type": "execute_result"
    }
   ],
   "source": [
    "# Check if polygon intersect the line\n",
    "poly.intersects(line)\n",
    "\n",
    "# Check if line intersect the polygon\n",
    "line.intersects(poly)"
   ]
  },
  {
   "cell_type": "markdown",
   "metadata": {},
   "source": [
    "## Get the intersection POINT / MULTIPOINTcoordinates from the intersection of the line and the polygon"
   ]
  },
  {
   "cell_type": "code",
   "execution_count": 37,
   "metadata": {},
   "outputs": [
    {
     "name": "stdout",
     "output_type": "stream",
     "text": [
      "POINT (4 -2)\n",
      "MULTIPOINT (3.5 -2.5, 4 -3)\n"
     ]
    }
   ],
   "source": [
    "# Transforn polygon to a ring of line-strinds\n",
    "\n",
    "# import shape package from shapelu.geometry to retrieve the ring of a geometry obj\n",
    "from shapely.geometry import shape, MultiLineString\n",
    "s_poly = shape(poly)\n",
    "s_line1 = shape(line1)\n",
    "s_line2 = shape(line2)\n",
    "\n",
    "# verify that intersection occurs \n",
    "s_poly.intersects(s_line)\n",
    "\n",
    "# transfom the polygon to a LineString\n",
    "ring = LineString(list((s_poly).exterior.coords))\n",
    "\n",
    "# print intersection point between poly and line1\n",
    "print(ring.intersection(line1))\n",
    "\n",
    "# print intersection point between poly and line2\n",
    "print(ring.intersection(line2))"
   ]
  },
  {
   "cell_type": "markdown",
   "metadata": {},
   "source": [
    "# Check if lines and polygon touches"
   ]
  },
  {
   "cell_type": "code",
   "execution_count": 34,
   "metadata": {},
   "outputs": [
    {
     "data": {
      "image/svg+xml": [
       "<svg xmlns=\"http://www.w3.org/2000/svg\" xmlns:xlink=\"http://www.w3.org/1999/xlink\" width=\"100.0\" height=\"100.0\" viewBox=\"3.92 -4.08 1.1600000000000001 2.1599999999999997\" preserveAspectRatio=\"xMinYMin meet\"><g transform=\"matrix(1,0,0,-1,0,-6.0)\"><polyline fill=\"none\" stroke=\"#66cc99\" stroke-width=\"0.043199999999999995\" points=\"4.0,-2.0000000000000004 5.0,-4.0\" opacity=\"0.8\" /></g></svg>"
      ],
      "text/plain": [
       "<shapely.geometry.linestring.LineString at 0x26944d0cf48>"
      ]
     },
     "execution_count": 34,
     "metadata": {},
     "output_type": "execute_result"
    }
   ],
   "source": [
    "line_coords3 = [(4.0, -2.0000000000000004), (5.0, -4.0)]\n",
    "line3 = LineString(line_coords3)\n",
    "\n",
    "line3"
   ]
  },
  {
   "cell_type": "code",
   "execution_count": 36,
   "metadata": {},
   "outputs": [
    {
     "name": "stdout",
     "output_type": "stream",
     "text": [
      "True\n"
     ]
    }
   ],
   "source": [
    "# check if line1 and line3 touch each other\n",
    "print(line3.touches(line1))"
   ]
  },
  {
   "cell_type": "code",
   "execution_count": 39,
   "metadata": {},
   "outputs": [
    {
     "data": {
      "image/svg+xml": [
       "<svg xmlns=\"http://www.w3.org/2000/svg\" xmlns:xlink=\"http://www.w3.org/1999/xlink\" width=\"100.0\" height=\"100.0\" viewBox=\"1.84 -4.16 3.3200000000000003 4.319999999999999\" preserveAspectRatio=\"xMinYMin meet\"><g transform=\"matrix(1,0,0,-1,0,-4.000000000000001)\"><g><polyline fill=\"none\" stroke=\"#66cc99\" stroke-width=\"0.08639999999999999\" points=\"4.0,-2.0000000000000004 2.0,-1.1102230246251565e-15\" opacity=\"0.8\" /><polyline fill=\"none\" stroke=\"#66cc99\" stroke-width=\"0.08639999999999999\" points=\"4.0,-2.0000000000000004 5.0,-4.0\" opacity=\"0.8\" /></g></g></svg>"
      ],
      "text/plain": [
       "<shapely.geometry.multilinestring.MultiLineString at 0x26947118088>"
      ]
     },
     "execution_count": 39,
     "metadata": {},
     "output_type": "execute_result"
    }
   ],
   "source": [
    "# Create MULTILINE using line1 and line3\n",
    "multiLine = MultiLineString([line1, line3])\n",
    "multiLine"
   ]
  },
  {
   "cell_type": "code",
   "execution_count": null,
   "metadata": {},
   "outputs": [],
   "source": []
  }
 ],
 "metadata": {
  "kernelspec": {
   "display_name": "anaconda3",
   "language": "python",
   "name": "anaconda3"
  },
  "language_info": {
   "codemirror_mode": {
    "name": "ipython",
    "version": 3
   },
   "file_extension": ".py",
   "mimetype": "text/x-python",
   "name": "python",
   "nbconvert_exporter": "python",
   "pygments_lexer": "ipython3",
   "version": "3.7.6"
  }
 },
 "nbformat": 4,
 "nbformat_minor": 4
}
