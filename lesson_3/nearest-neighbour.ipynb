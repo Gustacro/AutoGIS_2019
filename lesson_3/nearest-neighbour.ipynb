{
 "cells": [
  {
   "cell_type": "markdown",
   "metadata": {},
   "source": [
    "# Nearest Neighbour Analysis\n",
    "\n",
    "\n",
    "One commonly used GIS task is to be able to find the nearest neighbour for an object or a set of objects. For instance, you might have a single Point object\n",
    "representing your home location, and then another set of locations representing e.g. public transport stops. Then, quite typical question is *\"which of the stops is closest one to my home?\"*\n",
    "This is a typical nearest neighbour analysis, where the aim is to find the closest geometry to another geometry.\n",
    "\n",
    "In Python this kind of analysis can be done with shapely function called ``nearest_points(geom1, geom2)`` that [returns a tuple (origin, nearest_destination) of the nearest points in the input geometries](https://shapely.readthedocs.io/en/latest/manual.html#shapely.ops.nearest_points).\n",
    "\n",
    "## Nearest point using Shapely\n",
    "\n",
    "\n",
    "Let's start by testing how we can find the nearest Point using the ``nearest_points()`` function of Shapely.\n",
    "\n",
    "- Let's create an origin Point and a few destination Points and find out the closest destination:\n",
    "\n",
    "\n"
   ]
  },
  {
   "cell_type": "code",
   "execution_count": 1,
   "metadata": {},
   "outputs": [],
   "source": [
    "from shapely.geometry import Point, MultiPoint\n",
    "from shapely.ops import nearest_points\n",
    "\n",
    "# Origin point\n",
    "orig = Point(1, 1.67)\n",
    "\n",
    "# Destination points\n",
    "dest1 = Point(0, 1.45)\n",
    "dest2 =Point(2, 2)\n",
    "dest3 = Point(0, 2.5)"
   ]
  },
  {
   "cell_type": "markdown",
   "metadata": {},
   "source": [
    "To be able to find out the closest destination point from the origin, we need to create a MultiPoint object from the destination points."
   ]
  },
  {
   "cell_type": "code",
   "execution_count": 27,
   "metadata": {},
   "outputs": [
    {
     "name": "stdout",
     "output_type": "stream",
     "text": [
      "MULTIPOINT (0 1.45, 2 2, 0 2.5)\n"
     ]
    }
   ],
   "source": [
    "destinations = MultiPoint([dest1, dest2, dest3])\n",
    "print(destinations)"
   ]
  },
  {
   "cell_type": "code",
   "execution_count": 3,
   "metadata": {},
   "outputs": [
    {
     "data": {
      "image/svg+xml": [
       "<svg xmlns=\"http://www.w3.org/2000/svg\" xmlns:xlink=\"http://www.w3.org/1999/xlink\" width=\"100.0\" height=\"100.0\" viewBox=\"-0.08 1.3699999999999999 2.16 1.2100000000000002\" preserveAspectRatio=\"xMinYMin meet\"><g transform=\"matrix(1,0,0,-1,0,3.95)\"><g><circle cx=\"0.0\" cy=\"1.45\" r=\"0.0648\" stroke=\"#555555\" stroke-width=\"0.0216\" fill=\"#66cc99\" opacity=\"0.6\" /><circle cx=\"2.0\" cy=\"2.0\" r=\"0.0648\" stroke=\"#555555\" stroke-width=\"0.0216\" fill=\"#66cc99\" opacity=\"0.6\" /><circle cx=\"0.0\" cy=\"2.5\" r=\"0.0648\" stroke=\"#555555\" stroke-width=\"0.0216\" fill=\"#66cc99\" opacity=\"0.6\" /></g></g></svg>"
      ],
      "text/plain": [
       "<shapely.geometry.multipoint.MultiPoint at 0x1c76274cec8>"
      ]
     },
     "execution_count": 3,
     "metadata": {},
     "output_type": "execute_result"
    }
   ],
   "source": [
    "destinations"
   ]
  },
  {
   "cell_type": "markdown",
   "metadata": {},
   "source": [
    "Okey, now we can see that all the destination points are represented as a single MultiPoint object.\n",
    "\n",
    "- Now we can find out the nearest destination point by using ``nearest_points()`` function:\n"
   ]
  },
  {
   "cell_type": "code",
   "execution_count": 28,
   "metadata": {},
   "outputs": [],
   "source": [
    "nearest_geoms = nearest_points(orig, destinations) # returns a tuple containing the origin point and the nearest detination point"
   ]
  },
  {
   "cell_type": "markdown",
   "metadata": {},
   "source": [
    "- We can check the data type of this object and confirm that the ``nearest_points()`` function returns a tuple of nearest points:"
   ]
  },
  {
   "cell_type": "code",
   "execution_count": 5,
   "metadata": {},
   "outputs": [
    {
     "data": {
      "text/plain": [
       "tuple"
      ]
     },
     "execution_count": 5,
     "metadata": {},
     "output_type": "execute_result"
    }
   ],
   "source": [
    "type(nearest_geoms)"
   ]
  },
  {
   "cell_type": "markdown",
   "metadata": {},
   "source": [
    "__let's check the contents of this tuple:__\n",
    " - the tuple contains origin point and the nearest detination point"
   ]
  },
  {
   "cell_type": "code",
   "execution_count": 76,
   "metadata": {},
   "outputs": [
    {
     "name": "stdout",
     "output_type": "stream",
     "text": [
      "Origin: POINT (1 1.67), \n",
      "Destination: POINT (0 1.45)\n"
     ]
    }
   ],
   "source": [
    "# Let's print the nearest (detination) point: \n",
    "print(f'Origin: {nearest_geoms[0]}, \\nDestination: {nearest_geoms[1]}')"
   ]
  },
  {
   "cell_type": "markdown",
   "metadata": {},
   "source": [
    "## Nearest points using Geopandas\n",
    "\n",
    "Let's then see how it is possible to find nearest points from a set of origin points to a set of destination points using GeoDataFrames. Here, we will use the ``PKS_suuralueet.kml`` district data, and the ``addresses.shp`` address points from previous sections. \n",
    "\n"
   ]
  },
  {
   "cell_type": "markdown",
   "metadata": {},
   "source": [
    "**Our goal in this tutorial is to find out the closest address to the centroid of each district.**\n",
    "\n",
    "- Let's first read in the data and check their structure:"
   ]
  },
  {
   "cell_type": "code",
   "execution_count": 29,
   "metadata": {},
   "outputs": [],
   "source": [
    "# Import geopandas\n",
    "import geopandas as gpd"
   ]
  },
  {
   "cell_type": "code",
   "execution_count": 30,
   "metadata": {},
   "outputs": [],
   "source": [
    "# Define filepaths\n",
    "fp1 = \"data/PKS_suuralue.kml\"\n",
    "fp2 = \"data/addresses.shp\""
   ]
  },
  {
   "cell_type": "code",
   "execution_count": 31,
   "metadata": {},
   "outputs": [],
   "source": [
    "# Enable KML driver\n",
    "gpd.io.file.fiona.drvsupport.supported_drivers['KML'] = 'rw'"
   ]
  },
  {
   "cell_type": "code",
   "execution_count": 48,
   "metadata": {},
   "outputs": [],
   "source": [
    "# Read in data with geopandas\n",
    "df1 = gpd.read_file(fp1, driver='KML')\n",
    "df2 = gpd.read_file(fp2)"
   ]
  },
  {
   "cell_type": "code",
   "execution_count": 49,
   "metadata": {},
   "outputs": [
    {
     "data": {
      "text/html": [
       "<div>\n",
       "<style scoped>\n",
       "    .dataframe tbody tr th:only-of-type {\n",
       "        vertical-align: middle;\n",
       "    }\n",
       "\n",
       "    .dataframe tbody tr th {\n",
       "        vertical-align: top;\n",
       "    }\n",
       "\n",
       "    .dataframe thead th {\n",
       "        text-align: right;\n",
       "    }\n",
       "</style>\n",
       "<table border=\"1\" class=\"dataframe\">\n",
       "  <thead>\n",
       "    <tr style=\"text-align: right;\">\n",
       "      <th></th>\n",
       "      <th>Name</th>\n",
       "      <th>Description</th>\n",
       "      <th>geometry</th>\n",
       "    </tr>\n",
       "  </thead>\n",
       "  <tbody>\n",
       "    <tr>\n",
       "      <th>0</th>\n",
       "      <td>Suur-Espoonlahti</td>\n",
       "      <td></td>\n",
       "      <td>POLYGON Z ((24.77506 60.10906 0.00000, 24.7766...</td>\n",
       "    </tr>\n",
       "    <tr>\n",
       "      <th>1</th>\n",
       "      <td>Suur-Kauklahti</td>\n",
       "      <td></td>\n",
       "      <td>POLYGON Z ((24.61578 60.17257 0.00000, 24.6155...</td>\n",
       "    </tr>\n",
       "    <tr>\n",
       "      <th>2</th>\n",
       "      <td>Vanha-Espoo</td>\n",
       "      <td></td>\n",
       "      <td>POLYGON Z ((24.67576 60.21201 0.00000, 24.6752...</td>\n",
       "    </tr>\n",
       "    <tr>\n",
       "      <th>3</th>\n",
       "      <td>Pohjois-Espoo</td>\n",
       "      <td></td>\n",
       "      <td>POLYGON Z ((24.76792 60.26920 0.00000, 24.7699...</td>\n",
       "    </tr>\n",
       "    <tr>\n",
       "      <th>4</th>\n",
       "      <td>Suur-Matinkylä</td>\n",
       "      <td></td>\n",
       "      <td>POLYGON Z ((24.75361 60.16631 0.00000, 24.7537...</td>\n",
       "    </tr>\n",
       "  </tbody>\n",
       "</table>\n",
       "</div>"
      ],
      "text/plain": [
       "               Name Description  \\\n",
       "0  Suur-Espoonlahti               \n",
       "1    Suur-Kauklahti               \n",
       "2       Vanha-Espoo               \n",
       "3     Pohjois-Espoo               \n",
       "4    Suur-Matinkylä               \n",
       "\n",
       "                                            geometry  \n",
       "0  POLYGON Z ((24.77506 60.10906 0.00000, 24.7766...  \n",
       "1  POLYGON Z ((24.61578 60.17257 0.00000, 24.6155...  \n",
       "2  POLYGON Z ((24.67576 60.21201 0.00000, 24.6752...  \n",
       "3  POLYGON Z ((24.76792 60.26920 0.00000, 24.7699...  \n",
       "4  POLYGON Z ((24.75361 60.16631 0.00000, 24.7537...  "
      ]
     },
     "execution_count": 49,
     "metadata": {},
     "output_type": "execute_result"
    }
   ],
   "source": [
    "# District polygons:\n",
    "df1.head()"
   ]
  },
  {
   "cell_type": "code",
   "execution_count": 35,
   "metadata": {},
   "outputs": [
    {
     "data": {
      "text/html": [
       "<div>\n",
       "<style scoped>\n",
       "    .dataframe tbody tr th:only-of-type {\n",
       "        vertical-align: middle;\n",
       "    }\n",
       "\n",
       "    .dataframe tbody tr th {\n",
       "        vertical-align: top;\n",
       "    }\n",
       "\n",
       "    .dataframe thead th {\n",
       "        text-align: right;\n",
       "    }\n",
       "</style>\n",
       "<table border=\"1\" class=\"dataframe\">\n",
       "  <thead>\n",
       "    <tr style=\"text-align: right;\">\n",
       "      <th></th>\n",
       "      <th>address</th>\n",
       "      <th>id</th>\n",
       "      <th>addr</th>\n",
       "      <th>geometry</th>\n",
       "    </tr>\n",
       "  </thead>\n",
       "  <tbody>\n",
       "    <tr>\n",
       "      <th>0</th>\n",
       "      <td>Ruoholahti, 14, Itämerenkatu, Ruoholahti, Läns...</td>\n",
       "      <td>1000</td>\n",
       "      <td>Itämerenkatu 14, 00101 Helsinki, Finland</td>\n",
       "      <td>POINT (24.91556 60.16320)</td>\n",
       "    </tr>\n",
       "    <tr>\n",
       "      <th>1</th>\n",
       "      <td>Kamppi, 1, Kampinkuja, Kamppi, Eteläinen suurp...</td>\n",
       "      <td>1001</td>\n",
       "      <td>Kampinkuja 1, 00100 Helsinki, Finland</td>\n",
       "      <td>POINT (24.93169 60.16902)</td>\n",
       "    </tr>\n",
       "    <tr>\n",
       "      <th>2</th>\n",
       "      <td>Kauppakeskus Citycenter, 8, Kaivokatu, Keskust...</td>\n",
       "      <td>1002</td>\n",
       "      <td>Kaivokatu 8, 00101 Helsinki, Finland</td>\n",
       "      <td>POINT (24.94179 60.16989)</td>\n",
       "    </tr>\n",
       "    <tr>\n",
       "      <th>3</th>\n",
       "      <td>Hermannin rantatie, Verkkosaari, Kalasatama, S...</td>\n",
       "      <td>1003</td>\n",
       "      <td>Hermannin rantatie 1, 00580 Helsinki, Finland</td>\n",
       "      <td>POINT (24.97783 60.18892)</td>\n",
       "    </tr>\n",
       "    <tr>\n",
       "      <th>4</th>\n",
       "      <td>Hesburger, 9, Tyynenmerenkatu, Jätkäsaari, Län...</td>\n",
       "      <td>1005</td>\n",
       "      <td>Tyynenmerenkatu 9, 00220 Helsinki, Finland</td>\n",
       "      <td>POINT (24.92160 60.15665)</td>\n",
       "    </tr>\n",
       "  </tbody>\n",
       "</table>\n",
       "</div>"
      ],
      "text/plain": [
       "                                             address    id  \\\n",
       "0  Ruoholahti, 14, Itämerenkatu, Ruoholahti, Läns...  1000   \n",
       "1  Kamppi, 1, Kampinkuja, Kamppi, Eteläinen suurp...  1001   \n",
       "2  Kauppakeskus Citycenter, 8, Kaivokatu, Keskust...  1002   \n",
       "3  Hermannin rantatie, Verkkosaari, Kalasatama, S...  1003   \n",
       "4  Hesburger, 9, Tyynenmerenkatu, Jätkäsaari, Län...  1005   \n",
       "\n",
       "                                            addr                   geometry  \n",
       "0       Itämerenkatu 14, 00101 Helsinki, Finland  POINT (24.91556 60.16320)  \n",
       "1          Kampinkuja 1, 00100 Helsinki, Finland  POINT (24.93169 60.16902)  \n",
       "2           Kaivokatu 8, 00101 Helsinki, Finland  POINT (24.94179 60.16989)  \n",
       "3  Hermannin rantatie 1, 00580 Helsinki, Finland  POINT (24.97783 60.18892)  \n",
       "4     Tyynenmerenkatu 9, 00220 Helsinki, Finland  POINT (24.92160 60.15665)  "
      ]
     },
     "execution_count": 35,
     "metadata": {},
     "output_type": "execute_result"
    }
   ],
   "source": [
    "# Address points:\n",
    "df2.head()"
   ]
  },
  {
   "cell_type": "markdown",
   "metadata": {},
   "source": [
    "- Furthermore, let's calculate the centroids for each district area:"
   ]
  },
  {
   "cell_type": "code",
   "execution_count": 90,
   "metadata": {},
   "outputs": [
    {
     "name": "stderr",
     "output_type": "stream",
     "text": [
      "C:\\Users\\gcolm\\Anaconda3\\lib\\site-packages\\ipykernel_launcher.py:1: UserWarning: Geometry is in a geographic CRS. Results from 'centroid' are likely incorrect. Use 'GeoSeries.to_crs()' to re-project geometries to a projected CRS before this operation.\n",
      "\n",
      "  \"\"\"Entry point for launching an IPython kernel.\n"
     ]
    },
    {
     "data": {
      "text/html": [
       "<div>\n",
       "<style scoped>\n",
       "    .dataframe tbody tr th:only-of-type {\n",
       "        vertical-align: middle;\n",
       "    }\n",
       "\n",
       "    .dataframe tbody tr th {\n",
       "        vertical-align: top;\n",
       "    }\n",
       "\n",
       "    .dataframe thead th {\n",
       "        text-align: right;\n",
       "    }\n",
       "</style>\n",
       "<table border=\"1\" class=\"dataframe\">\n",
       "  <thead>\n",
       "    <tr style=\"text-align: right;\">\n",
       "      <th></th>\n",
       "      <th>Name</th>\n",
       "      <th>Description</th>\n",
       "      <th>geometry</th>\n",
       "      <th>centroid</th>\n",
       "      <th>nearest_loc</th>\n",
       "    </tr>\n",
       "  </thead>\n",
       "  <tbody>\n",
       "    <tr>\n",
       "      <th>0</th>\n",
       "      <td>Suur-Espoonlahti</td>\n",
       "      <td></td>\n",
       "      <td>POLYGON Z ((24.77506 60.10906 0.00000, 24.7766...</td>\n",
       "      <td>POINT (24.76754 60.04409)</td>\n",
       "      <td>1000</td>\n",
       "    </tr>\n",
       "    <tr>\n",
       "      <th>1</th>\n",
       "      <td>Suur-Kauklahti</td>\n",
       "      <td></td>\n",
       "      <td>POLYGON Z ((24.61578 60.17257 0.00000, 24.6155...</td>\n",
       "      <td>POINT (24.57415 60.19764)</td>\n",
       "      <td>1020</td>\n",
       "    </tr>\n",
       "    <tr>\n",
       "      <th>2</th>\n",
       "      <td>Vanha-Espoo</td>\n",
       "      <td></td>\n",
       "      <td>POLYGON Z ((24.67576 60.21201 0.00000, 24.6752...</td>\n",
       "      <td>POINT (24.60401 60.25253)</td>\n",
       "      <td>1020</td>\n",
       "    </tr>\n",
       "    <tr>\n",
       "      <th>3</th>\n",
       "      <td>Pohjois-Espoo</td>\n",
       "      <td></td>\n",
       "      <td>POLYGON Z ((24.76792 60.26920 0.00000, 24.7699...</td>\n",
       "      <td>POINT (24.68683 60.30649)</td>\n",
       "      <td>1017</td>\n",
       "    </tr>\n",
       "    <tr>\n",
       "      <th>4</th>\n",
       "      <td>Suur-Matinkylä</td>\n",
       "      <td></td>\n",
       "      <td>POLYGON Z ((24.75361 60.16631 0.00000, 24.7537...</td>\n",
       "      <td>POINT (24.76064 60.15018)</td>\n",
       "      <td>1020</td>\n",
       "    </tr>\n",
       "  </tbody>\n",
       "</table>\n",
       "</div>"
      ],
      "text/plain": [
       "               Name Description  \\\n",
       "0  Suur-Espoonlahti               \n",
       "1    Suur-Kauklahti               \n",
       "2       Vanha-Espoo               \n",
       "3     Pohjois-Espoo               \n",
       "4    Suur-Matinkylä               \n",
       "\n",
       "                                            geometry  \\\n",
       "0  POLYGON Z ((24.77506 60.10906 0.00000, 24.7766...   \n",
       "1  POLYGON Z ((24.61578 60.17257 0.00000, 24.6155...   \n",
       "2  POLYGON Z ((24.67576 60.21201 0.00000, 24.6752...   \n",
       "3  POLYGON Z ((24.76792 60.26920 0.00000, 24.7699...   \n",
       "4  POLYGON Z ((24.75361 60.16631 0.00000, 24.7537...   \n",
       "\n",
       "                    centroid  nearest_loc  \n",
       "0  POINT (24.76754 60.04409)         1000  \n",
       "1  POINT (24.57415 60.19764)         1020  \n",
       "2  POINT (24.60401 60.25253)         1020  \n",
       "3  POINT (24.68683 60.30649)         1017  \n",
       "4  POINT (24.76064 60.15018)         1020  "
      ]
     },
     "execution_count": 90,
     "metadata": {},
     "output_type": "execute_result"
    }
   ],
   "source": [
    "df1['centroid'] = df1.centroid\n",
    "df1.head()"
   ]
  },
  {
   "cell_type": "markdown",
   "metadata": {},
   "source": [
    "SO, for each row of data in the disctricts -table, we want to figure out the nearest address point and fetch some attributes related to that point. In other words, we want to apply the Shapely `nearest_points`function so that we compare each polygon centroid to all address points, and based on this information access correct attribute information from the address table. \n",
    "\n",
    "For doing this, we can create a function that we will apply on the polygon GeoDataFrame:"
   ]
  },
  {
   "cell_type": "code",
   "execution_count": 80,
   "metadata": {},
   "outputs": [],
   "source": [
    "def get_nearest_values2(row, other_gdf, point_column='geometry', value_column=\"geometry\"):\n",
    "    \"\"\"Find the nearest point and return the corresponding value from specified value column.\"\"\"\n",
    "\n",
    "    # Create an union of the other GeoDataFrame's geometries:\n",
    "    other_points = other_gdf[\"geometry\"].unary_union\n",
    "\n",
    "    # Find the nearest points\n",
    "    nearest_geoms = nearest_points(row[point_column], other_points)\n",
    "\n",
    "    # Get corresponding values from the other df\n",
    "    nearest_data = other_gdf.loc[other_gdf[\"geometry\"] == nearest_geoms[1]]\n",
    "\n",
    "    nearest_value = nearest_data[value_column].values[0]\n",
    "\n",
    "    return nearest_value"
   ]
  },
  {
   "cell_type": "markdown",
   "metadata": {},
   "source": [
    "By default, this function returns the geometry of the nearest point for each row. It is also possible to fetch information from other columns by changing the `value_column` parameter."
   ]
  },
  {
   "cell_type": "code",
   "execution_count": 85,
   "metadata": {},
   "outputs": [
    {
     "data": {
      "text/html": [
       "<div>\n",
       "<style scoped>\n",
       "    .dataframe tbody tr th:only-of-type {\n",
       "        vertical-align: middle;\n",
       "    }\n",
       "\n",
       "    .dataframe tbody tr th {\n",
       "        vertical-align: top;\n",
       "    }\n",
       "\n",
       "    .dataframe thead th {\n",
       "        text-align: right;\n",
       "    }\n",
       "</style>\n",
       "<table border=\"1\" class=\"dataframe\">\n",
       "  <thead>\n",
       "    <tr style=\"text-align: right;\">\n",
       "      <th></th>\n",
       "      <th>Name</th>\n",
       "      <th>Description</th>\n",
       "      <th>geometry</th>\n",
       "      <th>centroid</th>\n",
       "      <th>nearest_loc</th>\n",
       "    </tr>\n",
       "  </thead>\n",
       "  <tbody>\n",
       "    <tr>\n",
       "      <th>0</th>\n",
       "      <td>Suur-Espoonlahti</td>\n",
       "      <td></td>\n",
       "      <td>POLYGON Z ((24.77506 60.10906 0.00000, 24.7766...</td>\n",
       "      <td>POINT (24.76754 60.04409)</td>\n",
       "      <td>POINT (24.9155624 60.1632015)</td>\n",
       "    </tr>\n",
       "    <tr>\n",
       "      <th>1</th>\n",
       "      <td>Suur-Kauklahti</td>\n",
       "      <td></td>\n",
       "      <td>POLYGON Z ((24.61578 60.17257 0.00000, 24.6155...</td>\n",
       "      <td>POINT (24.57415 60.19764)</td>\n",
       "      <td>POINT (24.8608434 60.2240225)</td>\n",
       "    </tr>\n",
       "    <tr>\n",
       "      <th>2</th>\n",
       "      <td>Vanha-Espoo</td>\n",
       "      <td></td>\n",
       "      <td>POLYGON Z ((24.67576 60.21201 0.00000, 24.6752...</td>\n",
       "      <td>POINT (24.60401 60.25253)</td>\n",
       "      <td>POINT (24.8608434 60.2240225)</td>\n",
       "    </tr>\n",
       "    <tr>\n",
       "      <th>3</th>\n",
       "      <td>Pohjois-Espoo</td>\n",
       "      <td></td>\n",
       "      <td>POLYGON Z ((24.76792 60.26920 0.00000, 24.7699...</td>\n",
       "      <td>POINT (24.68683 60.30649)</td>\n",
       "      <td>POINT (24.866902 60.2517147)</td>\n",
       "    </tr>\n",
       "    <tr>\n",
       "      <th>4</th>\n",
       "      <td>Suur-Matinkylä</td>\n",
       "      <td></td>\n",
       "      <td>POLYGON Z ((24.75361 60.16631 0.00000, 24.7537...</td>\n",
       "      <td>POINT (24.76064 60.15018)</td>\n",
       "      <td>POINT (24.8608434 60.2240225)</td>\n",
       "    </tr>\n",
       "  </tbody>\n",
       "</table>\n",
       "</div>"
      ],
      "text/plain": [
       "               Name Description  \\\n",
       "0  Suur-Espoonlahti               \n",
       "1    Suur-Kauklahti               \n",
       "2       Vanha-Espoo               \n",
       "3     Pohjois-Espoo               \n",
       "4    Suur-Matinkylä               \n",
       "\n",
       "                                            geometry  \\\n",
       "0  POLYGON Z ((24.77506 60.10906 0.00000, 24.7766...   \n",
       "1  POLYGON Z ((24.61578 60.17257 0.00000, 24.6155...   \n",
       "2  POLYGON Z ((24.67576 60.21201 0.00000, 24.6752...   \n",
       "3  POLYGON Z ((24.76792 60.26920 0.00000, 24.7699...   \n",
       "4  POLYGON Z ((24.75361 60.16631 0.00000, 24.7537...   \n",
       "\n",
       "                    centroid                    nearest_loc  \n",
       "0  POINT (24.76754 60.04409)  POINT (24.9155624 60.1632015)  \n",
       "1  POINT (24.57415 60.19764)  POINT (24.8608434 60.2240225)  \n",
       "2  POINT (24.60401 60.25253)  POINT (24.8608434 60.2240225)  \n",
       "3  POINT (24.68683 60.30649)   POINT (24.866902 60.2517147)  \n",
       "4  POINT (24.76064 60.15018)  POINT (24.8608434 60.2240225)  "
      ]
     },
     "execution_count": 85,
     "metadata": {},
     "output_type": "execute_result"
    }
   ],
   "source": [
    "df1[\"nearest_loc\"] = df1.apply(get_nearest_values2, other_gdf=df2, point_column=\"centroid\", axis=1)\n",
    "df1.head()"
   ]
  },
  {
   "cell_type": "markdown",
   "metadata": {},
   "source": [
    "The function creates a MultiPoint object from `other_gdf` geometry column (in our case, the address points) and further passes this MultiPoint object to Shapely's `nearest_points` function. \n",
    "\n",
    "Here, we are using a method for creating an union of all input geometries called `unary_union`. \n",
    "\n",
    "- Let's check how unary union works by applying it to the address points GeoDataFrame:"
   ]
  },
  {
   "cell_type": "code",
   "execution_count": 38,
   "metadata": {},
   "outputs": [
    {
     "data": {
      "text/html": [
       "<div>\n",
       "<style scoped>\n",
       "    .dataframe tbody tr th:only-of-type {\n",
       "        vertical-align: middle;\n",
       "    }\n",
       "\n",
       "    .dataframe tbody tr th {\n",
       "        vertical-align: top;\n",
       "    }\n",
       "\n",
       "    .dataframe thead th {\n",
       "        text-align: right;\n",
       "    }\n",
       "</style>\n",
       "<table border=\"1\" class=\"dataframe\">\n",
       "  <thead>\n",
       "    <tr style=\"text-align: right;\">\n",
       "      <th></th>\n",
       "      <th>address</th>\n",
       "      <th>id</th>\n",
       "      <th>addr</th>\n",
       "      <th>geometry</th>\n",
       "    </tr>\n",
       "  </thead>\n",
       "  <tbody>\n",
       "    <tr>\n",
       "      <th>0</th>\n",
       "      <td>Ruoholahti, 14, Itämerenkatu, Ruoholahti, Läns...</td>\n",
       "      <td>1000</td>\n",
       "      <td>Itämerenkatu 14, 00101 Helsinki, Finland</td>\n",
       "      <td>POINT (24.91556 60.16320)</td>\n",
       "    </tr>\n",
       "    <tr>\n",
       "      <th>1</th>\n",
       "      <td>Kamppi, 1, Kampinkuja, Kamppi, Eteläinen suurp...</td>\n",
       "      <td>1001</td>\n",
       "      <td>Kampinkuja 1, 00100 Helsinki, Finland</td>\n",
       "      <td>POINT (24.93169 60.16902)</td>\n",
       "    </tr>\n",
       "    <tr>\n",
       "      <th>2</th>\n",
       "      <td>Kauppakeskus Citycenter, 8, Kaivokatu, Keskust...</td>\n",
       "      <td>1002</td>\n",
       "      <td>Kaivokatu 8, 00101 Helsinki, Finland</td>\n",
       "      <td>POINT (24.94179 60.16989)</td>\n",
       "    </tr>\n",
       "    <tr>\n",
       "      <th>3</th>\n",
       "      <td>Hermannin rantatie, Verkkosaari, Kalasatama, S...</td>\n",
       "      <td>1003</td>\n",
       "      <td>Hermannin rantatie 1, 00580 Helsinki, Finland</td>\n",
       "      <td>POINT (24.97783 60.18892)</td>\n",
       "    </tr>\n",
       "    <tr>\n",
       "      <th>4</th>\n",
       "      <td>Hesburger, 9, Tyynenmerenkatu, Jätkäsaari, Län...</td>\n",
       "      <td>1005</td>\n",
       "      <td>Tyynenmerenkatu 9, 00220 Helsinki, Finland</td>\n",
       "      <td>POINT (24.92160 60.15665)</td>\n",
       "    </tr>\n",
       "  </tbody>\n",
       "</table>\n",
       "</div>"
      ],
      "text/plain": [
       "                                             address    id  \\\n",
       "0  Ruoholahti, 14, Itämerenkatu, Ruoholahti, Läns...  1000   \n",
       "1  Kamppi, 1, Kampinkuja, Kamppi, Eteläinen suurp...  1001   \n",
       "2  Kauppakeskus Citycenter, 8, Kaivokatu, Keskust...  1002   \n",
       "3  Hermannin rantatie, Verkkosaari, Kalasatama, S...  1003   \n",
       "4  Hesburger, 9, Tyynenmerenkatu, Jätkäsaari, Län...  1005   \n",
       "\n",
       "                                            addr                   geometry  \n",
       "0       Itämerenkatu 14, 00101 Helsinki, Finland  POINT (24.91556 60.16320)  \n",
       "1          Kampinkuja 1, 00100 Helsinki, Finland  POINT (24.93169 60.16902)  \n",
       "2           Kaivokatu 8, 00101 Helsinki, Finland  POINT (24.94179 60.16989)  \n",
       "3  Hermannin rantatie 1, 00580 Helsinki, Finland  POINT (24.97783 60.18892)  \n",
       "4     Tyynenmerenkatu 9, 00220 Helsinki, Finland  POINT (24.92160 60.15665)  "
      ]
     },
     "execution_count": 38,
     "metadata": {},
     "output_type": "execute_result"
    }
   ],
   "source": [
    "# print Address dataframe\n",
    "df2.head()"
   ]
  },
  {
   "cell_type": "code",
   "execution_count": 40,
   "metadata": {},
   "outputs": [
    {
     "data": {
      "image/svg+xml": [
       "<svg xmlns=\"http://www.w3.org/2000/svg\" xmlns:xlink=\"http://www.w3.org/1999/xlink\" width=\"100.0\" height=\"100.0\" viewBox=\"24.84984518 60.14564928 0.29695194000000313 0.143905139999994\" preserveAspectRatio=\"xMinYMin meet\"><g transform=\"matrix(1,0,0,-1,0,120.43520369999999)\"><g><circle cx=\"24.8608434\" cy=\"60.2240225\" r=\"0.008908558200000093\" stroke=\"#555555\" stroke-width=\"0.0029695194000000313\" fill=\"#66cc99\" opacity=\"0.6\" /><circle cx=\"24.866902\" cy=\"60.2517147\" r=\"0.008908558200000093\" stroke=\"#555555\" stroke-width=\"0.0029695194000000313\" fill=\"#66cc99\" opacity=\"0.6\" /><circle cx=\"24.871972035474723\" cy=\"60.22243925\" r=\"0.008908558200000093\" stroke=\"#555555\" stroke-width=\"0.0029695194000000313\" fill=\"#66cc99\" opacity=\"0.6\" /><circle cx=\"24.8785526\" cy=\"60.2401844\" r=\"0.008908558200000093\" stroke=\"#555555\" stroke-width=\"0.0029695194000000313\" fill=\"#66cc99\" opacity=\"0.6\" /><circle cx=\"24.8828133\" cy=\"60.2308046\" r=\"0.008908558200000093\" stroke=\"#555555\" stroke-width=\"0.0029695194000000313\" fill=\"#66cc99\" opacity=\"0.6\" /><circle cx=\"24.894180681709653\" cy=\"60.21721545\" r=\"0.008908558200000093\" stroke=\"#555555\" stroke-width=\"0.0029695194000000313\" fill=\"#66cc99\" opacity=\"0.6\" /><circle cx=\"24.9155624\" cy=\"60.1632015\" r=\"0.008908558200000093\" stroke=\"#555555\" stroke-width=\"0.0029695194000000313\" fill=\"#66cc99\" opacity=\"0.6\" /><circle cx=\"24.9211873\" cy=\"60.1589046\" r=\"0.008908558200000093\" stroke=\"#555555\" stroke-width=\"0.0029695194000000313\" fill=\"#66cc99\" opacity=\"0.6\" /><circle cx=\"24.9216003\" cy=\"60.1566475\" r=\"0.008908558200000093\" stroke=\"#555555\" stroke-width=\"0.0029695194000000313\" fill=\"#66cc99\" opacity=\"0.6\" /><circle cx=\"24.9247721\" cy=\"60.1648792\" r=\"0.008908558200000093\" stroke=\"#555555\" stroke-width=\"0.0029695194000000313\" fill=\"#66cc99\" opacity=\"0.6\" /><circle cx=\"24.9316914\" cy=\"60.1690222\" r=\"0.008908558200000093\" stroke=\"#555555\" stroke-width=\"0.0029695194000000313\" fill=\"#66cc99\" opacity=\"0.6\" /><circle cx=\"24.933115579810455\" cy=\"60.1690911\" r=\"0.008908558200000093\" stroke=\"#555555\" stroke-width=\"0.0029695194000000313\" fill=\"#66cc99\" opacity=\"0.6\" /><circle cx=\"24.9343517\" cy=\"60.1985716\" r=\"0.008908558200000093\" stroke=\"#555555\" stroke-width=\"0.0029695194000000313\" fill=\"#66cc99\" opacity=\"0.6\" /><circle cx=\"24.9398457\" cy=\"60.1703844\" r=\"0.008908558200000093\" stroke=\"#555555\" stroke-width=\"0.0029695194000000313\" fill=\"#66cc99\" opacity=\"0.6\" /><circle cx=\"24.94179130070015\" cy=\"60.16988715\" r=\"0.008908558200000093\" stroke=\"#555555\" stroke-width=\"0.0029695194000000313\" fill=\"#66cc99\" opacity=\"0.6\" /><circle cx=\"24.9470863\" cy=\"60.1719054\" r=\"0.008908558200000093\" stroke=\"#555555\" stroke-width=\"0.0029695194000000313\" fill=\"#66cc99\" opacity=\"0.6\" /><circle cx=\"24.9480051\" cy=\"60.2217879\" r=\"0.008908558200000093\" stroke=\"#555555\" stroke-width=\"0.0029695194000000313\" fill=\"#66cc99\" opacity=\"0.6\" /><circle cx=\"24.9495357\" cy=\"60.179494\" r=\"0.008908558200000093\" stroke=\"#555555\" stroke-width=\"0.0029695194000000313\" fill=\"#66cc99\" opacity=\"0.6\" /><circle cx=\"24.9614167\" cy=\"60.1877945\" r=\"0.008908558200000093\" stroke=\"#555555\" stroke-width=\"0.0029695194000000313\" fill=\"#66cc99\" opacity=\"0.6\" /><circle cx=\"24.9656577\" cy=\"60.2298169\" r=\"0.008908558200000093\" stroke=\"#555555\" stroke-width=\"0.0029695194000000313\" fill=\"#66cc99\" opacity=\"0.6\" /><circle cx=\"24.9778253\" cy=\"60.1889181\" r=\"0.008908558200000093\" stroke=\"#555555\" stroke-width=\"0.0029695194000000313\" fill=\"#66cc99\" opacity=\"0.6\" /><circle cx=\"24.9936217\" cy=\"60.2436491\" r=\"0.008908558200000093\" stroke=\"#555555\" stroke-width=\"0.0029695194000000313\" fill=\"#66cc99\" opacity=\"0.6\" /><circle cx=\"25.0068082\" cy=\"60.1887169\" r=\"0.008908558200000093\" stroke=\"#555555\" stroke-width=\"0.0029695194000000313\" fill=\"#66cc99\" opacity=\"0.6\" /><circle cx=\"25.0130341\" cy=\"60.2513441\" r=\"0.008908558200000093\" stroke=\"#555555\" stroke-width=\"0.0029695194000000313\" fill=\"#66cc99\" opacity=\"0.6\" /><circle cx=\"25.0206319\" cy=\"60.2435543\" r=\"0.008908558200000093\" stroke=\"#555555\" stroke-width=\"0.0029695194000000313\" fill=\"#66cc99\" opacity=\"0.6\" /><circle cx=\"25.0280029\" cy=\"60.1942632\" r=\"0.008908558200000093\" stroke=\"#555555\" stroke-width=\"0.0029695194000000313\" fill=\"#66cc99\" opacity=\"0.6\" /><circle cx=\"25.0288024\" cy=\"60.2632314\" r=\"0.008908558200000093\" stroke=\"#555555\" stroke-width=\"0.0029695194000000313\" fill=\"#66cc99\" opacity=\"0.6\" /><circle cx=\"25.0300817\" cy=\"60.2785562\" r=\"0.008908558200000093\" stroke=\"#555555\" stroke-width=\"0.0029695194000000313\" fill=\"#66cc99\" opacity=\"0.6\" /><circle cx=\"25.0752988\" cy=\"60.2245708\" r=\"0.008908558200000093\" stroke=\"#555555\" stroke-width=\"0.0029695194000000313\" fill=\"#66cc99\" opacity=\"0.6\" /><circle cx=\"25.0783462\" cy=\"60.209819\" r=\"0.008908558200000093\" stroke=\"#555555\" stroke-width=\"0.0029695194000000313\" fill=\"#66cc99\" opacity=\"0.6\" /><circle cx=\"25.081738772360573\" cy=\"60.23521665\" r=\"0.008908558200000093\" stroke=\"#555555\" stroke-width=\"0.0029695194000000313\" fill=\"#66cc99\" opacity=\"0.6\" /><circle cx=\"25.1097946\" cy=\"60.2378517\" r=\"0.008908558200000093\" stroke=\"#555555\" stroke-width=\"0.0029695194000000313\" fill=\"#66cc99\" opacity=\"0.6\" /><circle cx=\"25.1122498\" cy=\"60.222424\" r=\"0.008908558200000093\" stroke=\"#555555\" stroke-width=\"0.0029695194000000313\" fill=\"#66cc99\" opacity=\"0.6\" /><circle cx=\"25.1357989\" cy=\"60.2072005\" r=\"0.008908558200000093\" stroke=\"#555555\" stroke-width=\"0.0029695194000000313\" fill=\"#66cc99\" opacity=\"0.6\" /></g></g></svg>"
      ],
      "text/plain": [
       "<shapely.geometry.multipoint.MultiPoint at 0x1c76c16f808>"
      ]
     },
     "execution_count": 40,
     "metadata": {},
     "output_type": "execute_result"
    }
   ],
   "source": [
    "# print dataframe geometry column applying 'unary_union'\n",
    "df2.geometry.unary_union"
   ]
  },
  {
   "cell_type": "code",
   "execution_count": 24,
   "metadata": {},
   "outputs": [
    {
     "name": "stdout",
     "output_type": "stream",
     "text": [
      "MULTIPOINT (24.8608434 60.2240225, 24.86128 60.2484905, 24.8710287 60.222498, 24.8769977 60.2397435, 24.8842071 60.2305, 24.8941806817097 60.21721545, 24.9155624 60.1632015, 24.9212065 60.1587845, 24.9216003 60.1566475, 24.9252037 60.1648863, 24.9316914 60.1690222, 24.9331155798105 60.1690911, 24.9338755 60.1995271, 24.9416849 60.1699637, 24.9422931 60.1711382, 24.9470863 60.1719054, 24.9480051 60.2217879, 24.9495338 60.1794339, 24.961156 60.1879465, 24.9656577 60.2298169, 24.9719335 60.1969965, 24.9936217 60.2436491, 25.0068082 60.1887169, 25.0130341 60.2513441, 25.0204879 60.243423, 25.026632061488 60.1944775, 25.0291169 60.2636285, 25.0331561080774 60.2777903, 25.0747841 60.2253109, 25.0783462 60.209819, 25.0817387723606 60.23521665, 25.1069663 60.2391463, 25.1109579 60.2216552, 25.1368632 60.2070291)\n"
     ]
    }
   ],
   "source": [
    "unary_union = df2.unary_union\n",
    "print(unary_union)"
   ]
  },
  {
   "cell_type": "code",
   "execution_count": 20,
   "metadata": {},
   "outputs": [
    {
     "data": {
      "image/svg+xml": [
       "<svg xmlns=\"http://www.w3.org/2000/svg\" xmlns:xlink=\"http://www.w3.org/1999/xlink\" width=\"100.0\" height=\"100.0\" viewBox=\"24.84984518 60.14564928 0.29695194000000313 0.143905139999994\" preserveAspectRatio=\"xMinYMin meet\"><g transform=\"matrix(1,0,0,-1,0,120.43520369999999)\"><g><circle cx=\"24.8608434\" cy=\"60.2240225\" r=\"0.008908558200000093\" stroke=\"#555555\" stroke-width=\"0.0029695194000000313\" fill=\"#66cc99\" opacity=\"0.6\" /><circle cx=\"24.866902\" cy=\"60.2517147\" r=\"0.008908558200000093\" stroke=\"#555555\" stroke-width=\"0.0029695194000000313\" fill=\"#66cc99\" opacity=\"0.6\" /><circle cx=\"24.871972035474723\" cy=\"60.22243925\" r=\"0.008908558200000093\" stroke=\"#555555\" stroke-width=\"0.0029695194000000313\" fill=\"#66cc99\" opacity=\"0.6\" /><circle cx=\"24.8785526\" cy=\"60.2401844\" r=\"0.008908558200000093\" stroke=\"#555555\" stroke-width=\"0.0029695194000000313\" fill=\"#66cc99\" opacity=\"0.6\" /><circle cx=\"24.8828133\" cy=\"60.2308046\" r=\"0.008908558200000093\" stroke=\"#555555\" stroke-width=\"0.0029695194000000313\" fill=\"#66cc99\" opacity=\"0.6\" /><circle cx=\"24.894180681709653\" cy=\"60.21721545\" r=\"0.008908558200000093\" stroke=\"#555555\" stroke-width=\"0.0029695194000000313\" fill=\"#66cc99\" opacity=\"0.6\" /><circle cx=\"24.9155624\" cy=\"60.1632015\" r=\"0.008908558200000093\" stroke=\"#555555\" stroke-width=\"0.0029695194000000313\" fill=\"#66cc99\" opacity=\"0.6\" /><circle cx=\"24.9211873\" cy=\"60.1589046\" r=\"0.008908558200000093\" stroke=\"#555555\" stroke-width=\"0.0029695194000000313\" fill=\"#66cc99\" opacity=\"0.6\" /><circle cx=\"24.9216003\" cy=\"60.1566475\" r=\"0.008908558200000093\" stroke=\"#555555\" stroke-width=\"0.0029695194000000313\" fill=\"#66cc99\" opacity=\"0.6\" /><circle cx=\"24.9247721\" cy=\"60.1648792\" r=\"0.008908558200000093\" stroke=\"#555555\" stroke-width=\"0.0029695194000000313\" fill=\"#66cc99\" opacity=\"0.6\" /><circle cx=\"24.9316914\" cy=\"60.1690222\" r=\"0.008908558200000093\" stroke=\"#555555\" stroke-width=\"0.0029695194000000313\" fill=\"#66cc99\" opacity=\"0.6\" /><circle cx=\"24.933115579810455\" cy=\"60.1690911\" r=\"0.008908558200000093\" stroke=\"#555555\" stroke-width=\"0.0029695194000000313\" fill=\"#66cc99\" opacity=\"0.6\" /><circle cx=\"24.9343517\" cy=\"60.1985716\" r=\"0.008908558200000093\" stroke=\"#555555\" stroke-width=\"0.0029695194000000313\" fill=\"#66cc99\" opacity=\"0.6\" /><circle cx=\"24.9398457\" cy=\"60.1703844\" r=\"0.008908558200000093\" stroke=\"#555555\" stroke-width=\"0.0029695194000000313\" fill=\"#66cc99\" opacity=\"0.6\" /><circle cx=\"24.94179130070015\" cy=\"60.16988715\" r=\"0.008908558200000093\" stroke=\"#555555\" stroke-width=\"0.0029695194000000313\" fill=\"#66cc99\" opacity=\"0.6\" /><circle cx=\"24.9470863\" cy=\"60.1719054\" r=\"0.008908558200000093\" stroke=\"#555555\" stroke-width=\"0.0029695194000000313\" fill=\"#66cc99\" opacity=\"0.6\" /><circle cx=\"24.9480051\" cy=\"60.2217879\" r=\"0.008908558200000093\" stroke=\"#555555\" stroke-width=\"0.0029695194000000313\" fill=\"#66cc99\" opacity=\"0.6\" /><circle cx=\"24.9495357\" cy=\"60.179494\" r=\"0.008908558200000093\" stroke=\"#555555\" stroke-width=\"0.0029695194000000313\" fill=\"#66cc99\" opacity=\"0.6\" /><circle cx=\"24.9614167\" cy=\"60.1877945\" r=\"0.008908558200000093\" stroke=\"#555555\" stroke-width=\"0.0029695194000000313\" fill=\"#66cc99\" opacity=\"0.6\" /><circle cx=\"24.9656577\" cy=\"60.2298169\" r=\"0.008908558200000093\" stroke=\"#555555\" stroke-width=\"0.0029695194000000313\" fill=\"#66cc99\" opacity=\"0.6\" /><circle cx=\"24.9778253\" cy=\"60.1889181\" r=\"0.008908558200000093\" stroke=\"#555555\" stroke-width=\"0.0029695194000000313\" fill=\"#66cc99\" opacity=\"0.6\" /><circle cx=\"24.9936217\" cy=\"60.2436491\" r=\"0.008908558200000093\" stroke=\"#555555\" stroke-width=\"0.0029695194000000313\" fill=\"#66cc99\" opacity=\"0.6\" /><circle cx=\"25.0068082\" cy=\"60.1887169\" r=\"0.008908558200000093\" stroke=\"#555555\" stroke-width=\"0.0029695194000000313\" fill=\"#66cc99\" opacity=\"0.6\" /><circle cx=\"25.0130341\" cy=\"60.2513441\" r=\"0.008908558200000093\" stroke=\"#555555\" stroke-width=\"0.0029695194000000313\" fill=\"#66cc99\" opacity=\"0.6\" /><circle cx=\"25.0206319\" cy=\"60.2435543\" r=\"0.008908558200000093\" stroke=\"#555555\" stroke-width=\"0.0029695194000000313\" fill=\"#66cc99\" opacity=\"0.6\" /><circle cx=\"25.0280029\" cy=\"60.1942632\" r=\"0.008908558200000093\" stroke=\"#555555\" stroke-width=\"0.0029695194000000313\" fill=\"#66cc99\" opacity=\"0.6\" /><circle cx=\"25.0288024\" cy=\"60.2632314\" r=\"0.008908558200000093\" stroke=\"#555555\" stroke-width=\"0.0029695194000000313\" fill=\"#66cc99\" opacity=\"0.6\" /><circle cx=\"25.0300817\" cy=\"60.2785562\" r=\"0.008908558200000093\" stroke=\"#555555\" stroke-width=\"0.0029695194000000313\" fill=\"#66cc99\" opacity=\"0.6\" /><circle cx=\"25.0752988\" cy=\"60.2245708\" r=\"0.008908558200000093\" stroke=\"#555555\" stroke-width=\"0.0029695194000000313\" fill=\"#66cc99\" opacity=\"0.6\" /><circle cx=\"25.0783462\" cy=\"60.209819\" r=\"0.008908558200000093\" stroke=\"#555555\" stroke-width=\"0.0029695194000000313\" fill=\"#66cc99\" opacity=\"0.6\" /><circle cx=\"25.081738772360573\" cy=\"60.23521665\" r=\"0.008908558200000093\" stroke=\"#555555\" stroke-width=\"0.0029695194000000313\" fill=\"#66cc99\" opacity=\"0.6\" /><circle cx=\"25.1097946\" cy=\"60.2378517\" r=\"0.008908558200000093\" stroke=\"#555555\" stroke-width=\"0.0029695194000000313\" fill=\"#66cc99\" opacity=\"0.6\" /><circle cx=\"25.1122498\" cy=\"60.222424\" r=\"0.008908558200000093\" stroke=\"#555555\" stroke-width=\"0.0029695194000000313\" fill=\"#66cc99\" opacity=\"0.6\" /><circle cx=\"25.1357989\" cy=\"60.2072005\" r=\"0.008908558200000093\" stroke=\"#555555\" stroke-width=\"0.0029695194000000313\" fill=\"#66cc99\" opacity=\"0.6\" /></g></g></svg>"
      ],
      "text/plain": [
       "<shapely.geometry.multipoint.MultiPoint at 0x1c764824f48>"
      ]
     },
     "execution_count": 20,
     "metadata": {},
     "output_type": "execute_result"
    }
   ],
   "source": [
    "df2['geometry'].unary_union"
   ]
  },
  {
   "cell_type": "markdown",
   "metadata": {},
   "source": [
    "Okey now we are ready to use our function and find closest address point for each polygon centroid.\n",
    " - Try first applying the function without any additional modifications: "
   ]
  },
  {
   "cell_type": "code",
   "execution_count": 41,
   "metadata": {},
   "outputs": [
    {
     "data": {
      "text/html": [
       "<div>\n",
       "<style scoped>\n",
       "    .dataframe tbody tr th:only-of-type {\n",
       "        vertical-align: middle;\n",
       "    }\n",
       "\n",
       "    .dataframe tbody tr th {\n",
       "        vertical-align: top;\n",
       "    }\n",
       "\n",
       "    .dataframe thead th {\n",
       "        text-align: right;\n",
       "    }\n",
       "</style>\n",
       "<table border=\"1\" class=\"dataframe\">\n",
       "  <thead>\n",
       "    <tr style=\"text-align: right;\">\n",
       "      <th></th>\n",
       "      <th>Name</th>\n",
       "      <th>Description</th>\n",
       "      <th>geometry</th>\n",
       "      <th>centroid</th>\n",
       "    </tr>\n",
       "  </thead>\n",
       "  <tbody>\n",
       "    <tr>\n",
       "      <th>0</th>\n",
       "      <td>Suur-Espoonlahti</td>\n",
       "      <td></td>\n",
       "      <td>POLYGON Z ((24.77506 60.10906 0.00000, 24.7766...</td>\n",
       "      <td>POINT (24.76754 60.04409)</td>\n",
       "    </tr>\n",
       "    <tr>\n",
       "      <th>1</th>\n",
       "      <td>Suur-Kauklahti</td>\n",
       "      <td></td>\n",
       "      <td>POLYGON Z ((24.61578 60.17257 0.00000, 24.6155...</td>\n",
       "      <td>POINT (24.57415 60.19764)</td>\n",
       "    </tr>\n",
       "    <tr>\n",
       "      <th>2</th>\n",
       "      <td>Vanha-Espoo</td>\n",
       "      <td></td>\n",
       "      <td>POLYGON Z ((24.67576 60.21201 0.00000, 24.6752...</td>\n",
       "      <td>POINT (24.60401 60.25253)</td>\n",
       "    </tr>\n",
       "    <tr>\n",
       "      <th>3</th>\n",
       "      <td>Pohjois-Espoo</td>\n",
       "      <td></td>\n",
       "      <td>POLYGON Z ((24.76792 60.26920 0.00000, 24.7699...</td>\n",
       "      <td>POINT (24.68683 60.30649)</td>\n",
       "    </tr>\n",
       "    <tr>\n",
       "      <th>4</th>\n",
       "      <td>Suur-Matinkylä</td>\n",
       "      <td></td>\n",
       "      <td>POLYGON Z ((24.75361 60.16631 0.00000, 24.7537...</td>\n",
       "      <td>POINT (24.76064 60.15018)</td>\n",
       "    </tr>\n",
       "  </tbody>\n",
       "</table>\n",
       "</div>"
      ],
      "text/plain": [
       "               Name Description  \\\n",
       "0  Suur-Espoonlahti               \n",
       "1    Suur-Kauklahti               \n",
       "2       Vanha-Espoo               \n",
       "3     Pohjois-Espoo               \n",
       "4    Suur-Matinkylä               \n",
       "\n",
       "                                            geometry  \\\n",
       "0  POLYGON Z ((24.77506 60.10906 0.00000, 24.7766...   \n",
       "1  POLYGON Z ((24.61578 60.17257 0.00000, 24.6155...   \n",
       "2  POLYGON Z ((24.67576 60.21201 0.00000, 24.6752...   \n",
       "3  POLYGON Z ((24.76792 60.26920 0.00000, 24.7699...   \n",
       "4  POLYGON Z ((24.75361 60.16631 0.00000, 24.7537...   \n",
       "\n",
       "                    centroid  \n",
       "0  POINT (24.76754 60.04409)  \n",
       "1  POINT (24.57415 60.19764)  \n",
       "2  POINT (24.60401 60.25253)  \n",
       "3  POINT (24.68683 60.30649)  \n",
       "4  POINT (24.76064 60.15018)  "
      ]
     },
     "execution_count": 41,
     "metadata": {},
     "output_type": "execute_result"
    }
   ],
   "source": [
    "df1.head()"
   ]
  },
  {
   "cell_type": "code",
   "execution_count": 53,
   "metadata": {},
   "outputs": [
    {
     "data": {
      "text/html": [
       "<div>\n",
       "<style scoped>\n",
       "    .dataframe tbody tr th:only-of-type {\n",
       "        vertical-align: middle;\n",
       "    }\n",
       "\n",
       "    .dataframe tbody tr th {\n",
       "        vertical-align: top;\n",
       "    }\n",
       "\n",
       "    .dataframe thead th {\n",
       "        text-align: right;\n",
       "    }\n",
       "</style>\n",
       "<table border=\"1\" class=\"dataframe\">\n",
       "  <thead>\n",
       "    <tr style=\"text-align: right;\">\n",
       "      <th></th>\n",
       "      <th>address</th>\n",
       "      <th>id</th>\n",
       "      <th>addr</th>\n",
       "      <th>geometry</th>\n",
       "    </tr>\n",
       "  </thead>\n",
       "  <tbody>\n",
       "    <tr>\n",
       "      <th>0</th>\n",
       "      <td>Ruoholahti, 14, Itämerenkatu, Ruoholahti, Läns...</td>\n",
       "      <td>1000</td>\n",
       "      <td>Itämerenkatu 14, 00101 Helsinki, Finland</td>\n",
       "      <td>POINT (24.91556 60.16320)</td>\n",
       "    </tr>\n",
       "    <tr>\n",
       "      <th>1</th>\n",
       "      <td>Kamppi, 1, Kampinkuja, Kamppi, Eteläinen suurp...</td>\n",
       "      <td>1001</td>\n",
       "      <td>Kampinkuja 1, 00100 Helsinki, Finland</td>\n",
       "      <td>POINT (24.93169 60.16902)</td>\n",
       "    </tr>\n",
       "    <tr>\n",
       "      <th>2</th>\n",
       "      <td>Kauppakeskus Citycenter, 8, Kaivokatu, Keskust...</td>\n",
       "      <td>1002</td>\n",
       "      <td>Kaivokatu 8, 00101 Helsinki, Finland</td>\n",
       "      <td>POINT (24.94179 60.16989)</td>\n",
       "    </tr>\n",
       "    <tr>\n",
       "      <th>3</th>\n",
       "      <td>Hermannin rantatie, Verkkosaari, Kalasatama, S...</td>\n",
       "      <td>1003</td>\n",
       "      <td>Hermannin rantatie 1, 00580 Helsinki, Finland</td>\n",
       "      <td>POINT (24.97783 60.18892)</td>\n",
       "    </tr>\n",
       "    <tr>\n",
       "      <th>4</th>\n",
       "      <td>Hesburger, 9, Tyynenmerenkatu, Jätkäsaari, Län...</td>\n",
       "      <td>1005</td>\n",
       "      <td>Tyynenmerenkatu 9, 00220 Helsinki, Finland</td>\n",
       "      <td>POINT (24.92160 60.15665)</td>\n",
       "    </tr>\n",
       "  </tbody>\n",
       "</table>\n",
       "</div>"
      ],
      "text/plain": [
       "                                             address    id  \\\n",
       "0  Ruoholahti, 14, Itämerenkatu, Ruoholahti, Läns...  1000   \n",
       "1  Kamppi, 1, Kampinkuja, Kamppi, Eteläinen suurp...  1001   \n",
       "2  Kauppakeskus Citycenter, 8, Kaivokatu, Keskust...  1002   \n",
       "3  Hermannin rantatie, Verkkosaari, Kalasatama, S...  1003   \n",
       "4  Hesburger, 9, Tyynenmerenkatu, Jätkäsaari, Län...  1005   \n",
       "\n",
       "                                            addr                   geometry  \n",
       "0       Itämerenkatu 14, 00101 Helsinki, Finland  POINT (24.91556 60.16320)  \n",
       "1          Kampinkuja 1, 00100 Helsinki, Finland  POINT (24.93169 60.16902)  \n",
       "2           Kaivokatu 8, 00101 Helsinki, Finland  POINT (24.94179 60.16989)  \n",
       "3  Hermannin rantatie 1, 00580 Helsinki, Finland  POINT (24.97783 60.18892)  \n",
       "4     Tyynenmerenkatu 9, 00220 Helsinki, Finland  POINT (24.92160 60.15665)  "
      ]
     },
     "execution_count": 53,
     "metadata": {},
     "output_type": "execute_result"
    }
   ],
   "source": [
    "df2.head()"
   ]
  },
  {
   "cell_type": "code",
   "execution_count": 86,
   "metadata": {},
   "outputs": [
    {
     "data": {
      "text/plain": [
       "0             POINT (24.9155624 60.1632015)\n",
       "1             POINT (24.8608434 60.2240225)\n",
       "2             POINT (24.8608434 60.2240225)\n",
       "3              POINT (24.866902 60.2517147)\n",
       "4             POINT (24.8608434 60.2240225)\n",
       "5             POINT (24.8608434 60.2240225)\n",
       "6             POINT (24.8608434 60.2240225)\n",
       "7             POINT (24.8608434 60.2240225)\n",
       "8              POINT (24.866902 60.2517147)\n",
       "9              POINT (24.866902 60.2517147)\n",
       "10            POINT (24.9216003 60.1566475)\n",
       "11            POINT (25.0068082 60.1887169)\n",
       "12            POINT (24.9614167 60.1877945)\n",
       "13    POINT (24.87197203547472 60.22243925)\n",
       "14            POINT (24.9480051 60.2217879)\n",
       "15            POINT (25.0206319 60.2435543)\n",
       "16            POINT (24.9656577 60.2298169)\n",
       "17            POINT (25.0300817 60.2785562)\n",
       "18            POINT (25.0300817 60.2785562)\n",
       "19            POINT (25.1357989 60.2072005)\n",
       "20            POINT (25.1357989 60.2072005)\n",
       "21            POINT (25.1097946 60.2378517)\n",
       "22            POINT (25.0300817 60.2785562)\n",
       "dtype: object"
      ]
     },
     "execution_count": 86,
     "metadata": {},
     "output_type": "execute_result"
    }
   ],
   "source": [
    "df1.apply(get_nearest_values, other_gdf=df2, point_column='centroid', value_column=\"geometry\", axis=1)"
   ]
  },
  {
   "cell_type": "code",
   "execution_count": 87,
   "metadata": {},
   "outputs": [],
   "source": [
    "\"\"\" When applying function to dataframes, we provide the function name and its parameter, \n",
    "    then remove the row parameter, because the apply() function will iterate over the dataframe, applying \n",
    "    the function 'get_nearest_values' to each row of the dataframe.\"\"\"\n",
    "\n",
    "df1[\"nearest_loc\"] = df1.apply(get_nearest_values, other_gdf=df2, point_column=\"centroid\", value_column='geometry', axis=1)"
   ]
  },
  {
   "cell_type": "markdown",
   "metadata": {},
   "source": [
    "- Finally, we can specify that we want the `id` -column for each point, and store the output in a new column `\"nearest_loc\"`:"
   ]
  },
  {
   "cell_type": "code",
   "execution_count": 88,
   "metadata": {},
   "outputs": [],
   "source": [
    "df1[\"nearest_loc\"] = df1.apply(get_nearest_values, other_gdf=df2, point_column=\"centroid\", value_column=\"id\", axis=1)"
   ]
  },
  {
   "cell_type": "code",
   "execution_count": 89,
   "metadata": {},
   "outputs": [
    {
     "data": {
      "text/html": [
       "<div>\n",
       "<style scoped>\n",
       "    .dataframe tbody tr th:only-of-type {\n",
       "        vertical-align: middle;\n",
       "    }\n",
       "\n",
       "    .dataframe tbody tr th {\n",
       "        vertical-align: top;\n",
       "    }\n",
       "\n",
       "    .dataframe thead th {\n",
       "        text-align: right;\n",
       "    }\n",
       "</style>\n",
       "<table border=\"1\" class=\"dataframe\">\n",
       "  <thead>\n",
       "    <tr style=\"text-align: right;\">\n",
       "      <th></th>\n",
       "      <th>Name</th>\n",
       "      <th>Description</th>\n",
       "      <th>geometry</th>\n",
       "      <th>centroid</th>\n",
       "      <th>nearest_loc</th>\n",
       "    </tr>\n",
       "  </thead>\n",
       "  <tbody>\n",
       "    <tr>\n",
       "      <th>0</th>\n",
       "      <td>Suur-Espoonlahti</td>\n",
       "      <td></td>\n",
       "      <td>POLYGON Z ((24.77506 60.10906 0.00000, 24.7766...</td>\n",
       "      <td>POINT (24.76754 60.04409)</td>\n",
       "      <td>1000</td>\n",
       "    </tr>\n",
       "    <tr>\n",
       "      <th>1</th>\n",
       "      <td>Suur-Kauklahti</td>\n",
       "      <td></td>\n",
       "      <td>POLYGON Z ((24.61578 60.17257 0.00000, 24.6155...</td>\n",
       "      <td>POINT (24.57415 60.19764)</td>\n",
       "      <td>1020</td>\n",
       "    </tr>\n",
       "    <tr>\n",
       "      <th>2</th>\n",
       "      <td>Vanha-Espoo</td>\n",
       "      <td></td>\n",
       "      <td>POLYGON Z ((24.67576 60.21201 0.00000, 24.6752...</td>\n",
       "      <td>POINT (24.60401 60.25253)</td>\n",
       "      <td>1020</td>\n",
       "    </tr>\n",
       "    <tr>\n",
       "      <th>3</th>\n",
       "      <td>Pohjois-Espoo</td>\n",
       "      <td></td>\n",
       "      <td>POLYGON Z ((24.76792 60.26920 0.00000, 24.7699...</td>\n",
       "      <td>POINT (24.68683 60.30649)</td>\n",
       "      <td>1017</td>\n",
       "    </tr>\n",
       "    <tr>\n",
       "      <th>4</th>\n",
       "      <td>Suur-Matinkylä</td>\n",
       "      <td></td>\n",
       "      <td>POLYGON Z ((24.75361 60.16631 0.00000, 24.7537...</td>\n",
       "      <td>POINT (24.76064 60.15018)</td>\n",
       "      <td>1020</td>\n",
       "    </tr>\n",
       "  </tbody>\n",
       "</table>\n",
       "</div>"
      ],
      "text/plain": [
       "               Name Description  \\\n",
       "0  Suur-Espoonlahti               \n",
       "1    Suur-Kauklahti               \n",
       "2       Vanha-Espoo               \n",
       "3     Pohjois-Espoo               \n",
       "4    Suur-Matinkylä               \n",
       "\n",
       "                                            geometry  \\\n",
       "0  POLYGON Z ((24.77506 60.10906 0.00000, 24.7766...   \n",
       "1  POLYGON Z ((24.61578 60.17257 0.00000, 24.6155...   \n",
       "2  POLYGON Z ((24.67576 60.21201 0.00000, 24.6752...   \n",
       "3  POLYGON Z ((24.76792 60.26920 0.00000, 24.7699...   \n",
       "4  POLYGON Z ((24.75361 60.16631 0.00000, 24.7537...   \n",
       "\n",
       "                    centroid  nearest_loc  \n",
       "0  POINT (24.76754 60.04409)         1000  \n",
       "1  POINT (24.57415 60.19764)         1020  \n",
       "2  POINT (24.60401 60.25253)         1020  \n",
       "3  POINT (24.68683 60.30649)         1017  \n",
       "4  POINT (24.76064 60.15018)         1020  "
      ]
     },
     "execution_count": 89,
     "metadata": {},
     "output_type": "execute_result"
    }
   ],
   "source": [
    "df1.head()"
   ]
  },
  {
   "cell_type": "markdown",
   "metadata": {},
   "source": [
    "That's it! Now we found the closest point for each centroid and got the ``id`` value from our addresses into the ``df1`` GeoDataFrame.\n"
   ]
  }
 ],
 "metadata": {
  "kernelspec": {
   "display_name": "anaconda3",
   "language": "python",
   "name": "anaconda3"
  },
  "language_info": {
   "codemirror_mode": {
    "name": "ipython",
    "version": 3
   },
   "file_extension": ".py",
   "mimetype": "text/x-python",
   "name": "python",
   "nbconvert_exporter": "python",
   "pygments_lexer": "ipython3",
   "version": "3.7.6"
  }
 },
 "nbformat": 4,
 "nbformat_minor": 4
}
