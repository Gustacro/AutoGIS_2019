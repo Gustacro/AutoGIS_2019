{
 "cells": [
  {
   "cell_type": "markdown",
   "metadata": {},
   "source": [
    "# Spatial join\n",
    "\n",
    "[Spatial join](http://wiki.gis.com/wiki/index.php/Spatial_Join) is\n",
    "yet another classic GIS problem. Getting attributes from one layer and\n",
    "transferring them into another layer based on their spatial relationship\n",
    "is something you most likely need to do on a regular basis.\n",
    "\n",
    "In the previous section we learned how to perform **a Point in Polygon query**.\n",
    "We could now apply those techniques and create our own function to perform **a spatial join** between two layers based on their\n",
    "spatial relationship. We could, for example, join the attributes of a polygon layer into a point layer where each point would get the\n",
    "attributes of a polygon that ``contains`` the point.\n",
    "\n",
    "Luckily, [spatial join is already implemented in Geopandas](http://geopandas.org/mergingdata.html#spatial-joins), thus we do not need to create our own function for doing it. There are three possible types of\n",
    "join that can be applied in spatial join that are determined with ``op`` -parameter in the ``gpd.sjoin()`` -function:\n",
    "\n",
    "-  ``\"intersects\"``\n",
    "-  ``\"within\"``\n",
    "-  ``\"contains\"``\n",
    "\n",
    "Sounds familiar? Yep, all of those spatial relationships were discussed\n",
    "in the [Point in Polygon lesson](point-in-polygon.ipynb), thus you should know how they work. \n",
    "\n",
    "Furthermore, pay attention to the different options for the type of join via the `how` parameter; \"left\", \"right\" and \"inner\". You can read more about these options in the [geopandas sjoin documentation](http://geopandas.org/mergingdata.html#sjoin-arguments) and pandas guide for [merge, join and concatenate](https://pandas.pydata.org/pandas-docs/stable/user_guide/merging.html)\n",
    "\n",
    "Let's perform a spatial join between these two layers:\n",
    "- **Addresses:** the geocoded address-point (we created this Shapefile in the geocoding tutorial)\n",
    "- **Population grid:** 250m x 250m grid polygon layer that contains population information from the Helsinki Region.\n",
    "    - The population grid a dataset is produced by the **Helsinki Region Environmental\n",
    "Services Authority (HSY)** (see [this page](https://www.hsy.fi/fi/asiantuntijalle/avoindata/Sivut/AvoinData.aspx?dataID=7) to access data from different years).\n",
    "    - You can download the data from [from this link](https://www.hsy.fi/sites/AvoinData/AvoinData/SYT/Tietoyhteistyoyksikko/Shape%20(Esri)/V%C3%A4est%C3%B6tietoruudukko/Vaestotietoruudukko_2018_SHP.zip) in the  [Helsinki Region Infroshare\n",
    "(HRI) open data portal](https://hri.fi/en_gb/).\n",
    "\n",
    "\n",
    "\n",
    "- Here, we will access the data directly from the HSY wfs:\n",
    "\n"
   ]
  },
  {
   "cell_type": "code",
   "execution_count": 2,
   "metadata": {},
   "outputs": [],
   "source": [
    "import geopandas as gpd\n",
    "from pyproj import CRS\n",
    "import requests\n",
    "import geojson\n",
    "\n",
    "# # Specify the url for web feature service\n",
    "# url = 'https://kartta.hsy.fi/geoserver/wfs' # URL NOT WORKING - CHECK AGAIN LATER\n",
    "\n",
    "# # Specify parameters (read data in json format). \n",
    "# # Available feature types in this particular data source: http://geo.stat.fi/geoserver/vaestoruutu/wfs?service=wfs&version=2.0.0&request=describeFeatureType\n",
    "# params = dict(service='WFS', \n",
    "#               version='2.0.0', \n",
    "#               request='GetFeature', \n",
    "#               typeName='asuminen_ja_maankaytto:Vaestotietoruudukko_2018', \n",
    "#               outputFormat='json')\n",
    "\n",
    "# # Fetch data from WFS using requests\n",
    "# r = requests.get(url, params=params)\n",
    "\n",
    "# # Create GeoDataFrame from geojson\n",
    "# pop = gpd.GeoDataFrame.from_features(geojson.loads(r.content))"
   ]
  },
  {
   "cell_type": "markdown",
   "metadata": {},
   "source": [
    "LET'S READ THE DATA FROM THE DOWNLOADED SHAPEFILE"
   ]
  },
  {
   "cell_type": "code",
   "execution_count": 4,
   "metadata": {},
   "outputs": [],
   "source": [
    "# Read file from Shapefile\n",
    "fc = 'data/Vaestoruudukko_2018.shp'\n",
    "\n",
    "# Create GeoDataFrame from Shapefile\n",
    "pop = gpd.read_file(fc)"
   ]
  },
  {
   "cell_type": "markdown",
   "metadata": {},
   "source": [
    "- Check the result: "
   ]
  },
  {
   "cell_type": "code",
   "execution_count": 5,
   "metadata": {},
   "outputs": [
    {
     "data": {
      "text/html": [
       "<div>\n",
       "<style scoped>\n",
       "    .dataframe tbody tr th:only-of-type {\n",
       "        vertical-align: middle;\n",
       "    }\n",
       "\n",
       "    .dataframe tbody tr th {\n",
       "        vertical-align: top;\n",
       "    }\n",
       "\n",
       "    .dataframe thead th {\n",
       "        text-align: right;\n",
       "    }\n",
       "</style>\n",
       "<table border=\"1\" class=\"dataframe\">\n",
       "  <thead>\n",
       "    <tr style=\"text-align: right;\">\n",
       "      <th></th>\n",
       "      <th>INDEX</th>\n",
       "      <th>ASUKKAITA</th>\n",
       "      <th>ASVALJYYS</th>\n",
       "      <th>IKA0_9</th>\n",
       "      <th>IKA10_19</th>\n",
       "      <th>IKA20_29</th>\n",
       "      <th>IKA30_39</th>\n",
       "      <th>IKA40_49</th>\n",
       "      <th>IKA50_59</th>\n",
       "      <th>IKA60_69</th>\n",
       "      <th>IKA70_79</th>\n",
       "      <th>IKA_YLI80</th>\n",
       "      <th>geometry</th>\n",
       "    </tr>\n",
       "  </thead>\n",
       "  <tbody>\n",
       "    <tr>\n",
       "      <th>0</th>\n",
       "      <td>688</td>\n",
       "      <td>9</td>\n",
       "      <td>28.0</td>\n",
       "      <td>99</td>\n",
       "      <td>99</td>\n",
       "      <td>99</td>\n",
       "      <td>99</td>\n",
       "      <td>99</td>\n",
       "      <td>99</td>\n",
       "      <td>99</td>\n",
       "      <td>99</td>\n",
       "      <td>99</td>\n",
       "      <td>POLYGON Z ((25472499.995 6689749.005 0.000, 25...</td>\n",
       "    </tr>\n",
       "    <tr>\n",
       "      <th>1</th>\n",
       "      <td>703</td>\n",
       "      <td>5</td>\n",
       "      <td>51.0</td>\n",
       "      <td>99</td>\n",
       "      <td>99</td>\n",
       "      <td>99</td>\n",
       "      <td>99</td>\n",
       "      <td>99</td>\n",
       "      <td>99</td>\n",
       "      <td>99</td>\n",
       "      <td>99</td>\n",
       "      <td>99</td>\n",
       "      <td>POLYGON Z ((25472499.995 6685998.998 0.000, 25...</td>\n",
       "    </tr>\n",
       "    <tr>\n",
       "      <th>2</th>\n",
       "      <td>710</td>\n",
       "      <td>8</td>\n",
       "      <td>44.0</td>\n",
       "      <td>99</td>\n",
       "      <td>99</td>\n",
       "      <td>99</td>\n",
       "      <td>99</td>\n",
       "      <td>99</td>\n",
       "      <td>99</td>\n",
       "      <td>99</td>\n",
       "      <td>99</td>\n",
       "      <td>99</td>\n",
       "      <td>POLYGON Z ((25472499.995 6684249.004 0.000, 25...</td>\n",
       "    </tr>\n",
       "    <tr>\n",
       "      <th>3</th>\n",
       "      <td>711</td>\n",
       "      <td>5</td>\n",
       "      <td>90.0</td>\n",
       "      <td>99</td>\n",
       "      <td>99</td>\n",
       "      <td>99</td>\n",
       "      <td>99</td>\n",
       "      <td>99</td>\n",
       "      <td>99</td>\n",
       "      <td>99</td>\n",
       "      <td>99</td>\n",
       "      <td>99</td>\n",
       "      <td>POLYGON Z ((25472499.995 6683999.005 0.000, 25...</td>\n",
       "    </tr>\n",
       "    <tr>\n",
       "      <th>4</th>\n",
       "      <td>715</td>\n",
       "      <td>11</td>\n",
       "      <td>41.0</td>\n",
       "      <td>99</td>\n",
       "      <td>99</td>\n",
       "      <td>99</td>\n",
       "      <td>99</td>\n",
       "      <td>99</td>\n",
       "      <td>99</td>\n",
       "      <td>99</td>\n",
       "      <td>99</td>\n",
       "      <td>99</td>\n",
       "      <td>POLYGON Z ((25472499.995 6682998.998 0.000, 25...</td>\n",
       "    </tr>\n",
       "  </tbody>\n",
       "</table>\n",
       "</div>"
      ],
      "text/plain": [
       "   INDEX  ASUKKAITA  ASVALJYYS  IKA0_9  IKA10_19  IKA20_29  IKA30_39  \\\n",
       "0    688          9       28.0      99        99        99        99   \n",
       "1    703          5       51.0      99        99        99        99   \n",
       "2    710          8       44.0      99        99        99        99   \n",
       "3    711          5       90.0      99        99        99        99   \n",
       "4    715         11       41.0      99        99        99        99   \n",
       "\n",
       "   IKA40_49  IKA50_59  IKA60_69  IKA70_79  IKA_YLI80  \\\n",
       "0        99        99        99        99         99   \n",
       "1        99        99        99        99         99   \n",
       "2        99        99        99        99         99   \n",
       "3        99        99        99        99         99   \n",
       "4        99        99        99        99         99   \n",
       "\n",
       "                                            geometry  \n",
       "0  POLYGON Z ((25472499.995 6689749.005 0.000, 25...  \n",
       "1  POLYGON Z ((25472499.995 6685998.998 0.000, 25...  \n",
       "2  POLYGON Z ((25472499.995 6684249.004 0.000, 25...  \n",
       "3  POLYGON Z ((25472499.995 6683999.005 0.000, 25...  \n",
       "4  POLYGON Z ((25472499.995 6682998.998 0.000, 25...  "
      ]
     },
     "execution_count": 5,
     "metadata": {},
     "output_type": "execute_result"
    }
   ],
   "source": [
    "pop.head()"
   ]
  },
  {
   "cell_type": "markdown",
   "metadata": {},
   "source": [
    "Okey so we have multiple columns in the dataset but the most important\n",
    "one here is the column `asukkaita` (\"population\" in Finnish) that\n",
    "tells the amount of inhabitants living under that polygon.\n",
    "\n",
    "-  Let's change the name of that column into `pop18` so that it is\n",
    "   more intuitive. As you might remember, we can easily rename (Geo)DataFrame column names using the ``rename()`` function where we pass a dictionary of new column names like this: ``columns={'oldname': 'newname'}``."
   ]
  },
  {
   "cell_type": "code",
   "execution_count": 11,
   "metadata": {},
   "outputs": [
    {
     "data": {
      "text/plain": [
       "Index(['pop18', 'geometry'], dtype='object')"
      ]
     },
     "execution_count": 11,
     "metadata": {},
     "output_type": "execute_result"
    }
   ],
   "source": [
    "# re-name column name\n",
    "cols={'ASUKKAITA': 'pop18'}\n",
    "# Change the name of a column\n",
    "pop = pop.rename(columns=cols)\n",
    "\n",
    "# See the column names and confirm that we now have a column called 'pop17'\n",
    "pop.columns"
   ]
  },
  {
   "cell_type": "markdown",
   "metadata": {},
   "source": [
    "-  Let's also get rid of all unnecessary columns by selecting only\n",
    "   columns that we need i.e. ``pop18`` and ``geometry``"
   ]
  },
  {
   "cell_type": "code",
   "execution_count": 12,
   "metadata": {},
   "outputs": [],
   "source": [
    "# Subset columns\n",
    "pop = pop[[\"pop18\", \"geometry\"]]"
   ]
  },
  {
   "cell_type": "code",
   "execution_count": 13,
   "metadata": {},
   "outputs": [
    {
     "data": {
      "text/html": [
       "<div>\n",
       "<style scoped>\n",
       "    .dataframe tbody tr th:only-of-type {\n",
       "        vertical-align: middle;\n",
       "    }\n",
       "\n",
       "    .dataframe tbody tr th {\n",
       "        vertical-align: top;\n",
       "    }\n",
       "\n",
       "    .dataframe thead th {\n",
       "        text-align: right;\n",
       "    }\n",
       "</style>\n",
       "<table border=\"1\" class=\"dataframe\">\n",
       "  <thead>\n",
       "    <tr style=\"text-align: right;\">\n",
       "      <th></th>\n",
       "      <th>pop18</th>\n",
       "      <th>geometry</th>\n",
       "    </tr>\n",
       "  </thead>\n",
       "  <tbody>\n",
       "    <tr>\n",
       "      <th>0</th>\n",
       "      <td>9</td>\n",
       "      <td>POLYGON Z ((25472499.995 6689749.005 0.000, 25...</td>\n",
       "    </tr>\n",
       "    <tr>\n",
       "      <th>1</th>\n",
       "      <td>5</td>\n",
       "      <td>POLYGON Z ((25472499.995 6685998.998 0.000, 25...</td>\n",
       "    </tr>\n",
       "    <tr>\n",
       "      <th>2</th>\n",
       "      <td>8</td>\n",
       "      <td>POLYGON Z ((25472499.995 6684249.004 0.000, 25...</td>\n",
       "    </tr>\n",
       "    <tr>\n",
       "      <th>3</th>\n",
       "      <td>5</td>\n",
       "      <td>POLYGON Z ((25472499.995 6683999.005 0.000, 25...</td>\n",
       "    </tr>\n",
       "    <tr>\n",
       "      <th>4</th>\n",
       "      <td>11</td>\n",
       "      <td>POLYGON Z ((25472499.995 6682998.998 0.000, 25...</td>\n",
       "    </tr>\n",
       "  </tbody>\n",
       "</table>\n",
       "</div>"
      ],
      "text/plain": [
       "   pop18                                           geometry\n",
       "0      9  POLYGON Z ((25472499.995 6689749.005 0.000, 25...\n",
       "1      5  POLYGON Z ((25472499.995 6685998.998 0.000, 25...\n",
       "2      8  POLYGON Z ((25472499.995 6684249.004 0.000, 25...\n",
       "3      5  POLYGON Z ((25472499.995 6683999.005 0.000, 25...\n",
       "4     11  POLYGON Z ((25472499.995 6682998.998 0.000, 25..."
      ]
     },
     "execution_count": 13,
     "metadata": {},
     "output_type": "execute_result"
    }
   ],
   "source": [
    "pop.head()"
   ]
  },
  {
   "cell_type": "markdown",
   "metadata": {},
   "source": [
    "Now we have cleaned the data and have only those columns that we need\n",
    "for our analysis."
   ]
  },
  {
   "cell_type": "markdown",
   "metadata": {},
   "source": [
    "## Join the layers\n",
    "\n",
    "Now we are ready to perform the spatial join between the two layers that\n",
    "we have. The aim here is to get information about **how many people live\n",
    "in a polygon that contains an individual address-point** . Thus, we want\n",
    "to join attributes from the population layer we just modified into the\n",
    "addresses point layer ``addresses.shp`` that we created trough gecoding in the previous section.\n",
    "\n",
    "-  Read the addresses layer into memory:"
   ]
  },
  {
   "cell_type": "code",
   "execution_count": 14,
   "metadata": {},
   "outputs": [],
   "source": [
    "# Addresses filpath\n",
    "addr_fp = r\"data/addresses.shp\"\n",
    "\n",
    "# Read data\n",
    "addresses = gpd.read_file(addr_fp)"
   ]
  },
  {
   "cell_type": "code",
   "execution_count": 15,
   "metadata": {},
   "outputs": [
    {
     "data": {
      "text/html": [
       "<div>\n",
       "<style scoped>\n",
       "    .dataframe tbody tr th:only-of-type {\n",
       "        vertical-align: middle;\n",
       "    }\n",
       "\n",
       "    .dataframe tbody tr th {\n",
       "        vertical-align: top;\n",
       "    }\n",
       "\n",
       "    .dataframe thead th {\n",
       "        text-align: right;\n",
       "    }\n",
       "</style>\n",
       "<table border=\"1\" class=\"dataframe\">\n",
       "  <thead>\n",
       "    <tr style=\"text-align: right;\">\n",
       "      <th></th>\n",
       "      <th>address</th>\n",
       "      <th>id</th>\n",
       "      <th>addr</th>\n",
       "      <th>geometry</th>\n",
       "    </tr>\n",
       "  </thead>\n",
       "  <tbody>\n",
       "    <tr>\n",
       "      <th>0</th>\n",
       "      <td>Ruoholahti, 14, Itämerenkatu, Ruoholahti, Läns...</td>\n",
       "      <td>1000</td>\n",
       "      <td>Itämerenkatu 14, 00101 Helsinki, Finland</td>\n",
       "      <td>POINT (24.91556 60.16320)</td>\n",
       "    </tr>\n",
       "    <tr>\n",
       "      <th>1</th>\n",
       "      <td>Kamppi, 1, Kampinkuja, Kamppi, Eteläinen suurp...</td>\n",
       "      <td>1001</td>\n",
       "      <td>Kampinkuja 1, 00100 Helsinki, Finland</td>\n",
       "      <td>POINT (24.93169 60.16902)</td>\n",
       "    </tr>\n",
       "    <tr>\n",
       "      <th>2</th>\n",
       "      <td>Kauppakeskus Citycenter, 8, Kaivokatu, Keskust...</td>\n",
       "      <td>1002</td>\n",
       "      <td>Kaivokatu 8, 00101 Helsinki, Finland</td>\n",
       "      <td>POINT (24.94179 60.16989)</td>\n",
       "    </tr>\n",
       "    <tr>\n",
       "      <th>3</th>\n",
       "      <td>Hermannin rantatie, Verkkosaari, Kalasatama, S...</td>\n",
       "      <td>1003</td>\n",
       "      <td>Hermannin rantatie 1, 00580 Helsinki, Finland</td>\n",
       "      <td>POINT (24.97783 60.18892)</td>\n",
       "    </tr>\n",
       "    <tr>\n",
       "      <th>4</th>\n",
       "      <td>Hesburger, 9, Tyynenmerenkatu, Jätkäsaari, Län...</td>\n",
       "      <td>1005</td>\n",
       "      <td>Tyynenmerenkatu 9, 00220 Helsinki, Finland</td>\n",
       "      <td>POINT (24.92160 60.15665)</td>\n",
       "    </tr>\n",
       "  </tbody>\n",
       "</table>\n",
       "</div>"
      ],
      "text/plain": [
       "                                             address    id  \\\n",
       "0  Ruoholahti, 14, Itämerenkatu, Ruoholahti, Läns...  1000   \n",
       "1  Kamppi, 1, Kampinkuja, Kamppi, Eteläinen suurp...  1001   \n",
       "2  Kauppakeskus Citycenter, 8, Kaivokatu, Keskust...  1002   \n",
       "3  Hermannin rantatie, Verkkosaari, Kalasatama, S...  1003   \n",
       "4  Hesburger, 9, Tyynenmerenkatu, Jätkäsaari, Län...  1005   \n",
       "\n",
       "                                            addr                   geometry  \n",
       "0       Itämerenkatu 14, 00101 Helsinki, Finland  POINT (24.91556 60.16320)  \n",
       "1          Kampinkuja 1, 00100 Helsinki, Finland  POINT (24.93169 60.16902)  \n",
       "2           Kaivokatu 8, 00101 Helsinki, Finland  POINT (24.94179 60.16989)  \n",
       "3  Hermannin rantatie 1, 00580 Helsinki, Finland  POINT (24.97783 60.18892)  \n",
       "4     Tyynenmerenkatu 9, 00220 Helsinki, Finland  POINT (24.92160 60.15665)  "
      ]
     },
     "execution_count": 15,
     "metadata": {},
     "output_type": "execute_result"
    }
   ],
   "source": [
    "# Check the head of the file\n",
    "addresses.head()"
   ]
  },
  {
   "cell_type": "markdown",
   "metadata": {},
   "source": [
    "In order to do a spatial join, the layers need to be in the same projection\n",
    "\n",
    "- Check the crs of input layers:"
   ]
  },
  {
   "cell_type": "code",
   "execution_count": 26,
   "metadata": {},
   "outputs": [
    {
     "data": {
      "text/plain": [
       "<Geographic 2D CRS: EPSG:4326>\n",
       "Name: WGS 84\n",
       "Axis Info [ellipsoidal]:\n",
       "- Lat[north]: Geodetic latitude (degree)\n",
       "- Lon[east]: Geodetic longitude (degree)\n",
       "Area of Use:\n",
       "- name: World\n",
       "- bounds: (-180.0, -90.0, 180.0, 90.0)\n",
       "Datum: World Geodetic System 1984\n",
       "- Ellipsoid: WGS 84\n",
       "- Prime Meridian: Greenwich"
      ]
     },
     "execution_count": 26,
     "metadata": {},
     "output_type": "execute_result"
    }
   ],
   "source": [
    "addresses.crs"
   ]
  },
  {
   "cell_type": "code",
   "execution_count": 27,
   "metadata": {},
   "outputs": [
    {
     "data": {
      "text/plain": [
       "<Projected CRS: EPSG:3879>\n",
       "Name: ETRS89 / GK25FIN\n",
       "Axis Info [cartesian]:\n",
       "- N[north]: Northing (metre)\n",
       "- E[east]: Easting (metre)\n",
       "Area of Use:\n",
       "- name: Finland - 24.5°E to 25.5°E onshore nominal\n",
       "- bounds: (24.5, 59.94, 25.5, 68.9)\n",
       "Coordinate Operation:\n",
       "- name: Finland Gauss-Kruger zone 25\n",
       "- method: Transverse Mercator\n",
       "Datum: European Terrestrial Reference System 1989\n",
       "- Ellipsoid: GRS 1980\n",
       "- Prime Meridian: Greenwich"
      ]
     },
     "execution_count": 27,
     "metadata": {},
     "output_type": "execute_result"
    }
   ],
   "source": [
    "pop.crs"
   ]
  },
  {
   "cell_type": "markdown",
   "metadata": {},
   "source": [
    "If the crs information is missing from the population grid, we can **define the coordinate reference system** as **ETRS GK-25 (EPSG:3879)** because we know what it is based on the [population grid metadata](https://hri.fi/data/dataset/vaestotietoruudukko). "
   ]
  },
  {
   "cell_type": "markdown",
   "metadata": {},
   "source": [
    "__It is always a GOOD PRACTICE to define the crs information to WKT format__\n",
    "\n",
    "* CRS.from_epsg('EPSG_code').to_wkt()"
   ]
  },
  {
   "cell_type": "code",
   "execution_count": 37,
   "metadata": {},
   "outputs": [],
   "source": [
    "# Define crs\n",
    "pop.crs = CRS.from_epsg(3879).to_wkt()"
   ]
  },
  {
   "cell_type": "code",
   "execution_count": 38,
   "metadata": {},
   "outputs": [
    {
     "data": {
      "text/plain": [
       "<Projected CRS: EPSG:3879>\n",
       "Name: ETRS89 / GK25FIN\n",
       "Axis Info [cartesian]:\n",
       "- N[north]: Northing (metre)\n",
       "- E[east]: Easting (metre)\n",
       "Area of Use:\n",
       "- name: Finland - 24.5°E to 25.5°E onshore nominal\n",
       "- bounds: (24.5, 59.94, 25.5, 68.9)\n",
       "Coordinate Operation:\n",
       "- name: Finland Gauss-Kruger zone 25\n",
       "- method: Transverse Mercator\n",
       "Datum: European Terrestrial Reference System 1989\n",
       "- Ellipsoid: GRS 1980\n",
       "- Prime Meridian: Greenwich"
      ]
     },
     "execution_count": 38,
     "metadata": {},
     "output_type": "execute_result"
    }
   ],
   "source": [
    "pop.crs"
   ]
  },
  {
   "cell_type": "code",
   "execution_count": 39,
   "metadata": {},
   "outputs": [
    {
     "data": {
      "text/plain": [
       "False"
      ]
     },
     "execution_count": 39,
     "metadata": {},
     "output_type": "execute_result"
    }
   ],
   "source": [
    "# Are the layers in the same projection?\n",
    "addresses.crs == pop.crs"
   ]
  },
  {
   "cell_type": "markdown",
   "metadata": {},
   "source": [
    "Let's re-project addresses to the projection of the population layer:"
   ]
  },
  {
   "cell_type": "code",
   "execution_count": 40,
   "metadata": {},
   "outputs": [],
   "source": [
    "addresses = addresses.to_crs(pop.crs)"
   ]
  },
  {
   "cell_type": "markdown",
   "metadata": {},
   "source": [
    "-  Let's make sure that the coordinate reference system of the layers\n",
    "are identical"
   ]
  },
  {
   "cell_type": "code",
   "execution_count": 44,
   "metadata": {},
   "outputs": [
    {
     "name": "stdout",
     "output_type": "stream",
     "text": [
      "Addres CRS infomation:\n",
      "PROJCRS[\"ETRS89 / GK25FIN\",BASEGEOGCRS[\"ETRS89\",DATUM[\"European Terrestrial Reference System 1989\",ELLIPSOID[\"GRS 1980\",6378137,298.257222101,LENGTHUNIT[\"metre\",1]]],PRIMEM[\"Greenwich\",0,ANGLEUNIT[\"degree\",0.0174532925199433]],ID[\"EPSG\",4258]],CONVERSION[\"Finland Gauss-Kruger zone 25\",METHOD[\"Transverse Mercator\",ID[\"EPSG\",9807]],PARAMETER[\"Latitude of natural origin\",0,ANGLEUNIT[\"degree\",0.0174532925199433],ID[\"EPSG\",8801]],PARAMETER[\"Longitude of natural origin\",25,ANGLEUNIT[\"degree\",0.0174532925199433],ID[\"EPSG\",8802]],PARAMETER[\"Scale factor at natural origin\",1,SCALEUNIT[\"unity\",1],ID[\"EPSG\",8805]],PARAMETER[\"False easting\",25500000,LENGTHUNIT[\"metre\",1],ID[\"EPSG\",8806]],PARAMETER[\"False northing\",0,LENGTHUNIT[\"metre\",1],ID[\"EPSG\",8807]]],CS[Cartesian,2],AXIS[\"northing (N)\",north,ORDER[1],LENGTHUNIT[\"metre\",1]],AXIS[\"easting (E)\",east,ORDER[2],LENGTHUNIT[\"metre\",1]],USAGE[SCOPE[\"unknown\"],AREA[\"Finland - 24.5°E to 25.5°E onshore nominal\"],BBOX[59.94,24.5,68.9,25.5]],ID[\"EPSG\",3879]]\n",
      "\n",
      "pop CRS infomation:\n",
      "PROJCRS[\"ETRS89 / GK25FIN\",BASEGEOGCRS[\"ETRS89\",DATUM[\"European Terrestrial Reference System 1989\",ELLIPSOID[\"GRS 1980\",6378137,298.257222101,LENGTHUNIT[\"metre\",1]]],PRIMEM[\"Greenwich\",0,ANGLEUNIT[\"degree\",0.0174532925199433]],ID[\"EPSG\",4258]],CONVERSION[\"Finland Gauss-Kruger zone 25\",METHOD[\"Transverse Mercator\",ID[\"EPSG\",9807]],PARAMETER[\"Latitude of natural origin\",0,ANGLEUNIT[\"degree\",0.0174532925199433],ID[\"EPSG\",8801]],PARAMETER[\"Longitude of natural origin\",25,ANGLEUNIT[\"degree\",0.0174532925199433],ID[\"EPSG\",8802]],PARAMETER[\"Scale factor at natural origin\",1,SCALEUNIT[\"unity\",1],ID[\"EPSG\",8805]],PARAMETER[\"False easting\",25500000,LENGTHUNIT[\"metre\",1],ID[\"EPSG\",8806]],PARAMETER[\"False northing\",0,LENGTHUNIT[\"metre\",1],ID[\"EPSG\",8807]]],CS[Cartesian,2],AXIS[\"northing (N)\",north,ORDER[1],LENGTHUNIT[\"metre\",1]],AXIS[\"easting (E)\",east,ORDER[2],LENGTHUNIT[\"metre\",1]],USAGE[SCOPE[\"unknown\"],AREA[\"Finland - 24.5°E to 25.5°E onshore nominal\"],BBOX[59.94,24.5,68.9,25.5]],ID[\"EPSG\",3879]]\n"
     ]
    },
    {
     "data": {
      "text/plain": [
       "True"
      ]
     },
     "execution_count": 44,
     "metadata": {},
     "output_type": "execute_result"
    }
   ],
   "source": [
    "# Check the crs of address points\n",
    "print(f'Addres CRS infomation:\\n{addresses.crs}\\n')\n",
    "\n",
    "# Check the crs of population layer\n",
    "print(f'pop CRS infomation:\\n{pop.crs}')\n",
    "\n",
    "# Do they match now?\n",
    "addresses.crs == pop.crs"
   ]
  },
  {
   "cell_type": "markdown",
   "metadata": {},
   "source": [
    "Now they should be identical. Thus, we can be sure that when doing spatial\n",
    "queries between layers the locations match and we get the right results\n",
    "e.g. from the spatial join that we are conducting here.\n",
    "\n",
    "-  Let's now join the attributes from ``pop`` GeoDataFrame into\n",
    "   ``addresses`` GeoDataFrame by using ``gpd.sjoin()`` -function:"
   ]
  },
  {
   "cell_type": "code",
   "execution_count": 46,
   "metadata": {},
   "outputs": [],
   "source": [
    "# Make a spatial join\n",
    "join = gpd.sjoin(addresses, pop, how=\"inner\", op=\"within\")"
   ]
  },
  {
   "cell_type": "code",
   "execution_count": 47,
   "metadata": {},
   "outputs": [
    {
     "data": {
      "text/html": [
       "<div>\n",
       "<style scoped>\n",
       "    .dataframe tbody tr th:only-of-type {\n",
       "        vertical-align: middle;\n",
       "    }\n",
       "\n",
       "    .dataframe tbody tr th {\n",
       "        vertical-align: top;\n",
       "    }\n",
       "\n",
       "    .dataframe thead th {\n",
       "        text-align: right;\n",
       "    }\n",
       "</style>\n",
       "<table border=\"1\" class=\"dataframe\">\n",
       "  <thead>\n",
       "    <tr style=\"text-align: right;\">\n",
       "      <th></th>\n",
       "      <th>address</th>\n",
       "      <th>id</th>\n",
       "      <th>addr</th>\n",
       "      <th>geometry</th>\n",
       "      <th>index_right</th>\n",
       "      <th>pop18</th>\n",
       "    </tr>\n",
       "  </thead>\n",
       "  <tbody>\n",
       "    <tr>\n",
       "      <th>0</th>\n",
       "      <td>Ruoholahti, 14, Itämerenkatu, Ruoholahti, Läns...</td>\n",
       "      <td>1000</td>\n",
       "      <td>Itämerenkatu 14, 00101 Helsinki, Finland</td>\n",
       "      <td>POINT (25495311.608 6672258.695)</td>\n",
       "      <td>3252</td>\n",
       "      <td>515</td>\n",
       "    </tr>\n",
       "    <tr>\n",
       "      <th>1</th>\n",
       "      <td>Kamppi, 1, Kampinkuja, Kamppi, Eteläinen suurp...</td>\n",
       "      <td>1001</td>\n",
       "      <td>Kampinkuja 1, 00100 Helsinki, Finland</td>\n",
       "      <td>POINT (25496207.840 6672906.173)</td>\n",
       "      <td>3364</td>\n",
       "      <td>182</td>\n",
       "    </tr>\n",
       "    <tr>\n",
       "      <th>2</th>\n",
       "      <td>Kauppakeskus Citycenter, 8, Kaivokatu, Keskust...</td>\n",
       "      <td>1002</td>\n",
       "      <td>Kaivokatu 8, 00101 Helsinki, Finland</td>\n",
       "      <td>POINT (25496768.622 6673002.004)</td>\n",
       "      <td>3488</td>\n",
       "      <td>38</td>\n",
       "    </tr>\n",
       "    <tr>\n",
       "      <th>3</th>\n",
       "      <td>Hermannin rantatie, Verkkosaari, Kalasatama, S...</td>\n",
       "      <td>1003</td>\n",
       "      <td>Hermannin rantatie 1, 00580 Helsinki, Finland</td>\n",
       "      <td>POINT (25498769.713 6675121.127)</td>\n",
       "      <td>3822</td>\n",
       "      <td>61</td>\n",
       "    </tr>\n",
       "    <tr>\n",
       "      <th>4</th>\n",
       "      <td>Hesburger, 9, Tyynenmerenkatu, Jätkäsaari, Län...</td>\n",
       "      <td>1005</td>\n",
       "      <td>Tyynenmerenkatu 9, 00220 Helsinki, Finland</td>\n",
       "      <td>POINT (25495645.995 6671528.068)</td>\n",
       "      <td>3298</td>\n",
       "      <td>1435</td>\n",
       "    </tr>\n",
       "  </tbody>\n",
       "</table>\n",
       "</div>"
      ],
      "text/plain": [
       "                                             address    id  \\\n",
       "0  Ruoholahti, 14, Itämerenkatu, Ruoholahti, Läns...  1000   \n",
       "1  Kamppi, 1, Kampinkuja, Kamppi, Eteläinen suurp...  1001   \n",
       "2  Kauppakeskus Citycenter, 8, Kaivokatu, Keskust...  1002   \n",
       "3  Hermannin rantatie, Verkkosaari, Kalasatama, S...  1003   \n",
       "4  Hesburger, 9, Tyynenmerenkatu, Jätkäsaari, Län...  1005   \n",
       "\n",
       "                                            addr  \\\n",
       "0       Itämerenkatu 14, 00101 Helsinki, Finland   \n",
       "1          Kampinkuja 1, 00100 Helsinki, Finland   \n",
       "2           Kaivokatu 8, 00101 Helsinki, Finland   \n",
       "3  Hermannin rantatie 1, 00580 Helsinki, Finland   \n",
       "4     Tyynenmerenkatu 9, 00220 Helsinki, Finland   \n",
       "\n",
       "                           geometry  index_right  pop18  \n",
       "0  POINT (25495311.608 6672258.695)         3252    515  \n",
       "1  POINT (25496207.840 6672906.173)         3364    182  \n",
       "2  POINT (25496768.622 6673002.004)         3488     38  \n",
       "3  POINT (25498769.713 6675121.127)         3822     61  \n",
       "4  POINT (25495645.995 6671528.068)         3298   1435  "
      ]
     },
     "execution_count": 47,
     "metadata": {},
     "output_type": "execute_result"
    }
   ],
   "source": [
    "join.head()"
   ]
  },
  {
   "cell_type": "markdown",
   "metadata": {},
   "source": [
    "Awesome! Now we have performed a successful spatial join where we got\n",
    "two new columns into our ``join`` GeoDataFrame, i.e. ``index_right``\n",
    "that tells the index of the matching polygon in the population grid and\n",
    "``pop18`` which is the population in the cell where the address-point is\n",
    "located.\n",
    "\n",
    "- Let's still check how many rows of data we have now:"
   ]
  },
  {
   "cell_type": "code",
   "execution_count": 48,
   "metadata": {},
   "outputs": [
    {
     "data": {
      "text/plain": [
       "30"
      ]
     },
     "execution_count": 48,
     "metadata": {},
     "output_type": "execute_result"
    }
   ],
   "source": [
    "len(join)"
   ]
  },
  {
   "cell_type": "markdown",
   "metadata": {},
   "source": [
    "Did we lose some data here? \n",
    "\n",
    "- Check how many addresses we had originally:"
   ]
  },
  {
   "cell_type": "code",
   "execution_count": 49,
   "metadata": {},
   "outputs": [
    {
     "data": {
      "text/plain": [
       "34"
      ]
     },
     "execution_count": 49,
     "metadata": {},
     "output_type": "execute_result"
    }
   ],
   "source": [
    "len(addresses)"
   ]
  },
  {
   "cell_type": "markdown",
   "metadata": {},
   "source": [
    "If we plot the layers on top of each other, we can observe that some of the points are located outside the populated grid squares (increase figure size if you can't see this properly!)"
   ]
  },
  {
   "cell_type": "code",
   "execution_count": 52,
   "metadata": {},
   "outputs": [
    {
     "data": {
      "text/plain": [
       "<AxesSubplot:>"
      ]
     },
     "execution_count": 52,
     "metadata": {},
     "output_type": "execute_result"
    },
    {
     "data": {
      "image/png": "[encoded data removed]",
      "text/plain": [
       "<Figure size 1440x720 with 1 Axes>"
      ]
     },
     "metadata": {
      "needs_background": "light"
     },
     "output_type": "display_data"
    }
   ],
   "source": [
    "%matplotlib inline\n",
    "import matplotlib.pyplot as plt\n",
    "\n",
    "# Create a figure with one subplot\n",
    "fig, ax = plt.subplots(figsize=(20,10))\n",
    "\n",
    "# Plot population grid\n",
    "pop.plot(ax=ax)\n",
    "\n",
    "# Plot points\n",
    "addresses.plot(ax=ax, color='red', markersize=5)"
   ]
  },
  {
   "cell_type": "markdown",
   "metadata": {},
   "source": [
    "Let's also visualize the joined output:"
   ]
  },
  {
   "cell_type": "markdown",
   "metadata": {},
   "source": [
    "-  Plot the points and use the ``pop18`` column to indicate the color.\n",
    "   ``cmap`` -parameter tells to use a sequential colormap for the\n",
    "   values, ``markersize`` adjusts the size of a point, ``scheme`` parameter can be used to adjust the classification method based on [pysal](http://pysal.readthedocs.io/en/latest/library/esda/mapclassify.html), and ``legend`` tells that we want to have a legend:\n"
   ]
  },
  {
   "cell_type": "code",
   "execution_count": 51,
   "metadata": {},
   "outputs": [
    {
     "data": {
      "image/png": "[encoded data removed]",
      "text/plain": [
       "<Figure size 720x432 with 1 Axes>"
      ]
     },
     "metadata": {
      "needs_background": "light"
     },
     "output_type": "display_data"
    }
   ],
   "source": [
    "# Create a figure with one subplot\n",
    "fig, ax = plt.subplots(figsize=(10,6))\n",
    "\n",
    "# Plot the points with population info\n",
    "join.plot(ax=ax, column='pop18', cmap=\"Reds\", markersize=15, scheme='quantiles', legend=True);\n",
    "\n",
    "# Add title\n",
    "plt.title(\"Amount of inhabitants living close the the point\");\n",
    "\n",
    "# Remove white space around the figure\n",
    "plt.tight_layout()"
   ]
  },
  {
   "cell_type": "markdown",
   "metadata": {},
   "source": [
    "In a similar way, we can plot the original population grid and check the overall population distribution in Helsinki:"
   ]
  },
  {
   "cell_type": "code",
   "execution_count": 54,
   "metadata": {},
   "outputs": [
    {
     "data": {
      "image/png": "[encoded data removed]",
      "text/plain": [
       "<Figure size 1080x576 with 1 Axes>"
      ]
     },
     "metadata": {
      "needs_background": "light"
     },
     "output_type": "display_data"
    }
   ],
   "source": [
    "# Create a figure with one subplot\n",
    "fig, ax = plt.subplots(figsize=(15,8))\n",
    "\n",
    "# Plot the grid with population info\n",
    "pop.plot(ax=ax, column='pop18', cmap=\"Reds\", scheme='quantiles', legend=True);\n",
    "\n",
    "# Add title\n",
    "plt.title(\"Population 2018 in 250 x 250 m grid squares\");\n",
    "\n",
    "# Remove white space around the figure\n",
    "plt.tight_layout()"
   ]
  },
  {
   "cell_type": "markdown",
   "metadata": {},
   "source": [
    "-  Finally, let's save the result point layer into a file:"
   ]
  },
  {
   "cell_type": "code",
   "execution_count": 55,
   "metadata": {},
   "outputs": [],
   "source": [
    "# Output path\n",
    "outfp = r\"data/addresses_population.shp\"\n",
    "\n",
    "# Save to disk\n",
    "join.to_file(outfp)"
   ]
  },
  {
   "cell_type": "code",
   "execution_count": null,
   "metadata": {},
   "outputs": [],
   "source": []
  }
 ],
 "metadata": {
  "kernelspec": {
   "display_name": "anaconda3",
   "language": "python",
   "name": "anaconda3"
  },
  "language_info": {
   "codemirror_mode": {
    "name": "ipython",
    "version": 3
   },
   "file_extension": ".py",
   "mimetype": "text/x-python",
   "name": "python",
   "nbconvert_exporter": "python",
   "pygments_lexer": "ipython3",
   "version": "3.7.6"
  }
 },
 "nbformat": 4,
 "nbformat_minor": 4
}
