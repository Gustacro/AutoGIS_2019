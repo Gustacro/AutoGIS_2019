{
 "cells": [
  {
   "cell_type": "markdown",
   "metadata": {},
   "source": [
    "# Data reclassification\n",
    "\n",
    "Reclassifying data based on specific criteria is a common task when doing GIS analysis. The purpose of this lesson is to see how we can reclassify values based on some criteria which can be whatever, such as:\n",
    "\n",
    "```\n",
    "1. if travel time to my work is less than 30 minutes\n",
    "\n",
    "    AND\n",
    "\n",
    "    2. the rent of the apartment is less than 1000 € per month\n",
    "\n",
    "    ------------------------------------------------------\n",
    "\n",
    "    IF TRUE: ==> I go to view it and try to rent the apartment\n",
    "    IF NOT TRUE: ==> I continue looking for something else\n",
    "```\n",
    "\n",
    "In this tutorial, we will:\n",
    "\n",
    "1. Use classification schemes from the PySAL [mapclassify library](https://pysal.org/mapclassify/) to classify travel times into multiple classes.\n",
    "\n",
    "2. Create a custom classifier to classify travel times and distances in order to find out good locations to buy an apartment with these conditions:\n",
    "   - good public transport accessibility to city center\n",
    "   - bit further away from city center where the prices are presumably lower\n",
    "\n",
    "## Input data\n",
    "\n",
    "We will use [Travel Time Matrix data from Helsinki](https://blogs.helsinki.fi/accessibility/helsinki-region-travel-time-matrix/) that contains travel time and distance information for \n",
    "routes between all 250 m x 250 m grid cell centroids (n = 13231) in the Capital Region of Helsinki by walking, cycling, public transportation and car.\n",
    "\n",
    "In this tutorial, we will use the geojson file generated in the previous section:\n",
    "`\"data/TravelTimes_to_5975375_RailwayStation_Helsinki.geojson\"`\n",
    "\n",
    "Alternatively, you can re-download [L4 data](https://github.com/AutoGIS/data/raw/master/L4_data.zip) and use `\"data/Travel_times_to_5975375_RailwayStation.shp\"` as input file in here.\n",
    "\n",
    "\n",
    "\n",
    "## Common classifiers\n",
    "\n",
    "### Classification schemes for thematic maps\n",
    "\n",
    "\n",
    "[PySAL](http://pysal.readthedocs.io/en/latest) -module is an extensive Python library for spatial analysis. It also includes all of the most common data classifiers that are used commonly e.g. when visualizing data. Available map classifiers in [pysal's mapclassify -module](https://pysal.readthedocs.io/en/v1.11.0/library/esda/mapclassify.html):\n",
    "\n",
    " - Box_Plot\n",
    " - Equal_Interval\n",
    " - Fisher_Jenks\n",
    " - Fisher_Jenks_Sampled\n",
    " - HeadTail_Breaks\n",
    " - Jenks_Caspall\n",
    " - Jenks_Caspall_Forced\n",
    " - Jenks_Caspall_Sampled\n",
    " - Max_P_Classifier\n",
    " - Maximum_Breaks\n",
    " - Natural_Breaks\n",
    " - Quantiles\n",
    " - Percentiles\n",
    " - Std_Mean\n",
    " - User_Defined\n",
    "\n",
    "- First, we need to read our Travel Time data from Helsinki:"
   ]
  },
  {
   "cell_type": "code",
   "execution_count": 1,
   "metadata": {},
   "outputs": [
    {
     "name": "stdout",
     "output_type": "stream",
     "text": [
      "   car_m_d  car_m_t  car_r_d  car_r_t  from_id  pt_m_d  pt_m_t  pt_m_tt  \\\n",
      "0    29476       41    29483       46  5876274   29990      76       95   \n",
      "1    29456       41    29462       46  5876275   29866      74       95   \n",
      "\n",
      "   pt_r_d  pt_r_t  pt_r_tt    to_id  walk_d  walk_t    GML_ID   NAMEFIN  \\\n",
      "0   24984      77       99  5975375   25532     365  27517366  Helsinki   \n",
      "1   24860      75       93  5975375   25408     363  27517366  Helsinki   \n",
      "\n",
      "       NAMESWE NATCODE                                           geometry  \n",
      "0  Helsingfors     091  POLYGON ((402250.000 6685750.000, 402024.224 6...  \n",
      "1  Helsingfors     091  POLYGON ((402367.890 6685750.000, 402250.000 6...  \n"
     ]
    }
   ],
   "source": [
    "import geopandas as gpd\n",
    "\n",
    "fp = \"data/TravelTimes_to_5975375_RailwayStation_Helsinki.geojson\"\n",
    "\n",
    "# Read the GeoJSON file similarly as Shapefile\n",
    "acc = gpd.read_file(fp)\n",
    "\n",
    "# Let's see what we have\n",
    "print(acc.head(2))"
   ]
  },
  {
   "cell_type": "markdown",
   "metadata": {},
   "source": [
    "As we can see, there are plenty of different variables (see [from here the description](http://blogs.helsinki.fi/accessibility/helsinki-region-travel-time-matrix-2015) for all attributes) but what we are interested in are columns called `pt_r_tt` which is telling the time in minutes that it takes to reach city center from different parts of the city, and `walk_d` that tells the network distance by walking roads to reach city center from different parts of the city (almost equal to Euclidian distance).\n",
    "\n",
    "**The NoData values are presented with value -1**. \n",
    "\n",
    "- Thus we need to remove the No Data values first.\n"
   ]
  },
  {
   "cell_type": "code",
   "execution_count": 2,
   "metadata": {},
   "outputs": [
    {
     "data": {
      "text/html": [
       "<div>\n",
       "<style scoped>\n",
       "    .dataframe tbody tr th:only-of-type {\n",
       "        vertical-align: middle;\n",
       "    }\n",
       "\n",
       "    .dataframe tbody tr th {\n",
       "        vertical-align: top;\n",
       "    }\n",
       "\n",
       "    .dataframe thead th {\n",
       "        text-align: right;\n",
       "    }\n",
       "</style>\n",
       "<table border=\"1\" class=\"dataframe\">\n",
       "  <thead>\n",
       "    <tr style=\"text-align: right;\">\n",
       "      <th></th>\n",
       "      <th>car_m_d</th>\n",
       "      <th>car_m_t</th>\n",
       "      <th>car_r_d</th>\n",
       "      <th>car_r_t</th>\n",
       "      <th>from_id</th>\n",
       "      <th>pt_m_d</th>\n",
       "      <th>pt_m_t</th>\n",
       "      <th>pt_m_tt</th>\n",
       "      <th>pt_r_d</th>\n",
       "      <th>pt_r_t</th>\n",
       "      <th>pt_r_tt</th>\n",
       "      <th>to_id</th>\n",
       "      <th>walk_d</th>\n",
       "      <th>walk_t</th>\n",
       "      <th>GML_ID</th>\n",
       "      <th>NAMEFIN</th>\n",
       "      <th>NAMESWE</th>\n",
       "      <th>NATCODE</th>\n",
       "      <th>geometry</th>\n",
       "    </tr>\n",
       "  </thead>\n",
       "  <tbody>\n",
       "    <tr>\n",
       "      <th>0</th>\n",
       "      <td>29476</td>\n",
       "      <td>41</td>\n",
       "      <td>29483</td>\n",
       "      <td>46</td>\n",
       "      <td>5876274</td>\n",
       "      <td>29990</td>\n",
       "      <td>76</td>\n",
       "      <td>95</td>\n",
       "      <td>24984</td>\n",
       "      <td>77</td>\n",
       "      <td>99</td>\n",
       "      <td>5975375</td>\n",
       "      <td>25532</td>\n",
       "      <td>365</td>\n",
       "      <td>27517366</td>\n",
       "      <td>Helsinki</td>\n",
       "      <td>Helsingfors</td>\n",
       "      <td>091</td>\n",
       "      <td>POLYGON ((402250.000 6685750.000, 402024.224 6...</td>\n",
       "    </tr>\n",
       "    <tr>\n",
       "      <th>1</th>\n",
       "      <td>29456</td>\n",
       "      <td>41</td>\n",
       "      <td>29462</td>\n",
       "      <td>46</td>\n",
       "      <td>5876275</td>\n",
       "      <td>29866</td>\n",
       "      <td>74</td>\n",
       "      <td>95</td>\n",
       "      <td>24860</td>\n",
       "      <td>75</td>\n",
       "      <td>93</td>\n",
       "      <td>5975375</td>\n",
       "      <td>25408</td>\n",
       "      <td>363</td>\n",
       "      <td>27517366</td>\n",
       "      <td>Helsinki</td>\n",
       "      <td>Helsingfors</td>\n",
       "      <td>091</td>\n",
       "      <td>POLYGON ((402367.890 6685750.000, 402250.000 6...</td>\n",
       "    </tr>\n",
       "    <tr>\n",
       "      <th>2</th>\n",
       "      <td>36772</td>\n",
       "      <td>50</td>\n",
       "      <td>36778</td>\n",
       "      <td>56</td>\n",
       "      <td>5876278</td>\n",
       "      <td>33541</td>\n",
       "      <td>116</td>\n",
       "      <td>137</td>\n",
       "      <td>44265</td>\n",
       "      <td>130</td>\n",
       "      <td>146</td>\n",
       "      <td>5975375</td>\n",
       "      <td>31110</td>\n",
       "      <td>444</td>\n",
       "      <td>27517366</td>\n",
       "      <td>Helsinki</td>\n",
       "      <td>Helsingfors</td>\n",
       "      <td>091</td>\n",
       "      <td>POLYGON ((403250.000 6685750.000, 403148.515 6...</td>\n",
       "    </tr>\n",
       "    <tr>\n",
       "      <th>3</th>\n",
       "      <td>36898</td>\n",
       "      <td>49</td>\n",
       "      <td>36904</td>\n",
       "      <td>56</td>\n",
       "      <td>5876279</td>\n",
       "      <td>33720</td>\n",
       "      <td>119</td>\n",
       "      <td>141</td>\n",
       "      <td>44444</td>\n",
       "      <td>132</td>\n",
       "      <td>155</td>\n",
       "      <td>5975375</td>\n",
       "      <td>31289</td>\n",
       "      <td>447</td>\n",
       "      <td>27517366</td>\n",
       "      <td>Helsinki</td>\n",
       "      <td>Helsingfors</td>\n",
       "      <td>091</td>\n",
       "      <td>POLYGON ((403456.484 6685750.000, 403250.000 6...</td>\n",
       "    </tr>\n",
       "    <tr>\n",
       "      <th>4</th>\n",
       "      <td>29411</td>\n",
       "      <td>40</td>\n",
       "      <td>29418</td>\n",
       "      <td>44</td>\n",
       "      <td>5878128</td>\n",
       "      <td>29944</td>\n",
       "      <td>75</td>\n",
       "      <td>95</td>\n",
       "      <td>24938</td>\n",
       "      <td>76</td>\n",
       "      <td>99</td>\n",
       "      <td>5975375</td>\n",
       "      <td>25486</td>\n",
       "      <td>364</td>\n",
       "      <td>27517366</td>\n",
       "      <td>Helsinki</td>\n",
       "      <td>Helsingfors</td>\n",
       "      <td>091</td>\n",
       "      <td>POLYGON ((402000.000 6685500.000, 401900.425 6...</td>\n",
       "    </tr>\n",
       "  </tbody>\n",
       "</table>\n",
       "</div>"
      ],
      "text/plain": [
       "   car_m_d  car_m_t  car_r_d  car_r_t  from_id  pt_m_d  pt_m_t  pt_m_tt  \\\n",
       "0    29476       41    29483       46  5876274   29990      76       95   \n",
       "1    29456       41    29462       46  5876275   29866      74       95   \n",
       "2    36772       50    36778       56  5876278   33541     116      137   \n",
       "3    36898       49    36904       56  5876279   33720     119      141   \n",
       "4    29411       40    29418       44  5878128   29944      75       95   \n",
       "\n",
       "   pt_r_d  pt_r_t  pt_r_tt    to_id  walk_d  walk_t    GML_ID   NAMEFIN  \\\n",
       "0   24984      77       99  5975375   25532     365  27517366  Helsinki   \n",
       "1   24860      75       93  5975375   25408     363  27517366  Helsinki   \n",
       "2   44265     130      146  5975375   31110     444  27517366  Helsinki   \n",
       "3   44444     132      155  5975375   31289     447  27517366  Helsinki   \n",
       "4   24938      76       99  5975375   25486     364  27517366  Helsinki   \n",
       "\n",
       "       NAMESWE NATCODE                                           geometry  \n",
       "0  Helsingfors     091  POLYGON ((402250.000 6685750.000, 402024.224 6...  \n",
       "1  Helsingfors     091  POLYGON ((402367.890 6685750.000, 402250.000 6...  \n",
       "2  Helsingfors     091  POLYGON ((403250.000 6685750.000, 403148.515 6...  \n",
       "3  Helsingfors     091  POLYGON ((403456.484 6685750.000, 403250.000 6...  \n",
       "4  Helsingfors     091  POLYGON ((402000.000 6685500.000, 401900.425 6...  "
      ]
     },
     "execution_count": 2,
     "metadata": {},
     "output_type": "execute_result"
    }
   ],
   "source": [
    "# Include only data that is above or equal to 0\n",
    "acc = acc.loc[acc['pt_r_tt'] >=0]\n",
    "\n",
    "acc.head()"
   ]
  },
  {
   "cell_type": "markdown",
   "metadata": {},
   "source": [
    "- Let's plot the data and see how it looks like\n",
    "- `cmap` parameter defines the color map. Read more about [choosing colormaps in matplotlib](https://matplotlib.org/3.1.0/tutorials/colors/colormaps.html)\n",
    "- `scheme` option scales the colors according to a classification scheme (requires `mapclassify` module to be installed):"
   ]
  },
  {
   "cell_type": "code",
   "execution_count": 3,
   "metadata": {},
   "outputs": [
    {
     "data": {
      "image/png": "[encoded data removed]",
      "text/plain": [
       "<Figure size 432x288 with 1 Axes>"
      ]
     },
     "metadata": {
      "needs_background": "light"
     },
     "output_type": "display_data"
    }
   ],
   "source": [
    "%matplotlib inline\n",
    "import matplotlib.pyplot as plt\n",
    "\n",
    "# Plot using 9 classes and classify the values using \"Natural Breaks\" classification\n",
    "acc.plot(column=\"pt_r_tt\", scheme=\"Natural_Breaks\", k=9, cmap=\"RdYlBu_r\", linewidth=0, legend=True)\n",
    "\n",
    "# Use tight layout\n",
    "plt.tight_layout()"
   ]
  },
  {
   "cell_type": "markdown",
   "metadata": {},
   "source": [
    "As we can see from this map, the travel times are lower (dark blue) in the south where the city center is located, there are areas of \"good\" (light blue) accessibility, and other areas with longer travel time (where the color is red).\n",
    "\n",
    "- Let's also make a plot about walking distances:"
   ]
  },
  {
   "cell_type": "code",
   "execution_count": 4,
   "metadata": {},
   "outputs": [
    {
     "data": {
      "image/png": "[encoded data removed]",
      "text/plain": [
       "<Figure size 432x288 with 1 Axes>"
      ]
     },
     "metadata": {
      "needs_background": "light"
     },
     "output_type": "display_data"
    }
   ],
   "source": [
    "# Plot walking distance\n",
    "acc.plot(column=\"walk_d\", scheme=\"Natural_Breaks\", k=9, cmap=\"RdYlBu_r\", linewidth=0, legend=True)\n",
    "\n",
    "# Use tight layour\n",
    "plt.tight_layout()"
   ]
  },
  {
   "cell_type": "markdown",
   "metadata": {},
   "source": [
    "Okay, from here we can see that the walking distances (along road network) reminds more or less Euclidian distances. \n",
    "\n",
    "### Applying classifiers to data\n",
    "\n",
    "As mentioned, the `scheme` option defines the classification scheme using `pysal/mapclassify`. Let's have a closer look at how these classifiers work."
   ]
  },
  {
   "cell_type": "code",
   "execution_count": 5,
   "metadata": {},
   "outputs": [],
   "source": [
    "import mapclassify"
   ]
  },
  {
   "cell_type": "markdown",
   "metadata": {},
   "source": [
    "- Natural Breaks"
   ]
  },
  {
   "cell_type": "code",
   "execution_count": 6,
   "metadata": {},
   "outputs": [
    {
     "data": {
      "text/plain": [
       "NaturalBreaks           \n",
       "\n",
       "    Interval       Count\n",
       "------------------------\n",
       "[  0.00,  21.00] |   263\n",
       "( 21.00,  29.00] |   439\n",
       "( 29.00,  37.00] |   869\n",
       "( 37.00,  44.00] |   821\n",
       "( 44.00,  52.00] |   533\n",
       "( 52.00,  61.00] |   324\n",
       "( 61.00,  74.00] |   299\n",
       "( 74.00,  92.00] |   184\n",
       "( 92.00, 155.00] |    75"
      ]
     },
     "execution_count": 6,
     "metadata": {},
     "output_type": "execute_result"
    }
   ],
   "source": [
    "mapclassify.NaturalBreaks(y=acc['pt_r_tt'], k=9)"
   ]
  },
  {
   "cell_type": "markdown",
   "metadata": {},
   "source": [
    "- Quantiles (default is 5 classes):"
   ]
  },
  {
   "cell_type": "code",
   "execution_count": 7,
   "metadata": {},
   "outputs": [
    {
     "data": {
      "text/plain": [
       "Quantiles               \n",
       "\n",
       "    Interval       Count\n",
       "------------------------\n",
       "[  0.00,  30.00] |   792\n",
       "( 30.00,  37.00] |   779\n",
       "( 37.00,  44.00] |   821\n",
       "( 44.00,  56.00] |   685\n",
       "( 56.00, 155.00] |   730"
      ]
     },
     "execution_count": 7,
     "metadata": {},
     "output_type": "execute_result"
    }
   ],
   "source": [
    "mapclassify.Quantiles(y=acc['pt_r_tt'])"
   ]
  },
  {
   "cell_type": "markdown",
   "metadata": {},
   "source": [
    "- It's possible to extract the threshold values into an array:"
   ]
  },
  {
   "cell_type": "code",
   "execution_count": 8,
   "metadata": {},
   "outputs": [
    {
     "data": {
      "text/plain": [
       "array([ 21.,  30.,  38.,  45.,  53.,  63.,  77.,  95., 155.])"
      ]
     },
     "execution_count": 8,
     "metadata": {},
     "output_type": "execute_result"
    }
   ],
   "source": [
    "classifier = mapclassify.NaturalBreaks(y=acc['pt_r_tt'], k=9) # define type of classification, and the number of classes \n",
    "classifier.bins # threshold values"
   ]
  },
  {
   "cell_type": "markdown",
   "metadata": {},
   "source": [
    "- Let's apply one of the `Pysal` classifiers into our data and classify the travel times by public transport into 9 classes\n",
    "- The classifier needs to be initialized first with `make()` function that takes the number of desired classes as input parameter"
   ]
  },
  {
   "cell_type": "code",
   "execution_count": 9,
   "metadata": {},
   "outputs": [],
   "source": [
    "# Create a Natural Breaks classifier function\n",
    "classifier = mapclassify.NaturalBreaks.make(k=9)"
   ]
  },
  {
   "cell_type": "markdown",
   "metadata": {},
   "source": [
    "- Now we can apply that classifier into our data by using `apply` -function"
   ]
  },
  {
   "cell_type": "code",
   "execution_count": 13,
   "metadata": {},
   "outputs": [
    {
     "data": {
      "text/html": [
       "<div>\n",
       "<style scoped>\n",
       "    .dataframe tbody tr th:only-of-type {\n",
       "        vertical-align: middle;\n",
       "    }\n",
       "\n",
       "    .dataframe tbody tr th {\n",
       "        vertical-align: top;\n",
       "    }\n",
       "\n",
       "    .dataframe thead th {\n",
       "        text-align: right;\n",
       "    }\n",
       "</style>\n",
       "<table border=\"1\" class=\"dataframe\">\n",
       "  <thead>\n",
       "    <tr style=\"text-align: right;\">\n",
       "      <th></th>\n",
       "      <th>pt_r_tt</th>\n",
       "    </tr>\n",
       "  </thead>\n",
       "  <tbody>\n",
       "    <tr>\n",
       "      <th>0</th>\n",
       "      <td>8</td>\n",
       "    </tr>\n",
       "    <tr>\n",
       "      <th>1</th>\n",
       "      <td>7</td>\n",
       "    </tr>\n",
       "    <tr>\n",
       "      <th>2</th>\n",
       "      <td>8</td>\n",
       "    </tr>\n",
       "    <tr>\n",
       "      <th>3</th>\n",
       "      <td>8</td>\n",
       "    </tr>\n",
       "    <tr>\n",
       "      <th>4</th>\n",
       "      <td>8</td>\n",
       "    </tr>\n",
       "  </tbody>\n",
       "</table>\n",
       "</div>"
      ],
      "text/plain": [
       "   pt_r_tt\n",
       "0        8\n",
       "1        7\n",
       "2        8\n",
       "3        8\n",
       "4        8"
      ]
     },
     "execution_count": 13,
     "metadata": {},
     "output_type": "execute_result"
    }
   ],
   "source": [
    "# Classify the data\n",
    "classifications = acc[['pt_r_tt']].apply(classifier)\n",
    "\n",
    "# Let's see what we have\n",
    "classifications.head()"
   ]
  },
  {
   "cell_type": "code",
   "execution_count": 11,
   "metadata": {},
   "outputs": [
    {
     "data": {
      "text/plain": [
       "pandas.core.frame.DataFrame"
      ]
     },
     "execution_count": 11,
     "metadata": {},
     "output_type": "execute_result"
    }
   ],
   "source": [
    "type(classifications)"
   ]
  },
  {
   "cell_type": "markdown",
   "metadata": {},
   "source": [
    "Okay, so now we have a DataFrame where our input column was classified into 9 different classes (numbers 1-9) based on [Natural Breaks classification](http://wiki-1-1930356585.us-east-1.elb.amazonaws.com/wiki/index.php/Jenks_Natural_Breaks_Classification).\n",
    "\n",
    "- We can also add the classification values directly into a new column in our dataframe:"
   ]
  },
  {
   "cell_type": "code",
   "execution_count": 14,
   "metadata": {},
   "outputs": [
    {
     "data": {
      "text/html": [
       "<div>\n",
       "<style scoped>\n",
       "    .dataframe tbody tr th:only-of-type {\n",
       "        vertical-align: middle;\n",
       "    }\n",
       "\n",
       "    .dataframe tbody tr th {\n",
       "        vertical-align: top;\n",
       "    }\n",
       "\n",
       "    .dataframe thead th {\n",
       "        text-align: right;\n",
       "    }\n",
       "</style>\n",
       "<table border=\"1\" class=\"dataframe\">\n",
       "  <thead>\n",
       "    <tr style=\"text-align: right;\">\n",
       "      <th></th>\n",
       "      <th>pt_r_tt</th>\n",
       "      <th>nb_pt_r_tt</th>\n",
       "    </tr>\n",
       "  </thead>\n",
       "  <tbody>\n",
       "    <tr>\n",
       "      <th>0</th>\n",
       "      <td>99</td>\n",
       "      <td>8</td>\n",
       "    </tr>\n",
       "    <tr>\n",
       "      <th>1</th>\n",
       "      <td>93</td>\n",
       "      <td>7</td>\n",
       "    </tr>\n",
       "    <tr>\n",
       "      <th>2</th>\n",
       "      <td>146</td>\n",
       "      <td>8</td>\n",
       "    </tr>\n",
       "    <tr>\n",
       "      <th>3</th>\n",
       "      <td>155</td>\n",
       "      <td>8</td>\n",
       "    </tr>\n",
       "    <tr>\n",
       "      <th>4</th>\n",
       "      <td>99</td>\n",
       "      <td>8</td>\n",
       "    </tr>\n",
       "  </tbody>\n",
       "</table>\n",
       "</div>"
      ],
      "text/plain": [
       "   pt_r_tt  nb_pt_r_tt\n",
       "0       99           8\n",
       "1       93           7\n",
       "2      146           8\n",
       "3      155           8\n",
       "4       99           8"
      ]
     },
     "execution_count": 14,
     "metadata": {},
     "output_type": "execute_result"
    }
   ],
   "source": [
    "# Rename the column so that we know that it was classified with natural breaks\n",
    "acc['nb_pt_r_tt'] = acc[['pt_r_tt']].apply(classifier)\n",
    "\n",
    "# Check the original values and classification\n",
    "acc[['pt_r_tt', 'nb_pt_r_tt']].head()"
   ]
  },
  {
   "cell_type": "markdown",
   "metadata": {},
   "source": [
    "Great, now we have those values in our accessibility GeoDataFrame. Let's visualize the results and see how they look."
   ]
  },
  {
   "cell_type": "code",
   "execution_count": 15,
   "metadata": {},
   "outputs": [
    {
     "data": {
      "image/png": "[encoded data removed]",
      "text/plain": [
       "<Figure size 432x288 with 2 Axes>"
      ]
     },
     "metadata": {
      "needs_background": "light"
     },
     "output_type": "display_data"
    }
   ],
   "source": [
    "# Plot\n",
    "acc.plot(column=\"nb_pt_r_tt\", linewidth=0, legend=True)\n",
    "\n",
    "# Use tight layout\n",
    "plt.tight_layout()"
   ]
  },
  {
   "cell_type": "markdown",
   "metadata": {},
   "source": [
    "And here we go, now we have a map where we have used one of the common classifiers to classify our data into 9 classes."
   ]
  },
  {
   "cell_type": "markdown",
   "metadata": {},
   "source": [
    "## Plotting a histogram\n",
    "\n",
    "A histogram is a graphic representation of the distribution of the data. When classifying the data, it's always good to consider how the data is distributed, and how the classification shceme divides values into different ranges. \n",
    "\n",
    "- plot the histogram using [pandas.DataFrame.plot.hist](https://pandas.pydata.org/pandas-docs/stable/reference/api/pandas.DataFrame.plot.hist.html)\n",
    "- Number of histogram bins (groups of data) can be controlled using the parameter `bins`:"
   ]
  },
  {
   "cell_type": "code",
   "execution_count": 16,
   "metadata": {},
   "outputs": [
    {
     "data": {
      "text/plain": [
       "<AxesSubplot:ylabel='Frequency'>"
      ]
     },
     "execution_count": 16,
     "metadata": {},
     "output_type": "execute_result"
    },
    {
     "data": {
      "image/png": "[encoded data removed]",
      "text/plain": [
       "<Figure size 432x288 with 1 Axes>"
      ]
     },
     "metadata": {
      "needs_background": "light"
     },
     "output_type": "display_data"
    }
   ],
   "source": [
    "# Histogram for public transport rush hour travel time\n",
    "acc['pt_r_tt'].plot.hist(bins=50)"
   ]
  },
  {
   "cell_type": "markdown",
   "metadata": {},
   "source": [
    "Let's also add threshold values on top of the histogram as vertical lines.\n",
    "\n",
    "- Natural Breaks:"
   ]
  },
  {
   "cell_type": "code",
   "execution_count": 22,
   "metadata": {},
   "outputs": [
    {
     "name": "stdout",
     "output_type": "stream",
     "text": [
      "NaturalBreaks           \n",
      "\n",
      "    Interval       Count\n",
      "------------------------\n",
      "[  0.00,  19.00] |   196\n",
      "( 19.00,  29.00] |   506\n",
      "( 29.00,  37.00] |   869\n",
      "( 37.00,  45.00] |   914\n",
      "( 45.00,  54.00] |   512\n",
      "( 54.00,  65.00] |   391\n",
      "( 65.00,  78.00] |   202\n",
      "( 78.00,  95.00] |   163\n",
      "( 95.00, 155.00] |    54\n"
     ]
    },
    {
     "data": {
      "text/plain": [
       "<matplotlib.lines.Line2D at 0x16920706548>"
      ]
     },
     "execution_count": 22,
     "metadata": {},
     "output_type": "execute_result"
    },
    {
     "data": {
      "image/png": "[encoded data removed]",
      "text/plain": [
       "<Figure size 432x288 with 1 Axes>"
      ]
     },
     "metadata": {
      "needs_background": "light"
     },
     "output_type": "display_data"
    }
   ],
   "source": [
    "# Define classifier to classify the data\n",
    "classifier = mapclassify.NaturalBreaks(y=acc['pt_r_tt'], k=9)\n",
    "\n",
    "print(classifier)\n",
    "# Plot histogram for public transport rush hour travel time\n",
    "ax = acc['pt_r_tt'].plot.hist(bins=50)\n",
    "\n",
    "# Add vertical lines (mean value) for class breaks\n",
    "plt.axvline(acc['pt_r_tt'].mean(), color='k', linestyle='dashed', linewidth=1)"
   ]
  },
  {
   "cell_type": "markdown",
   "metadata": {},
   "source": [
    "- Quantiles:"
   ]
  },
  {
   "cell_type": "code",
   "execution_count": 23,
   "metadata": {},
   "outputs": [
    {
     "name": "stdout",
     "output_type": "stream",
     "text": [
      "Quantiles               \n",
      "\n",
      "    Interval       Count\n",
      "------------------------\n",
      "[  0.00,  30.00] |   792\n",
      "( 30.00,  37.00] |   779\n",
      "( 37.00,  44.00] |   821\n",
      "( 44.00,  56.00] |   685\n",
      "( 56.00, 155.00] |   730\n"
     ]
    },
    {
     "data": {
      "image/png": "[encoded data removed]",
      "text/plain": [
       "<Figure size 432x288 with 1 Axes>"
      ]
     },
     "metadata": {
      "needs_background": "light"
     },
     "output_type": "display_data"
    }
   ],
   "source": [
    "# Define classifier\n",
    "classifier = mapclassify.Quantiles(y=acc['pt_r_tt'], k=5)\n",
    "print(classifier)\n",
    "# Plot histogram for public transport rush hour travel time\n",
    "acc['pt_r_tt'].plot.hist(bins=50)\n",
    "\n",
    "for value in classifier.bins:\n",
    "    plt.axvline(value, color='k', linestyle='dashed', linewidth=1)"
   ]
  },
  {
   "cell_type": "markdown",
   "metadata": {},
   "source": [
    "\n",
    "<div class=\"alert alert-info\">\n",
    "\n",
    "**Task**\n",
    "\n",
    "Select another column from the data (for example, travel times by car: `car_r_t`). Do the following visualizations using one of the classification schemes available from [pysal/mapclassify](https://github.com/pysal/mapclassify):\n",
    "    \n",
    "- histogram with vertical lines showing the classification bins\n",
    "- thematic map using the classification scheme\n",
    "\n",
    "\n",
    "</div>"
   ]
  },
  {
   "cell_type": "code",
   "execution_count": null,
   "metadata": {},
   "outputs": [],
   "source": []
  },
  {
   "cell_type": "markdown",
   "metadata": {},
   "source": [
    "## Creating a custom classifier\n",
    "\n",
    "**Multicriteria data classification**\n",
    "\n",
    "Let's create a function where we classify the geometries into two classes based on a given `threshold` -parameter. If the area of a polygon is lower than the threshold value (average size of the lake), the output column will get a value 0, if it is larger, it will get a value 1. This kind of classification is often called a [binary classification](https://en.wikipedia.org/wiki/Binary_classification).\n",
    "\n",
    "First we need to create a function for our classification task. This function takes a single row of the GeoDataFrame as input, plus few other parameters that we can use.\n",
    "\n",
    "It also possible to do classifiers with multiple criteria easily in Pandas/Geopandas by extending the example that we started earlier. Now we will modify our binaryClassifier function a bit so that it classifies the data based on two columns.\n",
    "\n",
    "- Let's call it `custom_classifier` that does the binary classification based on two treshold values:\n"
   ]
  },
  {
   "cell_type": "code",
   "execution_count": 25,
   "metadata": {},
   "outputs": [],
   "source": [
    "def custom_classifier(row, src_col1, src_col2, threshold1, threshold2, output_col):\n",
    "   # 1. If the value in src_col1 is LOWER than the threshold1 value\n",
    "   # 2. AND the value in src_col2 is HIGHER than the threshold2 value, give value 1, otherwise give 0\n",
    "   if row[src_col1] < threshold1 and row[src_col2] > threshold2:\n",
    "       # Update the output column with value 0\n",
    "       row[output_col] = 1\n",
    "   # If area of input geometry is higher than the threshold value update with value 1\n",
    "   else:\n",
    "       row[output_col] = 0\n",
    "\n",
    "   # Return the updated row\n",
    "   return row"
   ]
  },
  {
   "cell_type": "markdown",
   "metadata": {},
   "source": [
    "Now we have defined the function, and we can start using it.\n",
    "\n",
    "- Let's do our classification based on two criteria and find out grid cells where the **travel time is lower or equal to 20 minutes** but they are further away **than 4 km (4000 meters) from city center**.\n",
    "\n",
    "- Let's create an empty column for our classification results called `\"suitable_area\"`.\n"
   ]
  },
  {
   "cell_type": "code",
   "execution_count": 26,
   "metadata": {},
   "outputs": [
    {
     "data": {
      "text/html": [
       "<div>\n",
       "<style scoped>\n",
       "    .dataframe tbody tr th:only-of-type {\n",
       "        vertical-align: middle;\n",
       "    }\n",
       "\n",
       "    .dataframe tbody tr th {\n",
       "        vertical-align: top;\n",
       "    }\n",
       "\n",
       "    .dataframe thead th {\n",
       "        text-align: right;\n",
       "    }\n",
       "</style>\n",
       "<table border=\"1\" class=\"dataframe\">\n",
       "  <thead>\n",
       "    <tr style=\"text-align: right;\">\n",
       "      <th></th>\n",
       "      <th>car_m_d</th>\n",
       "      <th>car_m_t</th>\n",
       "      <th>car_r_d</th>\n",
       "      <th>car_r_t</th>\n",
       "      <th>from_id</th>\n",
       "      <th>pt_m_d</th>\n",
       "      <th>pt_m_t</th>\n",
       "      <th>pt_m_tt</th>\n",
       "      <th>pt_r_d</th>\n",
       "      <th>pt_r_t</th>\n",
       "      <th>...</th>\n",
       "      <th>to_id</th>\n",
       "      <th>walk_d</th>\n",
       "      <th>walk_t</th>\n",
       "      <th>GML_ID</th>\n",
       "      <th>NAMEFIN</th>\n",
       "      <th>NAMESWE</th>\n",
       "      <th>NATCODE</th>\n",
       "      <th>geometry</th>\n",
       "      <th>nb_pt_r_tt</th>\n",
       "      <th>suitable_area</th>\n",
       "    </tr>\n",
       "  </thead>\n",
       "  <tbody>\n",
       "    <tr>\n",
       "      <th>0</th>\n",
       "      <td>29476</td>\n",
       "      <td>41</td>\n",
       "      <td>29483</td>\n",
       "      <td>46</td>\n",
       "      <td>5876274</td>\n",
       "      <td>29990</td>\n",
       "      <td>76</td>\n",
       "      <td>95</td>\n",
       "      <td>24984</td>\n",
       "      <td>77</td>\n",
       "      <td>...</td>\n",
       "      <td>5975375</td>\n",
       "      <td>25532</td>\n",
       "      <td>365</td>\n",
       "      <td>27517366</td>\n",
       "      <td>Helsinki</td>\n",
       "      <td>Helsingfors</td>\n",
       "      <td>091</td>\n",
       "      <td>POLYGON ((402250.000 6685750.000, 402024.224 6...</td>\n",
       "      <td>8</td>\n",
       "      <td>0</td>\n",
       "    </tr>\n",
       "    <tr>\n",
       "      <th>1</th>\n",
       "      <td>29456</td>\n",
       "      <td>41</td>\n",
       "      <td>29462</td>\n",
       "      <td>46</td>\n",
       "      <td>5876275</td>\n",
       "      <td>29866</td>\n",
       "      <td>74</td>\n",
       "      <td>95</td>\n",
       "      <td>24860</td>\n",
       "      <td>75</td>\n",
       "      <td>...</td>\n",
       "      <td>5975375</td>\n",
       "      <td>25408</td>\n",
       "      <td>363</td>\n",
       "      <td>27517366</td>\n",
       "      <td>Helsinki</td>\n",
       "      <td>Helsingfors</td>\n",
       "      <td>091</td>\n",
       "      <td>POLYGON ((402367.890 6685750.000, 402250.000 6...</td>\n",
       "      <td>7</td>\n",
       "      <td>0</td>\n",
       "    </tr>\n",
       "  </tbody>\n",
       "</table>\n",
       "<p>2 rows × 21 columns</p>\n",
       "</div>"
      ],
      "text/plain": [
       "   car_m_d  car_m_t  car_r_d  car_r_t  from_id  pt_m_d  pt_m_t  pt_m_tt  \\\n",
       "0    29476       41    29483       46  5876274   29990      76       95   \n",
       "1    29456       41    29462       46  5876275   29866      74       95   \n",
       "\n",
       "   pt_r_d  pt_r_t  ...    to_id  walk_d  walk_t    GML_ID   NAMEFIN  \\\n",
       "0   24984      77  ...  5975375   25532     365  27517366  Helsinki   \n",
       "1   24860      75  ...  5975375   25408     363  27517366  Helsinki   \n",
       "\n",
       "       NAMESWE NATCODE                                           geometry  \\\n",
       "0  Helsingfors     091  POLYGON ((402250.000 6685750.000, 402024.224 6...   \n",
       "1  Helsingfors     091  POLYGON ((402367.890 6685750.000, 402250.000 6...   \n",
       "\n",
       "  nb_pt_r_tt  suitable_area  \n",
       "0          8              0  \n",
       "1          7              0  \n",
       "\n",
       "[2 rows x 21 columns]"
      ]
     },
     "execution_count": 26,
     "metadata": {},
     "output_type": "execute_result"
    }
   ],
   "source": [
    "# Create column for the classification results\n",
    "acc[\"suitable_area\"] = None\n",
    "\n",
    "# Use the function\n",
    "acc = acc.apply(custom_classifier, src_col1='pt_r_tt', \n",
    "                src_col2='walk_d', threshold1=20, threshold2=4000, \n",
    "                output_col=\"suitable_area\", axis=1)\n",
    "\n",
    "# See the first rows\n",
    "acc.head(2)"
   ]
  },
  {
   "cell_type": "markdown",
   "metadata": {},
   "source": [
    "Okey we have new values in `suitable_area` -column.\n",
    "\n",
    "- How many Polygons are suitable for us? Let's find out by using a Pandas function called `value_counts()` that return the count of different values in our column.\n"
   ]
  },
  {
   "cell_type": "code",
   "execution_count": 28,
   "metadata": {},
   "outputs": [
    {
     "data": {
      "text/plain": [
       "0    3798\n",
       "1       9\n",
       "Name: suitable_area, dtype: int64"
      ]
     },
     "execution_count": 28,
     "metadata": {},
     "output_type": "execute_result"
    }
   ],
   "source": [
    "# Get value counts fron unique values\n",
    "acc['suitable_area'].value_counts()"
   ]
  },
  {
   "cell_type": "markdown",
   "metadata": {},
   "source": [
    "Okay, so there seems to be nine suitable locations for us where we can try to find an appartment to buy.\n",
    "\n",
    "- Let's see where they are located:\n"
   ]
  },
  {
   "cell_type": "code",
   "execution_count": 29,
   "metadata": {},
   "outputs": [
    {
     "data": {
      "image/png": "[encoded data removed]",
      "text/plain": [
       "<Figure size 432x288 with 1 Axes>"
      ]
     },
     "metadata": {
      "needs_background": "light"
     },
     "output_type": "display_data"
    }
   ],
   "source": [
    "# Plot\n",
    "acc.plot(column=\"suitable_area\", linewidth=0);\n",
    "\n",
    "# Use tight layour\n",
    "plt.tight_layout()"
   ]
  },
  {
   "cell_type": "markdown",
   "metadata": {},
   "source": [
    "A-haa, okay so we can see that suitable places for us with our criteria seem to be located in the\n",
    "eastern part from the city center. Actually, those locations are along the metro line which makes them good locations in terms of travel time to city center since metro is really fast travel mode.\n",
    "\n",
    "**Other examples**\n",
    "\n",
    "Older course materials contain an example of applying a [custom binary classifier on the Corine land cover data](https://automating-gis-processes.github.io/2017/lessons/L4/reclassify.html#classifying-data>)."
   ]
  }
 ],
 "metadata": {
  "kernelspec": {
   "display_name": "anaconda3",
   "language": "python",
   "name": "anaconda3"
  },
  "language_info": {
   "codemirror_mode": {
    "name": "ipython",
    "version": 3
   },
   "file_extension": ".py",
   "mimetype": "text/x-python",
   "name": "python",
   "nbconvert_exporter": "python",
   "pygments_lexer": "ipython3",
   "version": "3.7.6"
  }
 },
 "nbformat": 4,
 "nbformat_minor": 4
}
