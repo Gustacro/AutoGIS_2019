{
 "cells": [
  {
   "cell_type": "code",
   "execution_count": 3,
   "metadata": {},
   "outputs": [],
   "source": [
    "# import modules\n",
    "\n",
    "import pandas as pd\n",
    "import numpy as np\n",
    "import geopandas as gpd\n",
    "import matplotlib.pyplot as plt\n",
    "from pyproj import CRS\n",
    "import shapely.speedups\n",
    "import folium\n",
    "from folium.plugins import Search, MarkerCluster\n",
    "from shapely.geometry import Polygon, MultiPolygon\n",
    "import os, sys\n",
    "%matplotlib inline\n"
   ]
  },
  {
   "cell_type": "markdown",
   "metadata": {},
   "source": [
    "Let's get some data"
   ]
  },
  {
   "cell_type": "code",
   "execution_count": 4,
   "metadata": {},
   "outputs": [],
   "source": [
    "# root data\n",
    "root = r\"D:\\Gustavo\\resource_center\\RLIS\"\n",
    "\n",
    "# import data\n",
    "school_fp =  \"PLACES\\schools.shp\"\n",
    "lib_fp = \"PLACES\\library.shp\"\n",
    "districts_fp = \"CENSUS\\district20.shp\""
   ]
  },
  {
   "cell_type": "markdown",
   "metadata": {},
   "source": [
    "Convert into GeoDataFrame, and change the column name from `UPPECASE` to `lowercase`"
   ]
  },
  {
   "cell_type": "code",
   "execution_count": 5,
   "metadata": {},
   "outputs": [
    {
     "ename": "DriverError",
     "evalue": "D:\\Gustavo\\resource_center\\RLIS\\PLACES\\schools.shp: No such file or directory",
     "output_type": "error",
     "traceback": [
      "\u001b[1;31m---------------------------------------------------------------------------\u001b[0m",
      "\u001b[1;31mCPLE_OpenFailedError\u001b[0m                      Traceback (most recent call last)",
      "\u001b[1;32mfiona/_shim.pyx\u001b[0m in \u001b[0;36mfiona._shim.gdal_open_vector\u001b[1;34m()\u001b[0m\n",
      "\u001b[1;32mfiona/_err.pyx\u001b[0m in \u001b[0;36mfiona._err.exc_wrap_pointer\u001b[1;34m()\u001b[0m\n",
      "\u001b[1;31mCPLE_OpenFailedError\u001b[0m: D:\\Gustavo\\resource_center\\RLIS\\PLACES\\schools.shp: No such file or directory",
      "\nDuring handling of the above exception, another exception occurred:\n",
      "\u001b[1;31mDriverError\u001b[0m                               Traceback (most recent call last)",
      "\u001b[1;32m<ipython-input-5-a8763775e6a6>\u001b[0m in \u001b[0;36m<module>\u001b[1;34m\u001b[0m\n\u001b[0;32m      1\u001b[0m \u001b[1;31m# Shapefile to GeoDataFrame\u001b[0m\u001b[1;33m\u001b[0m\u001b[1;33m\u001b[0m\u001b[1;33m\u001b[0m\u001b[0m\n\u001b[1;32m----> 2\u001b[1;33m \u001b[0mschools\u001b[0m \u001b[1;33m=\u001b[0m \u001b[0mgpd\u001b[0m\u001b[1;33m.\u001b[0m\u001b[0mread_file\u001b[0m\u001b[1;33m(\u001b[0m\u001b[0mos\u001b[0m\u001b[1;33m.\u001b[0m\u001b[0mpath\u001b[0m\u001b[1;33m.\u001b[0m\u001b[0mjoin\u001b[0m\u001b[1;33m(\u001b[0m\u001b[0mroot\u001b[0m\u001b[1;33m,\u001b[0m \u001b[0mschool_fp\u001b[0m\u001b[1;33m)\u001b[0m\u001b[1;33m)\u001b[0m\u001b[1;33m\u001b[0m\u001b[1;33m\u001b[0m\u001b[0m\n\u001b[0m\u001b[0;32m      3\u001b[0m \u001b[0mschools\u001b[0m\u001b[1;33m.\u001b[0m\u001b[0mcolumns\u001b[0m \u001b[1;33m=\u001b[0m \u001b[0mschools\u001b[0m\u001b[1;33m.\u001b[0m\u001b[0mcolumns\u001b[0m\u001b[1;33m.\u001b[0m\u001b[0mstr\u001b[0m\u001b[1;33m.\u001b[0m\u001b[0mlower\u001b[0m\u001b[1;33m(\u001b[0m\u001b[1;33m)\u001b[0m \u001b[1;31m# from UPPERCASE to lowercase\u001b[0m\u001b[1;33m\u001b[0m\u001b[1;33m\u001b[0m\u001b[0m\n\u001b[0;32m      4\u001b[0m \u001b[1;33m\u001b[0m\u001b[0m\n\u001b[0;32m      5\u001b[0m \u001b[0mlibraries\u001b[0m \u001b[1;33m=\u001b[0m \u001b[0mgpd\u001b[0m\u001b[1;33m.\u001b[0m\u001b[0mread_file\u001b[0m\u001b[1;33m(\u001b[0m\u001b[0mos\u001b[0m\u001b[1;33m.\u001b[0m\u001b[0mpath\u001b[0m\u001b[1;33m.\u001b[0m\u001b[0mjoin\u001b[0m\u001b[1;33m(\u001b[0m\u001b[0mroot\u001b[0m\u001b[1;33m,\u001b[0m \u001b[0mlib_fp\u001b[0m\u001b[1;33m)\u001b[0m\u001b[1;33m)\u001b[0m\u001b[1;33m\u001b[0m\u001b[1;33m\u001b[0m\u001b[0m\n",
      "\u001b[1;32m~\\Anaconda3\\lib\\site-packages\\geopandas\\io\\file.py\u001b[0m in \u001b[0;36m_read_file\u001b[1;34m(filename, bbox, mask, rows, **kwargs)\u001b[0m\n\u001b[0;32m     94\u001b[0m \u001b[1;33m\u001b[0m\u001b[0m\n\u001b[0;32m     95\u001b[0m     \u001b[1;32mwith\u001b[0m \u001b[0mfiona_env\u001b[0m\u001b[1;33m(\u001b[0m\u001b[1;33m)\u001b[0m\u001b[1;33m:\u001b[0m\u001b[1;33m\u001b[0m\u001b[1;33m\u001b[0m\u001b[0m\n\u001b[1;32m---> 96\u001b[1;33m         \u001b[1;32mwith\u001b[0m \u001b[0mreader\u001b[0m\u001b[1;33m(\u001b[0m\u001b[0mpath_or_bytes\u001b[0m\u001b[1;33m,\u001b[0m \u001b[1;33m**\u001b[0m\u001b[0mkwargs\u001b[0m\u001b[1;33m)\u001b[0m \u001b[1;32mas\u001b[0m \u001b[0mfeatures\u001b[0m\u001b[1;33m:\u001b[0m\u001b[1;33m\u001b[0m\u001b[1;33m\u001b[0m\u001b[0m\n\u001b[0m\u001b[0;32m     97\u001b[0m \u001b[1;33m\u001b[0m\u001b[0m\n\u001b[0;32m     98\u001b[0m             \u001b[1;31m# In a future Fiona release the crs attribute of features will\u001b[0m\u001b[1;33m\u001b[0m\u001b[1;33m\u001b[0m\u001b[1;33m\u001b[0m\u001b[0m\n",
      "\u001b[1;32m~\\Anaconda3\\lib\\site-packages\\fiona\\env.py\u001b[0m in \u001b[0;36mwrapper\u001b[1;34m(*args, **kwargs)\u001b[0m\n\u001b[0;32m    396\u001b[0m     \u001b[1;32mdef\u001b[0m \u001b[0mwrapper\u001b[0m\u001b[1;33m(\u001b[0m\u001b[1;33m*\u001b[0m\u001b[0margs\u001b[0m\u001b[1;33m,\u001b[0m \u001b[1;33m**\u001b[0m\u001b[0mkwargs\u001b[0m\u001b[1;33m)\u001b[0m\u001b[1;33m:\u001b[0m\u001b[1;33m\u001b[0m\u001b[1;33m\u001b[0m\u001b[0m\n\u001b[0;32m    397\u001b[0m         \u001b[1;32mif\u001b[0m \u001b[0mlocal\u001b[0m\u001b[1;33m.\u001b[0m\u001b[0m_env\u001b[0m\u001b[1;33m:\u001b[0m\u001b[1;33m\u001b[0m\u001b[1;33m\u001b[0m\u001b[0m\n\u001b[1;32m--> 398\u001b[1;33m             \u001b[1;32mreturn\u001b[0m \u001b[0mf\u001b[0m\u001b[1;33m(\u001b[0m\u001b[1;33m*\u001b[0m\u001b[0margs\u001b[0m\u001b[1;33m,\u001b[0m \u001b[1;33m**\u001b[0m\u001b[0mkwargs\u001b[0m\u001b[1;33m)\u001b[0m\u001b[1;33m\u001b[0m\u001b[1;33m\u001b[0m\u001b[0m\n\u001b[0m\u001b[0;32m    399\u001b[0m         \u001b[1;32melse\u001b[0m\u001b[1;33m:\u001b[0m\u001b[1;33m\u001b[0m\u001b[1;33m\u001b[0m\u001b[0m\n\u001b[0;32m    400\u001b[0m             \u001b[1;32mif\u001b[0m \u001b[0misinstance\u001b[0m\u001b[1;33m(\u001b[0m\u001b[0margs\u001b[0m\u001b[1;33m[\u001b[0m\u001b[1;36m0\u001b[0m\u001b[1;33m]\u001b[0m\u001b[1;33m,\u001b[0m \u001b[0mstr\u001b[0m\u001b[1;33m)\u001b[0m\u001b[1;33m:\u001b[0m\u001b[1;33m\u001b[0m\u001b[1;33m\u001b[0m\u001b[0m\n",
      "\u001b[1;32m~\\Anaconda3\\lib\\site-packages\\fiona\\__init__.py\u001b[0m in \u001b[0;36mopen\u001b[1;34m(fp, mode, driver, schema, crs, encoding, layer, vfs, enabled_drivers, crs_wkt, **kwargs)\u001b[0m\n\u001b[0;32m    252\u001b[0m         \u001b[1;32mif\u001b[0m \u001b[0mmode\u001b[0m \u001b[1;32min\u001b[0m \u001b[1;33m(\u001b[0m\u001b[1;34m'a'\u001b[0m\u001b[1;33m,\u001b[0m \u001b[1;34m'r'\u001b[0m\u001b[1;33m)\u001b[0m\u001b[1;33m:\u001b[0m\u001b[1;33m\u001b[0m\u001b[1;33m\u001b[0m\u001b[0m\n\u001b[0;32m    253\u001b[0m             c = Collection(path, mode, driver=driver, encoding=encoding,\n\u001b[1;32m--> 254\u001b[1;33m                            layer=layer, enabled_drivers=enabled_drivers, **kwargs)\n\u001b[0m\u001b[0;32m    255\u001b[0m         \u001b[1;32melif\u001b[0m \u001b[0mmode\u001b[0m \u001b[1;33m==\u001b[0m \u001b[1;34m'w'\u001b[0m\u001b[1;33m:\u001b[0m\u001b[1;33m\u001b[0m\u001b[1;33m\u001b[0m\u001b[0m\n\u001b[0;32m    256\u001b[0m             \u001b[1;32mif\u001b[0m \u001b[0mschema\u001b[0m\u001b[1;33m:\u001b[0m\u001b[1;33m\u001b[0m\u001b[1;33m\u001b[0m\u001b[0m\n",
      "\u001b[1;32m~\\Anaconda3\\lib\\site-packages\\fiona\\collection.py\u001b[0m in \u001b[0;36m__init__\u001b[1;34m(self, path, mode, driver, schema, crs, encoding, layer, vsi, archive, enabled_drivers, crs_wkt, ignore_fields, ignore_geometry, **kwargs)\u001b[0m\n\u001b[0;32m    152\u001b[0m             \u001b[1;32mif\u001b[0m \u001b[0mself\u001b[0m\u001b[1;33m.\u001b[0m\u001b[0mmode\u001b[0m \u001b[1;33m==\u001b[0m \u001b[1;34m'r'\u001b[0m\u001b[1;33m:\u001b[0m\u001b[1;33m\u001b[0m\u001b[1;33m\u001b[0m\u001b[0m\n\u001b[0;32m    153\u001b[0m                 \u001b[0mself\u001b[0m\u001b[1;33m.\u001b[0m\u001b[0msession\u001b[0m \u001b[1;33m=\u001b[0m \u001b[0mSession\u001b[0m\u001b[1;33m(\u001b[0m\u001b[1;33m)\u001b[0m\u001b[1;33m\u001b[0m\u001b[1;33m\u001b[0m\u001b[0m\n\u001b[1;32m--> 154\u001b[1;33m                 \u001b[0mself\u001b[0m\u001b[1;33m.\u001b[0m\u001b[0msession\u001b[0m\u001b[1;33m.\u001b[0m\u001b[0mstart\u001b[0m\u001b[1;33m(\u001b[0m\u001b[0mself\u001b[0m\u001b[1;33m,\u001b[0m \u001b[1;33m**\u001b[0m\u001b[0mkwargs\u001b[0m\u001b[1;33m)\u001b[0m\u001b[1;33m\u001b[0m\u001b[1;33m\u001b[0m\u001b[0m\n\u001b[0m\u001b[0;32m    155\u001b[0m             \u001b[1;32melif\u001b[0m \u001b[0mself\u001b[0m\u001b[1;33m.\u001b[0m\u001b[0mmode\u001b[0m \u001b[1;32min\u001b[0m \u001b[1;33m(\u001b[0m\u001b[1;34m'a'\u001b[0m\u001b[1;33m,\u001b[0m \u001b[1;34m'w'\u001b[0m\u001b[1;33m)\u001b[0m\u001b[1;33m:\u001b[0m\u001b[1;33m\u001b[0m\u001b[1;33m\u001b[0m\u001b[0m\n\u001b[0;32m    156\u001b[0m                 \u001b[0mself\u001b[0m\u001b[1;33m.\u001b[0m\u001b[0msession\u001b[0m \u001b[1;33m=\u001b[0m \u001b[0mWritingSession\u001b[0m\u001b[1;33m(\u001b[0m\u001b[1;33m)\u001b[0m\u001b[1;33m\u001b[0m\u001b[1;33m\u001b[0m\u001b[0m\n",
      "\u001b[1;32mfiona/ogrext.pyx\u001b[0m in \u001b[0;36mfiona.ogrext.Session.start\u001b[1;34m()\u001b[0m\n",
      "\u001b[1;32mfiona/_shim.pyx\u001b[0m in \u001b[0;36mfiona._shim.gdal_open_vector\u001b[1;34m()\u001b[0m\n",
      "\u001b[1;31mDriverError\u001b[0m: D:\\Gustavo\\resource_center\\RLIS\\PLACES\\schools.shp: No such file or directory"
     ]
    }
   ],
   "source": [
    "# Shapefile to GeoDataFrame\n",
    "schools = gpd.read_file(os.path.join(root, school_fp))\n",
    "schools.columns = schools.columns.str.lower() # from UPPERCASE to lowercase\n",
    "\n",
    "libraries = gpd.read_file(os.path.join(root, lib_fp))\n",
    "libraries.columns = libraries.columns.str.lower()\n",
    "\n",
    "districts = gpd.read_file(os.path.join(root, districts_fp))\n",
    "districts.columns = districts.columns.str.lower()"
   ]
  },
  {
   "cell_type": "code",
   "execution_count": null,
   "metadata": {},
   "outputs": [],
   "source": [
    "# check the Coordinate system of the geodataframes\n",
    "print(schools.crs)\n",
    "print(libraries.crs)\n",
    "print(districts.crs)"
   ]
  },
  {
   "cell_type": "code",
   "execution_count": null,
   "metadata": {},
   "outputs": [],
   "source": [
    "# re-project zipcode geodataframe:\n",
    "# this is done to be able to...\n",
    "schools = schools.to_crs(epsg=4326)\n",
    "libraries = libraries.to_crs(epsg=4326)\n",
    "districts = districts.to_crs(epsg=4326)\n",
    "\"\"\"Note: re-run abouve cell to verify that the crs's were changed\"\"\""
   ]
  },
  {
   "cell_type": "code",
   "execution_count": null,
   "metadata": {},
   "outputs": [],
   "source": [
    "# check the Coordinate system of the geodataframes\n",
    "print(schools.crs)\n",
    "print(libraries.crs)\n",
    "print(districts.crs)"
   ]
  },
  {
   "cell_type": "markdown",
   "metadata": {},
   "source": [
    "Let's retrieve `Latitude` and `Longitude` from the geometry column in schools"
   ]
  },
  {
   "cell_type": "code",
   "execution_count": null,
   "metadata": {},
   "outputs": [],
   "source": [
    "schools['lon']= schools.geometry.x # Add lon column to geodataframe\n",
    "schools['lat']= schools.geometry.y # Add lon column to geodataframe"
   ]
  },
  {
   "cell_type": "code",
   "execution_count": null,
   "metadata": {},
   "outputs": [],
   "source": [
    "schools.head()\n",
    "# schools.columns"
   ]
  },
  {
   "cell_type": "code",
   "execution_count": null,
   "metadata": {},
   "outputs": [],
   "source": [
    "# Check if variables are GeoDataFrames\n",
    "\n",
    "print(['geometry column exists' for geom in schools.columns if geom == 'geometry'])\n",
    "print(['geometry column exists' for geom in libraries.columns if geom == 'geometry'])\n",
    "print(['geometry column exists' for geom in districts.columns if geom == 'geometry'])"
   ]
  },
  {
   "cell_type": "code",
   "execution_count": null,
   "metadata": {},
   "outputs": [],
   "source": [
    "# Create a index column in school, libraries, zipcode, geodataframes\n",
    "schools['geoid'] = schools.index.astype(str)\n",
    "libraries['geoid'] = libraries.index.astype(str)\n",
    "districts['geoid'] = districts.index.astype(str)\n",
    "\n",
    "# # # select column of interest\n",
    "schools_col= ['geoid', 'name', 'city', 'state', 'zipcode', 'type', 'county', 'geometry', 'lon', 'lat']\n",
    "libraries_col= ['geoid', 'zipcode', 'name', 'address', 'city', 'state',  'geometry']\n",
    "districts_col= ['geoid', 'pop00', 'geometry']\n",
    "\n",
    "# # re-defining the geodataframes\n",
    "schools = schools[schools_col]\n",
    "libraries = libraries[libraries_col]\n",
    "districts = districts[districts_col]\n",
    "\n"
   ]
  },
  {
   "cell_type": "code",
   "execution_count": null,
   "metadata": {},
   "outputs": [],
   "source": [
    "# print the lenght of all geodataframes\n",
    "print(f'lenght of Schools is: {len(schools)}')\n",
    "print(f'Lenght of Libraries is: {len(libraries)}')\n",
    "print(f'Lenght of districts is: {len(districts)}')"
   ]
  },
  {
   "cell_type": "code",
   "execution_count": null,
   "metadata": {},
   "outputs": [],
   "source": [
    "# Get description of the GeoDataFrame districts\n",
    "districts.describe()\n",
    "# districts.shape"
   ]
  },
  {
   "cell_type": "markdown",
   "metadata": {},
   "source": [
    "Based on the description of the districts gdf; we can see how far are the min and the max values for population are from top to bottom quartiles breakpoints. This indicate that are some outliers that are well outside of the mean of most of the distribution.\n",
    "<br>\n",
    "Let's take a closer look at it."
   ]
  },
  {
   "cell_type": "code",
   "execution_count": null,
   "metadata": {},
   "outputs": [],
   "source": [
    "# Create a gdf Sort by population \n",
    "dist_pop = districts.sort_values(by='pop00', ascending=False)\n",
    "dist_pop.head(5).append(dist_pop.tail(5))"
   ]
  },
  {
   "cell_type": "markdown",
   "metadata": {},
   "source": [
    "Let's define min and max values"
   ]
  },
  {
   "cell_type": "code",
   "execution_count": null,
   "metadata": {},
   "outputs": [],
   "source": [
    "# Define min and max values\n",
    "min_, max_ = dist_pop['pop00'].quantile([0.05, 0.95]).apply(lambda x: round(x, 2))\n",
    "\n",
    "# Define Mean value\n",
    "mean = round(dist_pop['pop00'].mean(), 2)\n",
    "\n",
    "# print the min, max and mean values\n",
    "print(f'min: {min_}\\nmax: {max_}\\nMean: {mean}')"
   ]
  },
  {
   "cell_type": "markdown",
   "metadata": {},
   "source": [
    "Let's make a color scale<br>\n",
    "For this case we are going to use a colorscale with a sequential light-to-dark color palette from [ColorBrewer](https://colorbrewer2.org/#type=sequential&scheme=Purples&n=5) website\n",
    "Another great resource is [Folium ColorMap samples](https://notebook.community/ocefpaf/folium/examples/Colormaps)\n"
   ]
  },
  {
   "cell_type": "code",
   "execution_count": 1,
   "metadata": {},
   "outputs": [
    {
     "ename": "NameError",
     "evalue": "name 'min_' is not defined",
     "output_type": "error",
     "traceback": [
      "\u001b[1;31m---------------------------------------------------------------------------\u001b[0m",
      "\u001b[1;31mNameError\u001b[0m                                 Traceback (most recent call last)",
      "\u001b[1;32m<ipython-input-1-b4f2defed85e>\u001b[0m in \u001b[0;36m<module>\u001b[1;34m\u001b[0m\n\u001b[0;32m     13\u001b[0m \u001b[1;31m# Find source and samples in https://notebook.community/ocefpaf/folium/examples/Colormaps\u001b[0m\u001b[1;33m\u001b[0m\u001b[1;33m\u001b[0m\u001b[1;33m\u001b[0m\u001b[0m\n\u001b[0;32m     14\u001b[0m \u001b[1;31m# syntax : branca.colormap.linear.<colorscale>_<#classes>.scale(min_value, max_value)\u001b[0m\u001b[1;33m\u001b[0m\u001b[1;33m\u001b[0m\u001b[1;33m\u001b[0m\u001b[0m\n\u001b[1;32m---> 15\u001b[1;33m \u001b[0mcolormap\u001b[0m \u001b[1;33m=\u001b[0m \u001b[0mbranca\u001b[0m\u001b[1;33m.\u001b[0m\u001b[0mcolormap\u001b[0m\u001b[1;33m.\u001b[0m\u001b[0mlinear\u001b[0m\u001b[1;33m.\u001b[0m\u001b[0mYlGnBu_07\u001b[0m\u001b[1;33m.\u001b[0m\u001b[0mscale\u001b[0m\u001b[1;33m(\u001b[0m\u001b[0mmin_\u001b[0m\u001b[1;33m,\u001b[0m \u001b[0mmax_\u001b[0m\u001b[1;33m)\u001b[0m\u001b[1;33m\u001b[0m\u001b[1;33m\u001b[0m\u001b[0m\n\u001b[0m\u001b[0;32m     16\u001b[0m \u001b[1;33m\u001b[0m\u001b[0m\n\u001b[0;32m     17\u001b[0m \u001b[1;33m\u001b[0m\u001b[0m\n",
      "\u001b[1;31mNameError\u001b[0m: name 'min_' is not defined"
     ]
    }
   ],
   "source": [
    "import branca \n",
    "\n",
    "# Define color pallet\n",
    "color_pallet = ['#f0f9e8','#ccebc5','#a8ddb5','#7bccc4','#4eb3d3', '#2b8cbe', '#08589e']\n",
    "\n",
    "## colormap = branca.colormap.LinearColormap(\n",
    "#     colors= color_pallet,\n",
    "#     index= dist_pop['pop00'].quantile([0.15,0.3,0.45,0.6, 0.7, 0.8]),\n",
    "#     vmin = min_,\n",
    "#     vmax = max_\n",
    "#     )\n",
    "\n",
    "# Find source and samples in https://notebook.community/ocefpaf/folium/examples/Colormaps\n",
    "# syntax : branca.colormap.linear.<colorscale>_<#classes>.scale(min_value, max_value)\n",
    "colormap = branca.colormap.linear.YlGnBu_07.scale(min_, max_) \n",
    "\n",
    "\n",
    "# color bar tittle\n",
    "colormap.caption= 'Population in Portland Oregon in 2010'\n",
    "\n",
    "colormap"
   ]
  },
  {
   "cell_type": "markdown",
   "metadata": {},
   "source": [
    "__Alright__ Time to build a Map<br>\n",
    "Let's start by clustering all the points"
   ]
  },
  {
   "cell_type": "code",
   "execution_count": null,
   "metadata": {},
   "outputs": [],
   "source": [
    "# Create dataframe series from lat and lon columns\n",
    "lat = schools['lat']\n",
    "lon = schools['lon']\n",
    "\n",
    "# Create dataframe series from name, city, state zipcode columns\n",
    "name = schools['name']\n",
    "city = schools['city']\n",
    "state = schools['state']\n",
    "zipcode = schools['zipcode']\n",
    "\n",
    "locations = list(zip(lat, lon)) # list of the lat and lon from the schools gdf\n",
    "\n",
    "naming = list(zip(name, city, state, zipcode)) # list of all name, city, state, zipcode\n",
    "\n",
    "# Create formating for popups to define what to show in each location\n",
    "popups = [f'Name: {name}<br>City: {city}<br>State: {state}<br>Zipcode: {zipcode}' for (name, city, state, zipcode) in naming]"
   ]
  },
  {
   "cell_type": "code",
   "execution_count": null,
   "metadata": {},
   "outputs": [],
   "source": [
    "locations"
   ]
  },
  {
   "cell_type": "markdown",
   "metadata": {},
   "source": [
    "__Let's build the map__"
   ]
  },
  {
   "cell_type": "code",
   "execution_count": null,
   "metadata": {},
   "outputs": [],
   "source": [
    "%%time\n",
    "\n",
    "# Create map instance\n",
    "m = folium.Map(location=[np.mean(lat), np.mean(lon)], width=\"100%\", height=\"100%\", \n",
    "               zoom_start=10, min_zoom= 9, max_zoom=19, \n",
    "               tiles=\"OpenStreetMap\")\n",
    "\n",
    "m"
   ]
  },
  {
   "cell_type": "code",
   "execution_count": null,
   "metadata": {},
   "outputs": [],
   "source": [
    "%%time\n",
    "\n",
    "# Create map instance\n",
    "m = folium.Map(location=[np.mean(lat), np.mean(lon)], width='100%', height='100%',\n",
    "              zoom_start=2, min_zoom=9, max_zoom=19,\n",
    "              tiles= 'cartodbpositron', control_scale=True\n",
    "            )\n",
    "\n",
    "# Define style\n",
    "style_function=lambda x: {\n",
    "    'fillColor': colormap(x['properties']['pop00']),\n",
    "    'color': 'white',\n",
    "    'weight': 2,\n",
    "    'fillOpacity': 0.5\n",
    "    }\n",
    "\n",
    "# Add Population layer to m\n",
    "pop_geo = folium.GeoJson(\n",
    "    dist_pop,\n",
    "    name= 'Districts',\n",
    "    style_function= style_function,\n",
    "    tooltip= folium.GeoJsonTooltip(\n",
    "    fields=['pop00'],\n",
    "    aliases=['Population: '],\n",
    "    localize=True\n",
    "    )\n",
    ").add_to(m)\n",
    "\n",
    "# # # # ======================================== # # # #  \n",
    "# Add marker cluster layer for the schools\n",
    "marker_cluster = MarkerCluster()\n",
    "marker_cluster = folium.plugins.FastMarkerCluster(locations)\n",
    "\n",
    "\n",
    "marker_cluster = MarkerCluster(\n",
    "    locations= locations, popups= popups,\n",
    "    name = 'Schools',\n",
    "    overlay= True,\n",
    "    control= True\n",
    ")\n",
    "\n",
    "# # Adding Schools Seach Bar:\n",
    "# schools_seach = Search(\n",
    "#     layer=schools,\n",
    "#     geom_type='Point',\n",
    "#     placeholder='Seach for schools in Oregon',\n",
    "#     collapsed=True,\n",
    "#     search_label='School_name'\n",
    "# ).add_to(m)\n",
    "\n",
    "# Add marker cluster\n",
    "marker_cluster.add_to(m)\n",
    "\n",
    "# Add layer control\n",
    "colormap.add_to(m)\n",
    "folium.LayerControl().add_to(m)\n",
    "\n",
    "# creates web map with just the map and some interactivity\n",
    "# root2 = r\"C:\\Users\\gcolm\\Documents\\courses\\online\\online_courses\\others\\Geo_python_course\\autoGIS_2019\\lesson_5\"\n",
    "# m.save(os.path.join(root2, 'cluster_schools_in_the_PNW_2.html'))\n",
    "\n",
    "# Display \n",
    "m\n",
    "\n"
   ]
  },
  {
   "cell_type": "code",
   "execution_count": null,
   "metadata": {},
   "outputs": [],
   "source": []
  }
 ],
 "metadata": {
  "kernelspec": {
   "display_name": "anaconda3",
   "language": "python",
   "name": "anaconda3"
  },
  "language_info": {
   "codemirror_mode": {
    "name": "ipython",
    "version": 3
   },
   "file_extension": ".py",
   "mimetype": "text/x-python",
   "name": "python",
   "nbconvert_exporter": "python",
   "pygments_lexer": "ipython3",
   "version": "3.7.6"
  }
 },
 "nbformat": 4,
 "nbformat_minor": 4
}
